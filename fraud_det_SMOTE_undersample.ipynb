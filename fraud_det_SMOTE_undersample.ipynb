{
 "cells": [
  {
   "cell_type": "code",
   "execution_count": null,
   "metadata": {},
   "outputs": [],
   "source": [
    "'''\n",
    "Using imblearn to undersample majority class:\n",
    "Confusion matrix:\n",
    "[6287903   66504]\n",
    "[     16    8197]\n",
    "Best to find FN, so we can catch more frauds.\n",
    "\n",
    "Using imblearn to oversample minority class:\n",
    "Confusion matrix:\n",
    "[6348797    5610]\n",
    "[     23    8190]\n",
    "Best to find FP, but a bit less of FN.\n",
    "\n",
    "Using imblearn to undersample majority class and oversample minority class:\n",
    "Confusion matrix:\n",
    "[[6347371    7036]\n",
    "[      22    8191]\n",
    "Somehow, this is the best of both worlds. We have a bit more FP, but less FN.\n",
    "'''"
   ]
  },
  {
   "cell_type": "code",
   "execution_count": 1,
   "metadata": {},
   "outputs": [],
   "source": [
    "import pandas as pd\n",
    "import seaborn as sns"
   ]
  },
  {
   "cell_type": "code",
   "execution_count": 2,
   "metadata": {},
   "outputs": [],
   "source": [
    "df = pd.read_csv('./data/PS_20174392719_1491204439457_log.csv')"
   ]
  },
  {
   "cell_type": "code",
   "execution_count": 3,
   "metadata": {},
   "outputs": [
    {
     "data": {
      "text/plain": [
       "['PAYMENT', 'TRANSFER', 'CASH_OUT', 'DEBIT', 'CASH_IN']"
      ]
     },
     "execution_count": 3,
     "metadata": {},
     "output_type": "execute_result"
    }
   ],
   "source": [
    "df['type'].unique().tolist()"
   ]
  },
  {
   "cell_type": "code",
   "execution_count": 4,
   "metadata": {},
   "outputs": [
    {
     "data": {
      "text/plain": [
       "0.129248881917699"
      ]
     },
     "execution_count": 4,
     "metadata": {},
     "output_type": "execute_result"
    }
   ],
   "source": [
    "# Only 0,13% of the transactions are fraudulent\n",
    "(df['isFraud'].value_counts()[1]/df['isFraud'].value_counts()[0])*100"
   ]
  },
  {
   "cell_type": "code",
   "execution_count": 4,
   "metadata": {},
   "outputs": [
    {
     "data": {
      "text/plain": [
       "['TRANSFER', 'CASH_OUT']"
      ]
     },
     "execution_count": 4,
     "metadata": {},
     "output_type": "execute_result"
    }
   ],
   "source": [
    "# Data is highly imbalanced with only 0.129% of the transactions being fraudulent, so we need to balance the data\n",
    "# We can see that the fraudulent transactions are only of type 'TRANSFER' and 'CASH_OUT'\n",
    "\n",
    "df[df['isFraud']==1]['type'].unique().tolist()"
   ]
  },
  {
   "cell_type": "code",
   "execution_count": 5,
   "metadata": {},
   "outputs": [
    {
     "data": {
      "text/plain": [
       "<Axes: xlabel='isFraud', ylabel='count'>"
      ]
     },
     "execution_count": 5,
     "metadata": {},
     "output_type": "execute_result"
    },
    {
     "data": {
      "image/png": "[encoded data removed]",
      "text/plain": [
       "<Figure size 640x480 with 1 Axes>"
      ]
     },
     "metadata": {},
     "output_type": "display_data"
    }
   ],
   "source": [
    "sns.countplot(x='isFraud', data=df)"
   ]
  },
  {
   "cell_type": "code",
   "execution_count": 3,
   "metadata": {},
   "outputs": [],
   "source": [
    "# copy first letter of nameDest and to new column\n",
    "df['nameOrig_first'] = df['nameOrig'].str[0]\n",
    "df['nameDest_first'] = df['nameDest'].str[0]\n",
    "\n",
    "# drop columns that are not needed\n",
    "df = df.drop(['step','nameOrig','nameDest'], axis=1)"
   ]
  },
  {
   "cell_type": "code",
   "execution_count": 5,
   "metadata": {},
   "outputs": [
    {
     "name": "stdout",
     "output_type": "stream",
     "text": [
      "(9855, 8) (9855,)\n",
      "(3286, 8) (3286,)\n",
      "(3285, 8) (3285,)\n"
     ]
    }
   ],
   "source": [
    "# Using imbleatn lybrary to balance the data\n",
    "from imblearn.under_sampling import RandomUnderSampler\n",
    "from imblearn.over_sampling import SMOTE\n",
    "from imblearn.combine import SMOTEENN\n",
    "from sklearn.preprocessing import LabelEncoder\n",
    "from sklearn.model_selection import train_test_split\n",
    "\n",
    "# split data into train, test and validation sets\n",
    "X = df.drop(['isFraud', 'isFlaggedFraud'], axis=1)\n",
    "y = df['isFraud']\n",
    "\n",
    "# encode categorical data\n",
    "le = LabelEncoder()\n",
    "columns_to_encode = ['type', 'nameDest_first', 'nameOrig_first']\n",
    "X[columns_to_encode] = X[columns_to_encode].apply(lambda col: le.fit_transform(col))\n",
    "\n",
    "X, y = RandomUnderSampler().fit_resample(X, y)\n",
    "\n",
    "X_train, X_test, y_train, y_test = train_test_split(X, y, test_size=0.2, random_state=42)\n",
    "X_train, X_val, y_train, y_val = train_test_split(X_train, y_train, test_size=0.25, random_state=1)\n",
    "\n",
    "print(X_train.shape, y_train.shape)\n",
    "print(X_test.shape, y_test.shape)\n",
    "print(X_val.shape, y_val.shape)"
   ]
  },
  {
   "cell_type": "code",
   "execution_count": 5,
   "metadata": {},
   "outputs": [
    {
     "data": {
      "text/html": [
       "<div>\n",
       "<style scoped>\n",
       "    .dataframe tbody tr th:only-of-type {\n",
       "        vertical-align: middle;\n",
       "    }\n",
       "\n",
       "    .dataframe tbody tr th {\n",
       "        vertical-align: top;\n",
       "    }\n",
       "\n",
       "    .dataframe thead th {\n",
       "        text-align: right;\n",
       "    }\n",
       "</style>\n",
       "<table border=\"1\" class=\"dataframe\">\n",
       "  <thead>\n",
       "    <tr style=\"text-align: right;\">\n",
       "      <th></th>\n",
       "      <th>type</th>\n",
       "      <th>amount</th>\n",
       "      <th>oldbalanceOrg</th>\n",
       "      <th>newbalanceOrig</th>\n",
       "      <th>oldbalanceDest</th>\n",
       "      <th>newbalanceDest</th>\n",
       "      <th>nameOrig_first</th>\n",
       "      <th>nameDest_first</th>\n",
       "    </tr>\n",
       "  </thead>\n",
       "  <tbody>\n",
       "    <tr>\n",
       "      <th>1779241</th>\n",
       "      <td>3</td>\n",
       "      <td>6385.640000</td>\n",
       "      <td>2.566000e+03</td>\n",
       "      <td>0.0</td>\n",
       "      <td>0.000000e+00</td>\n",
       "      <td>0.000000e+00</td>\n",
       "      <td>0</td>\n",
       "      <td>1</td>\n",
       "    </tr>\n",
       "    <tr>\n",
       "      <th>11361671</th>\n",
       "      <td>1</td>\n",
       "      <td>426288.581318</td>\n",
       "      <td>4.262886e+05</td>\n",
       "      <td>0.0</td>\n",
       "      <td>1.404453e+06</td>\n",
       "      <td>1.830741e+06</td>\n",
       "      <td>0</td>\n",
       "      <td>0</td>\n",
       "    </tr>\n",
       "    <tr>\n",
       "      <th>1398126</th>\n",
       "      <td>4</td>\n",
       "      <td>247806.100000</td>\n",
       "      <td>0.000000e+00</td>\n",
       "      <td>0.0</td>\n",
       "      <td>1.682161e+06</td>\n",
       "      <td>1.929967e+06</td>\n",
       "      <td>0</td>\n",
       "      <td>0</td>\n",
       "    </tr>\n",
       "    <tr>\n",
       "      <th>493161</th>\n",
       "      <td>3</td>\n",
       "      <td>14050.680000</td>\n",
       "      <td>2.172000e+03</td>\n",
       "      <td>0.0</td>\n",
       "      <td>0.000000e+00</td>\n",
       "      <td>0.000000e+00</td>\n",
       "      <td>0</td>\n",
       "      <td>1</td>\n",
       "    </tr>\n",
       "    <tr>\n",
       "      <th>1369160</th>\n",
       "      <td>0</td>\n",
       "      <td>67643.280000</td>\n",
       "      <td>4.861084e+06</td>\n",
       "      <td>4928726.9</td>\n",
       "      <td>9.993275e+06</td>\n",
       "      <td>9.925632e+06</td>\n",
       "      <td>0</td>\n",
       "      <td>0</td>\n",
       "    </tr>\n",
       "  </tbody>\n",
       "</table>\n",
       "</div>"
      ],
      "text/plain": [
       "          type         amount  oldbalanceOrg  newbalanceOrig  oldbalanceDest  \\\n",
       "1779241      3    6385.640000   2.566000e+03             0.0    0.000000e+00   \n",
       "11361671     1  426288.581318   4.262886e+05             0.0    1.404453e+06   \n",
       "1398126      4  247806.100000   0.000000e+00             0.0    1.682161e+06   \n",
       "493161       3   14050.680000   2.172000e+03             0.0    0.000000e+00   \n",
       "1369160      0   67643.280000   4.861084e+06       4928726.9    9.993275e+06   \n",
       "\n",
       "          newbalanceDest  nameOrig_first  nameDest_first  \n",
       "1779241     0.000000e+00               0               1  \n",
       "11361671    1.830741e+06               0               0  \n",
       "1398126     1.929967e+06               0               0  \n",
       "493161      0.000000e+00               0               1  \n",
       "1369160     9.925632e+06               0               0  "
      ]
     },
     "execution_count": 5,
     "metadata": {},
     "output_type": "execute_result"
    }
   ],
   "source": [
    "X_train.head()"
   ]
  },
  {
   "cell_type": "code",
   "execution_count": 8,
   "metadata": {},
   "outputs": [
    {
     "data": {
      "text/html": [
       "<style>#sk-container-id-1 {color: black;background-color: white;}#sk-container-id-1 pre{padding: 0;}#sk-container-id-1 div.sk-toggleable {background-color: white;}#sk-container-id-1 label.sk-toggleable__label {cursor: pointer;display: block;width: 100%;margin-bottom: 0;padding: 0.3em;box-sizing: border-box;text-align: center;}#sk-container-id-1 label.sk-toggleable__label-arrow:before {content: \"▸\";float: left;margin-right: 0.25em;color: #696969;}#sk-container-id-1 label.sk-toggleable__label-arrow:hover:before {color: black;}#sk-container-id-1 div.sk-estimator:hover label.sk-toggleable__label-arrow:before {color: black;}#sk-container-id-1 div.sk-toggleable__content {max-height: 0;max-width: 0;overflow: hidden;text-align: left;background-color: #f0f8ff;}#sk-container-id-1 div.sk-toggleable__content pre {margin: 0.2em;color: black;border-radius: 0.25em;background-color: #f0f8ff;}#sk-container-id-1 input.sk-toggleable__control:checked~div.sk-toggleable__content {max-height: 200px;max-width: 100%;overflow: auto;}#sk-container-id-1 input.sk-toggleable__control:checked~label.sk-toggleable__label-arrow:before {content: \"▾\";}#sk-container-id-1 div.sk-estimator input.sk-toggleable__control:checked~label.sk-toggleable__label {background-color: #d4ebff;}#sk-container-id-1 div.sk-label input.sk-toggleable__control:checked~label.sk-toggleable__label {background-color: #d4ebff;}#sk-container-id-1 input.sk-hidden--visually {border: 0;clip: rect(1px 1px 1px 1px);clip: rect(1px, 1px, 1px, 1px);height: 1px;margin: -1px;overflow: hidden;padding: 0;position: absolute;width: 1px;}#sk-container-id-1 div.sk-estimator {font-family: monospace;background-color: #f0f8ff;border: 1px dotted black;border-radius: 0.25em;box-sizing: border-box;margin-bottom: 0.5em;}#sk-container-id-1 div.sk-estimator:hover {background-color: #d4ebff;}#sk-container-id-1 div.sk-parallel-item::after {content: \"\";width: 100%;border-bottom: 1px solid gray;flex-grow: 1;}#sk-container-id-1 div.sk-label:hover label.sk-toggleable__label {background-color: #d4ebff;}#sk-container-id-1 div.sk-serial::before {content: \"\";position: absolute;border-left: 1px solid gray;box-sizing: border-box;top: 0;bottom: 0;left: 50%;z-index: 0;}#sk-container-id-1 div.sk-serial {display: flex;flex-direction: column;align-items: center;background-color: white;padding-right: 0.2em;padding-left: 0.2em;position: relative;}#sk-container-id-1 div.sk-item {position: relative;z-index: 1;}#sk-container-id-1 div.sk-parallel {display: flex;align-items: stretch;justify-content: center;background-color: white;position: relative;}#sk-container-id-1 div.sk-item::before, #sk-container-id-1 div.sk-parallel-item::before {content: \"\";position: absolute;border-left: 1px solid gray;box-sizing: border-box;top: 0;bottom: 0;left: 50%;z-index: -1;}#sk-container-id-1 div.sk-parallel-item {display: flex;flex-direction: column;z-index: 1;position: relative;background-color: white;}#sk-container-id-1 div.sk-parallel-item:first-child::after {align-self: flex-end;width: 50%;}#sk-container-id-1 div.sk-parallel-item:last-child::after {align-self: flex-start;width: 50%;}#sk-container-id-1 div.sk-parallel-item:only-child::after {width: 0;}#sk-container-id-1 div.sk-dashed-wrapped {border: 1px dashed gray;margin: 0 0.4em 0.5em 0.4em;box-sizing: border-box;padding-bottom: 0.4em;background-color: white;}#sk-container-id-1 div.sk-label label {font-family: monospace;font-weight: bold;display: inline-block;line-height: 1.2em;}#sk-container-id-1 div.sk-label-container {text-align: center;}#sk-container-id-1 div.sk-container {/* jupyter's `normalize.less` sets `[hidden] { display: none; }` but bootstrap.min.css set `[hidden] { display: none !important; }` so we also need the `!important` here to be able to override the default hidden behavior on the sphinx rendered scikit-learn.org. See: https://github.com/scikit-learn/scikit-learn/issues/21755 */display: inline-block !important;position: relative;}#sk-container-id-1 div.sk-text-repr-fallback {display: none;}</style><div id=\"sk-container-id-1\" class=\"sk-top-container\"><div class=\"sk-text-repr-fallback\"><pre>XGBClassifier(base_score=None, booster=None, callbacks=None,\n",
       "              colsample_bylevel=None, colsample_bynode=None,\n",
       "              colsample_bytree=None, early_stopping_rounds=None,\n",
       "              enable_categorical=False, eval_metric=None, feature_types=None,\n",
       "              gamma=None, gpu_id=None, grow_policy=None, importance_type=None,\n",
       "              interaction_constraints=None, learning_rate=None, max_bin=None,\n",
       "              max_cat_threshold=None, max_cat_to_onehot=None,\n",
       "              max_delta_step=None, max_depth=None, max_leaves=None,\n",
       "              min_child_weight=None, missing=nan, monotone_constraints=None,\n",
       "              n_estimators=100, n_jobs=None, num_parallel_tree=None,\n",
       "              predictor=None, random_state=None, ...)</pre><b>In a Jupyter environment, please rerun this cell to show the HTML representation or trust the notebook. <br />On GitHub, the HTML representation is unable to render, please try loading this page with nbviewer.org.</b></div><div class=\"sk-container\" hidden><div class=\"sk-item\"><div class=\"sk-estimator sk-toggleable\"><input class=\"sk-toggleable__control sk-hidden--visually\" id=\"sk-estimator-id-1\" type=\"checkbox\" checked><label for=\"sk-estimator-id-1\" class=\"sk-toggleable__label sk-toggleable__label-arrow\">XGBClassifier</label><div class=\"sk-toggleable__content\"><pre>XGBClassifier(base_score=None, booster=None, callbacks=None,\n",
       "              colsample_bylevel=None, colsample_bynode=None,\n",
       "              colsample_bytree=None, early_stopping_rounds=None,\n",
       "              enable_categorical=False, eval_metric=None, feature_types=None,\n",
       "              gamma=None, gpu_id=None, grow_policy=None, importance_type=None,\n",
       "              interaction_constraints=None, learning_rate=None, max_bin=None,\n",
       "              max_cat_threshold=None, max_cat_to_onehot=None,\n",
       "              max_delta_step=None, max_depth=None, max_leaves=None,\n",
       "              min_child_weight=None, missing=nan, monotone_constraints=None,\n",
       "              n_estimators=100, n_jobs=None, num_parallel_tree=None,\n",
       "              predictor=None, random_state=None, ...)</pre></div></div></div></div></div>"
      ],
      "text/plain": [
       "XGBClassifier(base_score=None, booster=None, callbacks=None,\n",
       "              colsample_bylevel=None, colsample_bynode=None,\n",
       "              colsample_bytree=None, early_stopping_rounds=None,\n",
       "              enable_categorical=False, eval_metric=None, feature_types=None,\n",
       "              gamma=None, gpu_id=None, grow_policy=None, importance_type=None,\n",
       "              interaction_constraints=None, learning_rate=None, max_bin=None,\n",
       "              max_cat_threshold=None, max_cat_to_onehot=None,\n",
       "              max_delta_step=None, max_depth=None, max_leaves=None,\n",
       "              min_child_weight=None, missing=nan, monotone_constraints=None,\n",
       "              n_estimators=100, n_jobs=None, num_parallel_tree=None,\n",
       "              predictor=None, random_state=None, ...)"
      ]
     },
     "execution_count": 8,
     "metadata": {},
     "output_type": "execute_result"
    }
   ],
   "source": [
    "#based on the output of LazyClassifier, we can see that the best performing model is XGBClassifier\n",
    "from xgboost import XGBClassifier\n",
    "xgb_clf = XGBClassifier()\n",
    "xgb_clf.fit(X_train, y_train)"
   ]
  },
  {
   "cell_type": "code",
   "execution_count": 9,
   "metadata": {},
   "outputs": [
    {
     "name": "stdout",
     "output_type": "stream",
     "text": [
      "Precision:  0.9987074350413337\n",
      "Recall:  0.9993851623376112\n",
      "F1:  0.9990461837512837\n",
      "ROC AUC:  0.9990431078233024\n"
     ]
    }
   ],
   "source": [
    "# On test data\n",
    "from sklearn.metrics import accuracy_score, mean_squared_error, precision_score, recall_score, f1_score, log_loss, roc_auc_score, confusion_matrix\n",
    "\n",
    "y_pred = xgb_clf.predict(X_test)\n",
    "print('Precision: ', precision_score(y_test, y_pred))\n",
    "print('Recall: ', recall_score(y_test, y_pred))\n",
    "print('F1: ', f1_score(y_test, y_pred))\n",
    "print('ROC AUC: ', roc_auc_score(y_test, y_pred))"
   ]
  },
  {
   "cell_type": "code",
   "execution_count": 12,
   "metadata": {},
   "outputs": [
    {
     "name": "stdout",
     "output_type": "stream",
     "text": [
      "[[1263228    1643]\n",
      " [    781 1269473]]\n"
     ]
    },
    {
     "data": {
      "image/png": "[encoded data removed]",
      "text/plain": [
       "<Figure size 640x480 with 2 Axes>"
      ]
     },
     "metadata": {},
     "output_type": "display_data"
    }
   ],
   "source": [
    "# Confusion Matrix\n",
    "sns.heatmap(confusion_matrix(y_test, y_pred, normalize='true'), annot=True)\n",
    "print(confusion_matrix(y_test, y_pred))"
   ]
  },
  {
   "cell_type": "code",
   "execution_count": 10,
   "metadata": {},
   "outputs": [
    {
     "name": "stdout",
     "output_type": "stream",
     "text": [
      "Precision:  0.9986884399284232\n",
      "Recall:  0.9993705568720379\n",
      "F1:  0.9990293819663499\n",
      "ROC AUC:  0.9990271700748825\n"
     ]
    }
   ],
   "source": [
    "# On validation data\n",
    "from sklearn.metrics import accuracy_score, mean_squared_error, precision_score, recall_score, f1_score, log_loss, roc_auc_score, confusion_matrix\n",
    "\n",
    "y_predval = xgb_clf.predict(X_val)\n",
    "print('Precision: ', precision_score(y_val, y_predval))\n",
    "print('Recall: ', recall_score(y_val, y_predval))\n",
    "print('F1: ', f1_score(y_val, y_predval))\n",
    "print('ROC AUC: ', roc_auc_score(y_val, y_predval))"
   ]
  },
  {
   "cell_type": "code",
   "execution_count": 11,
   "metadata": {},
   "outputs": [
    {
     "name": "stdout",
     "output_type": "stream",
     "text": [
      "[[1264083    1666]\n",
      " [    799 1268577]]\n"
     ]
    },
    {
     "data": {
      "image/png": "[encoded data removed]",
      "text/plain": [
       "<Figure size 640x480 with 2 Axes>"
      ]
     },
     "metadata": {},
     "output_type": "display_data"
    }
   ],
   "source": [
    "# Confusion Matrix\n",
    "sns.heatmap(confusion_matrix(y_val, y_predval, normalize='true'), annot=True)\n",
    "print(confusion_matrix(y_val, y_predval))"
   ]
  },
  {
   "cell_type": "code",
   "execution_count": 6,
   "metadata": {},
   "outputs": [],
   "source": [
    "# let's try to improve the model by tuning the hyperparameters\n",
    "# import optuna\n",
    "import optuna\n",
    "from xgboost import XGBClassifier\n",
    "from sklearn.metrics import accuracy_score, mean_squared_error, precision_score, recall_score, f1_score, log_loss, roc_auc_score, confusion_matrix\n",
    "\n",
    "# define objective function with hyperparameters for XGBoost\n",
    "\n",
    "def objective(trial):\n",
    "    X = X_train\n",
    "    y = y_train\n",
    "\n",
    "    params = {\n",
    "        'n_estimators': trial.suggest_int('n_estimators', 100, 1000),\n",
    "        'max_depth': trial.suggest_int('max_depth', 3, 10),\n",
    "        'learning_rate': trial.suggest_float('learning_rate', 0.01, 0.1),\n",
    "        'subsample': trial.suggest_float('subsample', 0.01, 1.0),\n",
    "        'colsample_bytree': trial.suggest_float('subsample', 0.01, 1.0),\n",
    "        'gamma': trial.suggest_int('gamma', 0, 10),\n",
    "        'min_child_weight': trial.suggest_int('min_child_weight', 1, 10),\n",
    "        'tree_method': 'gpu_hist',\n",
    "    }\n",
    "\n",
    "    XGB_clf = XGBClassifier(**params)\n",
    "    XGB_clf.fit(X, y)\n",
    "    y_prediction = XGB_clf.predict(X_val)\n",
    "    score = f1_score(y_val, y_prediction)\n",
    "    return score"
   ]
  },
  {
   "cell_type": "code",
   "execution_count": 7,
   "metadata": {},
   "outputs": [
    {
     "name": "stderr",
     "output_type": "stream",
     "text": [
      "[I 2023-10-17 17:58:49,463] A new study created in memory with name: no-name-eaef1bca-8e57-4d5e-b75c-6b8dc94c8b13\n"
     ]
    },
    {
     "data": {
      "application/vnd.jupyter.widget-view+json": {
       "model_id": "1f834c24495541199edb54f6973bdebc",
       "version_major": 2,
       "version_minor": 0
      },
      "text/plain": [
       "  0%|          | 0/50 [00:00<?, ?it/s]"
      ]
     },
     "metadata": {},
     "output_type": "display_data"
    },
    {
     "name": "stdout",
     "output_type": "stream",
     "text": [
      "[I 2023-10-17 17:58:50,774] Trial 0 finished with value: 0.9838167938931297 and parameters: {'n_estimators': 539, 'max_depth': 6, 'learning_rate': 0.058197518015835774, 'subsample': 0.5640873663475682, 'gamma': 2, 'min_child_weight': 7}. Best is trial 0 with value: 0.9838167938931297.\n",
      "[I 2023-10-17 17:58:52,037] Trial 1 finished with value: 0.9653284671532847 and parameters: {'n_estimators': 966, 'max_depth': 5, 'learning_rate': 0.0946431828508867, 'subsample': 0.09728809951578957, 'gamma': 0, 'min_child_weight': 10}. Best is trial 0 with value: 0.9838167938931297.\n",
      "[I 2023-10-17 17:58:53,143] Trial 2 finished with value: 0.9847188264058679 and parameters: {'n_estimators': 983, 'max_depth': 8, 'learning_rate': 0.05636328667971511, 'subsample': 0.9126740327386496, 'gamma': 2, 'min_child_weight': 9}. Best is trial 2 with value: 0.9847188264058679.\n",
      "[I 2023-10-17 17:58:53,892] Trial 3 finished with value: 0.9521487351417252 and parameters: {'n_estimators': 820, 'max_depth': 6, 'learning_rate': 0.08143261344334568, 'subsample': 0.05078086048248623, 'gamma': 5, 'min_child_weight': 10}. Best is trial 2 with value: 0.9847188264058679.\n",
      "[I 2023-10-17 17:58:54,864] Trial 4 finished with value: 0.9850198715988994 and parameters: {'n_estimators': 605, 'max_depth': 10, 'learning_rate': 0.04606718596369766, 'subsample': 0.7411875467952126, 'gamma': 2, 'min_child_weight': 8}. Best is trial 4 with value: 0.9850198715988994.\n",
      "[I 2023-10-17 17:58:55,097] Trial 5 finished with value: 0.9820067093626105 and parameters: {'n_estimators': 117, 'max_depth': 7, 'learning_rate': 0.07764801014939066, 'subsample': 0.765820476572965, 'gamma': 10, 'min_child_weight': 6}. Best is trial 4 with value: 0.9850198715988994.\n",
      "[I 2023-10-17 17:58:55,861] Trial 6 finished with value: 0.9724992444847386 and parameters: {'n_estimators': 404, 'max_depth': 5, 'learning_rate': 0.030075267083605847, 'subsample': 0.3718109332110344, 'gamma': 2, 'min_child_weight': 5}. Best is trial 4 with value: 0.9850198715988994.\n",
      "[I 2023-10-17 17:58:56,216] Trial 7 finished with value: 0.9757428744693754 and parameters: {'n_estimators': 201, 'max_depth': 4, 'learning_rate': 0.043096249089023264, 'subsample': 0.4498545214287562, 'gamma': 7, 'min_child_weight': 8}. Best is trial 4 with value: 0.9850198715988994.\n",
      "[I 2023-10-17 17:58:57,195] Trial 8 finished with value: 0.9832061068702289 and parameters: {'n_estimators': 528, 'max_depth': 10, 'learning_rate': 0.030628905056256317, 'subsample': 0.8846125523352647, 'gamma': 3, 'min_child_weight': 9}. Best is trial 4 with value: 0.9850198715988994.\n",
      "[I 2023-10-17 17:58:58,069] Trial 9 finished with value: 0.982627247790308 and parameters: {'n_estimators': 719, 'max_depth': 8, 'learning_rate': 0.059889325882765125, 'subsample': 0.4592017221304718, 'gamma': 4, 'min_child_weight': 3}. Best is trial 4 with value: 0.9850198715988994.\n",
      "[I 2023-10-17 17:58:59,032] Trial 10 finished with value: 0.9805589307411908 and parameters: {'n_estimators': 318, 'max_depth': 10, 'learning_rate': 0.011812380997614412, 'subsample': 0.6997730399133117, 'gamma': 7, 'min_child_weight': 1}. Best is trial 4 with value: 0.9850198715988994.\n",
      "[I 2023-10-17 17:59:01,217] Trial 11 finished with value: 0.9868380777471688 and parameters: {'n_estimators': 751, 'max_depth': 9, 'learning_rate': 0.052526972848666004, 'subsample': 0.9288226082708957, 'gamma': 0, 'min_child_weight': 8}. Best is trial 11 with value: 0.9868380777471688.\n",
      "[I 2023-10-17 17:59:03,507] Trial 12 finished with value: 0.9880478087649402 and parameters: {'n_estimators': 719, 'max_depth': 9, 'learning_rate': 0.04404799784815282, 'subsample': 0.967902575619997, 'gamma': 0, 'min_child_weight': 5}. Best is trial 12 with value: 0.9880478087649402.\n",
      "[I 2023-10-17 17:59:04,401] Trial 13 finished with value: 0.9868300153139358 and parameters: {'n_estimators': 772, 'max_depth': 8, 'learning_rate': 0.07046787630824858, 'subsample': 0.9900426212899529, 'gamma': 1, 'min_child_weight': 4}. Best is trial 12 with value: 0.9880478087649402.\n",
      "[I 2023-10-17 17:59:06,565] Trial 14 finished with value: 0.9871402327005512 and parameters: {'n_estimators': 672, 'max_depth': 9, 'learning_rate': 0.039284829293500315, 'subsample': 0.998669637800609, 'gamma': 0, 'min_child_weight': 6}. Best is trial 12 with value: 0.9880478087649402.\n",
      "[I 2023-10-17 17:59:08,900] Trial 15 finished with value: 0.9886607416487895 and parameters: {'n_estimators': 649, 'max_depth': 9, 'learning_rate': 0.03583357489203198, 'subsample': 0.992976356925343, 'gamma': 0, 'min_child_weight': 3}. Best is trial 15 with value: 0.9886607416487895.\n",
      "[I 2023-10-17 17:59:09,538] Trial 16 finished with value: 0.9796290665855882 and parameters: {'n_estimators': 451, 'max_depth': 3, 'learning_rate': 0.025531539846016894, 'subsample': 0.8280352325913859, 'gamma': 7, 'min_child_weight': 2}. Best is trial 15 with value: 0.9886607416487895.\n",
      "[I 2023-10-17 17:59:11,074] Trial 17 finished with value: 0.9844179651695691 and parameters: {'n_estimators': 863, 'max_depth': 9, 'learning_rate': 0.017004778619545125, 'subsample': 0.8247453539006918, 'gamma': 4, 'min_child_weight': 4}. Best is trial 15 with value: 0.9886607416487895.\n",
      "[I 2023-10-17 17:59:11,872] Trial 18 finished with value: 0.9814194334450198 and parameters: {'n_estimators': 630, 'max_depth': 7, 'learning_rate': 0.03715112121800609, 'subsample': 0.6748154893600916, 'gamma': 10, 'min_child_weight': 3}. Best is trial 15 with value: 0.9886607416487895.\n",
      "[I 2023-10-17 17:59:13,542] Trial 19 finished with value: 0.9889773423147582 and parameters: {'n_estimators': 879, 'max_depth': 9, 'learning_rate': 0.02216130304689616, 'subsample': 0.9981939896076343, 'gamma': 1, 'min_child_weight': 1}. Best is trial 19 with value: 0.9889773423147582.\n",
      "[I 2023-10-17 17:59:15,207] Trial 20 finished with value: 0.9886676875957121 and parameters: {'n_estimators': 851, 'max_depth': 8, 'learning_rate': 0.023271450540424586, 'subsample': 0.8461054872394048, 'gamma': 1, 'min_child_weight': 1}. Best is trial 19 with value: 0.9889773423147582.\n",
      "[I 2023-10-17 17:59:16,990] Trial 21 finished with value: 0.9886676875957121 and parameters: {'n_estimators': 898, 'max_depth': 8, 'learning_rate': 0.02191201025421239, 'subsample': 0.8671712633479711, 'gamma': 1, 'min_child_weight': 1}. Best is trial 19 with value: 0.9889773423147582.\n",
      "[I 2023-10-17 17:59:18,871] Trial 22 finished with value: 0.9889705882352942 and parameters: {'n_estimators': 939, 'max_depth': 8, 'learning_rate': 0.020280855323614642, 'subsample': 0.8576528954346582, 'gamma': 1, 'min_child_weight': 1}. Best is trial 19 with value: 0.9889773423147582.\n",
      "[I 2023-10-17 17:59:20,485] Trial 23 finished with value: 0.9859499083689677 and parameters: {'n_estimators': 896, 'max_depth': 7, 'learning_rate': 0.015601952446825766, 'subsample': 0.8202353580041754, 'gamma': 3, 'min_child_weight': 1}. Best is trial 19 with value: 0.9889773423147582.\n",
      "[I 2023-10-17 17:59:22,239] Trial 24 finished with value: 0.9883649724433557 and parameters: {'n_estimators': 941, 'max_depth': 8, 'learning_rate': 0.021775425595429793, 'subsample': 0.8940938172214535, 'gamma': 1, 'min_child_weight': 2}. Best is trial 19 with value: 0.9889773423147582.\n",
      "[I 2023-10-17 17:59:24,013] Trial 25 finished with value: 0.9865607819181429 and parameters: {'n_estimators': 817, 'max_depth': 7, 'learning_rate': 0.012846539989186959, 'subsample': 0.6477618195439877, 'gamma': 3, 'min_child_weight': 2}. Best is trial 19 with value: 0.9889773423147582.\n",
      "[I 2023-10-17 17:59:25,544] Trial 26 finished with value: 0.9883649724433557 and parameters: {'n_estimators': 837, 'max_depth': 8, 'learning_rate': 0.029582124946788455, 'subsample': 0.7975278855582861, 'gamma': 1, 'min_child_weight': 1}. Best is trial 19 with value: 0.9889773423147582.\n",
      "[I 2023-10-17 17:59:27,512] Trial 27 finished with value: 0.9850472993591699 and parameters: {'n_estimators': 908, 'max_depth': 10, 'learning_rate': 0.010468123066456711, 'subsample': 0.9157382886434502, 'gamma': 5, 'min_child_weight': 2}. Best is trial 19 with value: 0.9889773423147582.\n",
      "[I 2023-10-17 17:59:28,867] Trial 28 finished with value: 0.9844179651695691 and parameters: {'n_estimators': 997, 'max_depth': 6, 'learning_rate': 0.022760752365910183, 'subsample': 0.7180038091902792, 'gamma': 4, 'min_child_weight': 4}. Best is trial 19 with value: 0.9889773423147582.\n",
      "[I 2023-10-17 17:59:29,974] Trial 29 finished with value: 0.9820614168440255 and parameters: {'n_estimators': 553, 'max_depth': 9, 'learning_rate': 0.01893738083668303, 'subsample': 0.583615735310443, 'gamma': 6, 'min_child_weight': 1}. Best is trial 19 with value: 0.9889773423147582.\n",
      "[I 2023-10-17 17:59:31,427] Trial 30 finished with value: 0.9874579382074028 and parameters: {'n_estimators': 786, 'max_depth': 7, 'learning_rate': 0.02691034864112205, 'subsample': 0.8476060719585998, 'gamma': 1, 'min_child_weight': 2}. Best is trial 19 with value: 0.9889773423147582.\n",
      "[I 2023-10-17 17:59:33,225] Trial 31 finished with value: 0.9874579382074028 and parameters: {'n_estimators': 895, 'max_depth': 8, 'learning_rate': 0.02015774257849403, 'subsample': 0.8828121211543453, 'gamma': 1, 'min_child_weight': 1}. Best is trial 19 with value: 0.9889773423147582.\n",
      "[I 2023-10-17 17:59:34,753] Trial 32 finished with value: 0.9880624426078972 and parameters: {'n_estimators': 939, 'max_depth': 8, 'learning_rate': 0.022802144806493053, 'subsample': 0.769990286355564, 'gamma': 2, 'min_child_weight': 1}. Best is trial 19 with value: 0.9889773423147582.\n",
      "[I 2023-10-17 17:59:36,502] Trial 33 finished with value: 0.9883649724433557 and parameters: {'n_estimators': 858, 'max_depth': 9, 'learning_rate': 0.016475642651140085, 'subsample': 0.9343186117816806, 'gamma': 2, 'min_child_weight': 3}. Best is trial 19 with value: 0.9889773423147582.\n",
      "[I 2023-10-17 17:59:38,031] Trial 34 finished with value: 0.9886676875957121 and parameters: {'n_estimators': 990, 'max_depth': 8, 'learning_rate': 0.032085342015672376, 'subsample': 0.8626642350822182, 'gamma': 1, 'min_child_weight': 2}. Best is trial 19 with value: 0.9889773423147582.\n",
      "[I 2023-10-17 17:59:40,107] Trial 35 finished with value: 0.9859499083689677 and parameters: {'n_estimators': 901, 'max_depth': 7, 'learning_rate': 0.010099331638224778, 'subsample': 0.7738601873495521, 'gamma': 3, 'min_child_weight': 1}. Best is trial 19 with value: 0.9889773423147582.\n",
      "[I 2023-10-17 17:59:42,655] Trial 36 finished with value: 0.9892736745326387 and parameters: {'n_estimators': 950, 'max_depth': 6, 'learning_rate': 0.026628183457994305, 'subsample': 0.9472701500342134, 'gamma': 0, 'min_child_weight': 2}. Best is trial 36 with value: 0.9892736745326387.\n",
      "[I 2023-10-17 17:59:45,216] Trial 37 finished with value: 0.9895833333333334 and parameters: {'n_estimators': 955, 'max_depth': 6, 'learning_rate': 0.025918490843308425, 'subsample': 0.9489427258507968, 'gamma': 0, 'min_child_weight': 2}. Best is trial 37 with value: 0.9895833333333334.\n",
      "[I 2023-10-17 17:59:47,404] Trial 38 finished with value: 0.9874502601775329 and parameters: {'n_estimators': 955, 'max_depth': 5, 'learning_rate': 0.0340456919229785, 'subsample': 0.9412119998782424, 'gamma': 0, 'min_child_weight': 3}. Best is trial 37 with value: 0.9895833333333334.\n",
      "[I 2023-10-17 17:59:50,075] Trial 39 finished with value: 0.9892736745326387 and parameters: {'n_estimators': 997, 'max_depth': 6, 'learning_rate': 0.0295936647352861, 'subsample': 0.9458946189137307, 'gamma': 0, 'min_child_weight': 2}. Best is trial 37 with value: 0.9895833333333334.\n",
      "[I 2023-10-17 17:59:52,830] Trial 40 finished with value: 0.9877450980392156 and parameters: {'n_estimators': 988, 'max_depth': 6, 'learning_rate': 0.02679071409173743, 'subsample': 0.9559442751497684, 'gamma': 0, 'min_child_weight': 4}. Best is trial 37 with value: 0.9895833333333334.\n",
      "[I 2023-10-17 17:59:53,834] Trial 41 finished with value: 0.9817518248175183 and parameters: {'n_estimators': 936, 'max_depth': 5, 'learning_rate': 0.029334373692027873, 'subsample': 0.9300638394999774, 'gamma': 9, 'min_child_weight': 2}. Best is trial 37 with value: 0.9895833333333334.\n",
      "[I 2023-10-17 17:59:54,960] Trial 42 finished with value: 0.9853479853479854 and parameters: {'n_estimators': 950, 'max_depth': 6, 'learning_rate': 0.03411356925372218, 'subsample': 0.9959051908762175, 'gamma': 2, 'min_child_weight': 2}. Best is trial 37 with value: 0.9895833333333334.\n",
      "[I 2023-10-17 17:59:56,911] Trial 43 finished with value: 0.9883578431372548 and parameters: {'n_estimators': 997, 'max_depth': 4, 'learning_rate': 0.026286139526845328, 'subsample': 0.8961184453082566, 'gamma': 0, 'min_child_weight': 3}. Best is trial 37 with value: 0.9895833333333334.\n",
      "[I 2023-10-17 17:59:58,395] Trial 44 finished with value: 0.9859499083689677 and parameters: {'n_estimators': 800, 'max_depth': 6, 'learning_rate': 0.01552859971198718, 'subsample': 0.9539892820150365, 'gamma': 2, 'min_child_weight': 2}. Best is trial 37 with value: 0.9895833333333334.\n",
      "[I 2023-10-17 18:00:00,095] Trial 45 finished with value: 0.9859327217125382 and parameters: {'n_estimators': 731, 'max_depth': 5, 'learning_rate': 0.038885633619023634, 'subsample': 0.740343917394209, 'gamma': 0, 'min_child_weight': 7}. Best is trial 37 with value: 0.9895833333333334.\n",
      "[I 2023-10-17 18:00:01,948] Trial 46 finished with value: 0.9859241126070992 and parameters: {'n_estimators': 872, 'max_depth': 4, 'learning_rate': 0.01862034047610347, 'subsample': 0.9038285519157148, 'gamma': 0, 'min_child_weight': 5}. Best is trial 37 with value: 0.9895833333333334.\n",
      "[I 2023-10-17 18:00:03,199] Trial 47 finished with value: 0.9874579382074028 and parameters: {'n_estimators': 924, 'max_depth': 6, 'learning_rate': 0.03270726655363346, 'subsample': 0.9509090565919749, 'gamma': 1, 'min_child_weight': 3}. Best is trial 37 with value: 0.9895833333333334.\n",
      "[I 2023-10-17 18:00:04,324] Trial 48 finished with value: 0.986854173035769 and parameters: {'n_estimators': 963, 'max_depth': 5, 'learning_rate': 0.04115860713854319, 'subsample': 0.7987237782687331, 'gamma': 2, 'min_child_weight': 1}. Best is trial 37 with value: 0.9895833333333334.\n",
      "[I 2023-10-17 18:00:05,004] Trial 49 finished with value: 0.9877600979192166 and parameters: {'n_estimators': 229, 'max_depth': 6, 'learning_rate': 0.045506728385221296, 'subsample': 0.9968646856494332, 'gamma': 0, 'min_child_weight': 2}. Best is trial 37 with value: 0.9895833333333334.\n"
     ]
    }
   ],
   "source": [
    "study = optuna.create_study(direction='maximize')\n",
    "#study.optimize(lambda trial: objective(trial, X_train, y_train, X_val, y_val), n_trials=50, show_progress_bar=True)\n",
    "study.optimize(objective, n_trials=50, show_progress_bar=True)"
   ]
  },
  {
   "cell_type": "code",
   "execution_count": 18,
   "metadata": {},
   "outputs": [
    {
     "data": {
      "application/vnd.plotly.v1+json": {
       "config": {
        "plotlyServerURL": "https://plot.ly"
       },
       "data": [
        {
         "mode": "markers",
         "name": "Objective Value",
         "type": "scatter",
         "x": [
          0,
          1,
          2,
          3,
          4,
          5,
          6,
          7,
          8,
          9,
          10,
          11,
          12,
          13,
          14,
          15,
          16,
          17,
          18,
          19,
          20,
          21,
          22,
          23,
          24,
          25,
          26,
          27,
          28,
          29,
          30,
          31,
          32,
          33,
          34,
          35,
          36,
          37,
          38,
          39,
          40,
          41,
          42,
          43,
          44,
          45,
          46,
          47,
          48,
          49
         ],
         "y": [
          0.9923029537346467,
          0.9988053810613917,
          0.9932698947487297,
          0.998155527060603,
          0.9986620193034625,
          0.9982434536959908,
          0.9990546667217882,
          0.9909108559296292,
          0.9986114058423318,
          0.9905658347802653,
          0.9434775321297844,
          0.9985085451543072,
          0.9990156457206576,
          0.9988337756218945,
          0.9987514602717493,
          0.999179863462819,
          0.9991499615140055,
          0.9989416472819077,
          0.99902236358074,
          0.9958888729898404,
          0.9992975725303611,
          0.9993325775775204,
          0.9993920302409829,
          0.9993455770537737,
          0.9990573444834964,
          0.9991947756889197,
          0.9988935788197124,
          0.9990108327984533,
          0.9991471494079265,
          0.9990637404553104,
          0.9983374061567547,
          0.9991955859996527,
          0.9993211764594706,
          0.9993774617528803,
          0.9991888396942477,
          0.9993570002901964,
          0.9993026688763912,
          0.9988698669514445,
          0.9990341070845666,
          0.9986928001637937,
          0.9992282534825063,
          0.9994703904974275,
          0.9994774732702181,
          0.9995074052621403,
          0.9994542555076488,
          0.9994357479096488,
          0.9988920082055968,
          0.9982458737092055,
          0.9992318217164906,
          0.9992680569254061
         ]
        },
        {
         "name": "Best Value",
         "type": "scatter",
         "x": [
          0,
          1,
          2,
          3,
          4,
          5,
          6,
          7,
          8,
          9,
          10,
          11,
          12,
          13,
          14,
          15,
          16,
          17,
          18,
          19,
          20,
          21,
          22,
          23,
          24,
          25,
          26,
          27,
          28,
          29,
          30,
          31,
          32,
          33,
          34,
          35,
          36,
          37,
          38,
          39,
          40,
          41,
          42,
          43,
          44,
          45,
          46,
          47,
          48,
          49
         ],
         "y": [
          0.9923029537346467,
          0.9988053810613917,
          0.9988053810613917,
          0.9988053810613917,
          0.9988053810613917,
          0.9988053810613917,
          0.9990546667217882,
          0.9990546667217882,
          0.9990546667217882,
          0.9990546667217882,
          0.9990546667217882,
          0.9990546667217882,
          0.9990546667217882,
          0.9990546667217882,
          0.9990546667217882,
          0.999179863462819,
          0.999179863462819,
          0.999179863462819,
          0.999179863462819,
          0.999179863462819,
          0.9992975725303611,
          0.9993325775775204,
          0.9993920302409829,
          0.9993920302409829,
          0.9993920302409829,
          0.9993920302409829,
          0.9993920302409829,
          0.9993920302409829,
          0.9993920302409829,
          0.9993920302409829,
          0.9993920302409829,
          0.9993920302409829,
          0.9993920302409829,
          0.9993920302409829,
          0.9993920302409829,
          0.9993920302409829,
          0.9993920302409829,
          0.9993920302409829,
          0.9993920302409829,
          0.9993920302409829,
          0.9993920302409829,
          0.9994703904974275,
          0.9994774732702181,
          0.9995074052621403,
          0.9995074052621403,
          0.9995074052621403,
          0.9995074052621403,
          0.9995074052621403,
          0.9995074052621403,
          0.9995074052621403
         ]
        }
       ],
       "layout": {
        "template": {
         "data": {
          "bar": [
           {
            "error_x": {
             "color": "#2a3f5f"
            },
            "error_y": {
             "color": "#2a3f5f"
            },
            "marker": {
             "line": {
              "color": "#E5ECF6",
              "width": 0.5
             },
             "pattern": {
              "fillmode": "overlay",
              "size": 10,
              "solidity": 0.2
             }
            },
            "type": "bar"
           }
          ],
          "barpolar": [
           {
            "marker": {
             "line": {
              "color": "#E5ECF6",
              "width": 0.5
             },
             "pattern": {
              "fillmode": "overlay",
              "size": 10,
              "solidity": 0.2
             }
            },
            "type": "barpolar"
           }
          ],
          "carpet": [
           {
            "aaxis": {
             "endlinecolor": "#2a3f5f",
             "gridcolor": "white",
             "linecolor": "white",
             "minorgridcolor": "white",
             "startlinecolor": "#2a3f5f"
            },
            "baxis": {
             "endlinecolor": "#2a3f5f",
             "gridcolor": "white",
             "linecolor": "white",
             "minorgridcolor": "white",
             "startlinecolor": "#2a3f5f"
            },
            "type": "carpet"
           }
          ],
          "choropleth": [
           {
            "colorbar": {
             "outlinewidth": 0,
             "ticks": ""
            },
            "type": "choropleth"
           }
          ],
          "contour": [
           {
            "colorbar": {
             "outlinewidth": 0,
             "ticks": ""
            },
            "colorscale": [
             [
              0,
              "#0d0887"
             ],
             [
              0.1111111111111111,
              "#46039f"
             ],
             [
              0.2222222222222222,
              "#7201a8"
             ],
             [
              0.3333333333333333,
              "#9c179e"
             ],
             [
              0.4444444444444444,
              "#bd3786"
             ],
             [
              0.5555555555555556,
              "#d8576b"
             ],
             [
              0.6666666666666666,
              "#ed7953"
             ],
             [
              0.7777777777777778,
              "#fb9f3a"
             ],
             [
              0.8888888888888888,
              "#fdca26"
             ],
             [
              1,
              "#f0f921"
             ]
            ],
            "type": "contour"
           }
          ],
          "contourcarpet": [
           {
            "colorbar": {
             "outlinewidth": 0,
             "ticks": ""
            },
            "type": "contourcarpet"
           }
          ],
          "heatmap": [
           {
            "colorbar": {
             "outlinewidth": 0,
             "ticks": ""
            },
            "colorscale": [
             [
              0,
              "#0d0887"
             ],
             [
              0.1111111111111111,
              "#46039f"
             ],
             [
              0.2222222222222222,
              "#7201a8"
             ],
             [
              0.3333333333333333,
              "#9c179e"
             ],
             [
              0.4444444444444444,
              "#bd3786"
             ],
             [
              0.5555555555555556,
              "#d8576b"
             ],
             [
              0.6666666666666666,
              "#ed7953"
             ],
             [
              0.7777777777777778,
              "#fb9f3a"
             ],
             [
              0.8888888888888888,
              "#fdca26"
             ],
             [
              1,
              "#f0f921"
             ]
            ],
            "type": "heatmap"
           }
          ],
          "heatmapgl": [
           {
            "colorbar": {
             "outlinewidth": 0,
             "ticks": ""
            },
            "colorscale": [
             [
              0,
              "#0d0887"
             ],
             [
              0.1111111111111111,
              "#46039f"
             ],
             [
              0.2222222222222222,
              "#7201a8"
             ],
             [
              0.3333333333333333,
              "#9c179e"
             ],
             [
              0.4444444444444444,
              "#bd3786"
             ],
             [
              0.5555555555555556,
              "#d8576b"
             ],
             [
              0.6666666666666666,
              "#ed7953"
             ],
             [
              0.7777777777777778,
              "#fb9f3a"
             ],
             [
              0.8888888888888888,
              "#fdca26"
             ],
             [
              1,
              "#f0f921"
             ]
            ],
            "type": "heatmapgl"
           }
          ],
          "histogram": [
           {
            "marker": {
             "pattern": {
              "fillmode": "overlay",
              "size": 10,
              "solidity": 0.2
             }
            },
            "type": "histogram"
           }
          ],
          "histogram2d": [
           {
            "colorbar": {
             "outlinewidth": 0,
             "ticks": ""
            },
            "colorscale": [
             [
              0,
              "#0d0887"
             ],
             [
              0.1111111111111111,
              "#46039f"
             ],
             [
              0.2222222222222222,
              "#7201a8"
             ],
             [
              0.3333333333333333,
              "#9c179e"
             ],
             [
              0.4444444444444444,
              "#bd3786"
             ],
             [
              0.5555555555555556,
              "#d8576b"
             ],
             [
              0.6666666666666666,
              "#ed7953"
             ],
             [
              0.7777777777777778,
              "#fb9f3a"
             ],
             [
              0.8888888888888888,
              "#fdca26"
             ],
             [
              1,
              "#f0f921"
             ]
            ],
            "type": "histogram2d"
           }
          ],
          "histogram2dcontour": [
           {
            "colorbar": {
             "outlinewidth": 0,
             "ticks": ""
            },
            "colorscale": [
             [
              0,
              "#0d0887"
             ],
             [
              0.1111111111111111,
              "#46039f"
             ],
             [
              0.2222222222222222,
              "#7201a8"
             ],
             [
              0.3333333333333333,
              "#9c179e"
             ],
             [
              0.4444444444444444,
              "#bd3786"
             ],
             [
              0.5555555555555556,
              "#d8576b"
             ],
             [
              0.6666666666666666,
              "#ed7953"
             ],
             [
              0.7777777777777778,
              "#fb9f3a"
             ],
             [
              0.8888888888888888,
              "#fdca26"
             ],
             [
              1,
              "#f0f921"
             ]
            ],
            "type": "histogram2dcontour"
           }
          ],
          "mesh3d": [
           {
            "colorbar": {
             "outlinewidth": 0,
             "ticks": ""
            },
            "type": "mesh3d"
           }
          ],
          "parcoords": [
           {
            "line": {
             "colorbar": {
              "outlinewidth": 0,
              "ticks": ""
             }
            },
            "type": "parcoords"
           }
          ],
          "pie": [
           {
            "automargin": true,
            "type": "pie"
           }
          ],
          "scatter": [
           {
            "fillpattern": {
             "fillmode": "overlay",
             "size": 10,
             "solidity": 0.2
            },
            "type": "scatter"
           }
          ],
          "scatter3d": [
           {
            "line": {
             "colorbar": {
              "outlinewidth": 0,
              "ticks": ""
             }
            },
            "marker": {
             "colorbar": {
              "outlinewidth": 0,
              "ticks": ""
             }
            },
            "type": "scatter3d"
           }
          ],
          "scattercarpet": [
           {
            "marker": {
             "colorbar": {
              "outlinewidth": 0,
              "ticks": ""
             }
            },
            "type": "scattercarpet"
           }
          ],
          "scattergeo": [
           {
            "marker": {
             "colorbar": {
              "outlinewidth": 0,
              "ticks": ""
             }
            },
            "type": "scattergeo"
           }
          ],
          "scattergl": [
           {
            "marker": {
             "colorbar": {
              "outlinewidth": 0,
              "ticks": ""
             }
            },
            "type": "scattergl"
           }
          ],
          "scattermapbox": [
           {
            "marker": {
             "colorbar": {
              "outlinewidth": 0,
              "ticks": ""
             }
            },
            "type": "scattermapbox"
           }
          ],
          "scatterpolar": [
           {
            "marker": {
             "colorbar": {
              "outlinewidth": 0,
              "ticks": ""
             }
            },
            "type": "scatterpolar"
           }
          ],
          "scatterpolargl": [
           {
            "marker": {
             "colorbar": {
              "outlinewidth": 0,
              "ticks": ""
             }
            },
            "type": "scatterpolargl"
           }
          ],
          "scatterternary": [
           {
            "marker": {
             "colorbar": {
              "outlinewidth": 0,
              "ticks": ""
             }
            },
            "type": "scatterternary"
           }
          ],
          "surface": [
           {
            "colorbar": {
             "outlinewidth": 0,
             "ticks": ""
            },
            "colorscale": [
             [
              0,
              "#0d0887"
             ],
             [
              0.1111111111111111,
              "#46039f"
             ],
             [
              0.2222222222222222,
              "#7201a8"
             ],
             [
              0.3333333333333333,
              "#9c179e"
             ],
             [
              0.4444444444444444,
              "#bd3786"
             ],
             [
              0.5555555555555556,
              "#d8576b"
             ],
             [
              0.6666666666666666,
              "#ed7953"
             ],
             [
              0.7777777777777778,
              "#fb9f3a"
             ],
             [
              0.8888888888888888,
              "#fdca26"
             ],
             [
              1,
              "#f0f921"
             ]
            ],
            "type": "surface"
           }
          ],
          "table": [
           {
            "cells": {
             "fill": {
              "color": "#EBF0F8"
             },
             "line": {
              "color": "white"
             }
            },
            "header": {
             "fill": {
              "color": "#C8D4E3"
             },
             "line": {
              "color": "white"
             }
            },
            "type": "table"
           }
          ]
         },
         "layout": {
          "annotationdefaults": {
           "arrowcolor": "#2a3f5f",
           "arrowhead": 0,
           "arrowwidth": 1
          },
          "autotypenumbers": "strict",
          "coloraxis": {
           "colorbar": {
            "outlinewidth": 0,
            "ticks": ""
           }
          },
          "colorscale": {
           "diverging": [
            [
             0,
             "#8e0152"
            ],
            [
             0.1,
             "#c51b7d"
            ],
            [
             0.2,
             "#de77ae"
            ],
            [
             0.3,
             "#f1b6da"
            ],
            [
             0.4,
             "#fde0ef"
            ],
            [
             0.5,
             "#f7f7f7"
            ],
            [
             0.6,
             "#e6f5d0"
            ],
            [
             0.7,
             "#b8e186"
            ],
            [
             0.8,
             "#7fbc41"
            ],
            [
             0.9,
             "#4d9221"
            ],
            [
             1,
             "#276419"
            ]
           ],
           "sequential": [
            [
             0,
             "#0d0887"
            ],
            [
             0.1111111111111111,
             "#46039f"
            ],
            [
             0.2222222222222222,
             "#7201a8"
            ],
            [
             0.3333333333333333,
             "#9c179e"
            ],
            [
             0.4444444444444444,
             "#bd3786"
            ],
            [
             0.5555555555555556,
             "#d8576b"
            ],
            [
             0.6666666666666666,
             "#ed7953"
            ],
            [
             0.7777777777777778,
             "#fb9f3a"
            ],
            [
             0.8888888888888888,
             "#fdca26"
            ],
            [
             1,
             "#f0f921"
            ]
           ],
           "sequentialminus": [
            [
             0,
             "#0d0887"
            ],
            [
             0.1111111111111111,
             "#46039f"
            ],
            [
             0.2222222222222222,
             "#7201a8"
            ],
            [
             0.3333333333333333,
             "#9c179e"
            ],
            [
             0.4444444444444444,
             "#bd3786"
            ],
            [
             0.5555555555555556,
             "#d8576b"
            ],
            [
             0.6666666666666666,
             "#ed7953"
            ],
            [
             0.7777777777777778,
             "#fb9f3a"
            ],
            [
             0.8888888888888888,
             "#fdca26"
            ],
            [
             1,
             "#f0f921"
            ]
           ]
          },
          "colorway": [
           "#636efa",
           "#EF553B",
           "#00cc96",
           "#ab63fa",
           "#FFA15A",
           "#19d3f3",
           "#FF6692",
           "#B6E880",
           "#FF97FF",
           "#FECB52"
          ],
          "font": {
           "color": "#2a3f5f"
          },
          "geo": {
           "bgcolor": "white",
           "lakecolor": "white",
           "landcolor": "#E5ECF6",
           "showlakes": true,
           "showland": true,
           "subunitcolor": "white"
          },
          "hoverlabel": {
           "align": "left"
          },
          "hovermode": "closest",
          "mapbox": {
           "style": "light"
          },
          "paper_bgcolor": "white",
          "plot_bgcolor": "#E5ECF6",
          "polar": {
           "angularaxis": {
            "gridcolor": "white",
            "linecolor": "white",
            "ticks": ""
           },
           "bgcolor": "#E5ECF6",
           "radialaxis": {
            "gridcolor": "white",
            "linecolor": "white",
            "ticks": ""
           }
          },
          "scene": {
           "xaxis": {
            "backgroundcolor": "#E5ECF6",
            "gridcolor": "white",
            "gridwidth": 2,
            "linecolor": "white",
            "showbackground": true,
            "ticks": "",
            "zerolinecolor": "white"
           },
           "yaxis": {
            "backgroundcolor": "#E5ECF6",
            "gridcolor": "white",
            "gridwidth": 2,
            "linecolor": "white",
            "showbackground": true,
            "ticks": "",
            "zerolinecolor": "white"
           },
           "zaxis": {
            "backgroundcolor": "#E5ECF6",
            "gridcolor": "white",
            "gridwidth": 2,
            "linecolor": "white",
            "showbackground": true,
            "ticks": "",
            "zerolinecolor": "white"
           }
          },
          "shapedefaults": {
           "line": {
            "color": "#2a3f5f"
           }
          },
          "ternary": {
           "aaxis": {
            "gridcolor": "white",
            "linecolor": "white",
            "ticks": ""
           },
           "baxis": {
            "gridcolor": "white",
            "linecolor": "white",
            "ticks": ""
           },
           "bgcolor": "#E5ECF6",
           "caxis": {
            "gridcolor": "white",
            "linecolor": "white",
            "ticks": ""
           }
          },
          "title": {
           "x": 0.05
          },
          "xaxis": {
           "automargin": true,
           "gridcolor": "white",
           "linecolor": "white",
           "ticks": "",
           "title": {
            "standoff": 15
           },
           "zerolinecolor": "white",
           "zerolinewidth": 2
          },
          "yaxis": {
           "automargin": true,
           "gridcolor": "white",
           "linecolor": "white",
           "ticks": "",
           "title": {
            "standoff": 15
           },
           "zerolinecolor": "white",
           "zerolinewidth": 2
          }
         }
        },
        "title": {
         "text": "Optimization History Plot"
        },
        "xaxis": {
         "title": {
          "text": "Trial"
         }
        },
        "yaxis": {
         "title": {
          "text": "Objective Value"
         }
        }
       }
      }
     },
     "metadata": {},
     "output_type": "display_data"
    }
   ],
   "source": [
    "optuna.visualization.plot_optimization_history(study)"
   ]
  },
  {
   "cell_type": "code",
   "execution_count": 19,
   "metadata": {},
   "outputs": [
    {
     "data": {
      "application/vnd.plotly.v1+json": {
       "config": {
        "plotlyServerURL": "https://plot.ly"
       },
       "data": [
        {
         "marker": {
          "color": [
           0,
           1,
           2,
           3,
           4,
           5,
           6,
           7,
           8,
           9,
           10,
           11,
           12,
           13,
           14,
           15,
           16,
           17,
           18,
           19,
           20,
           21,
           22,
           23,
           24,
           25,
           26,
           27,
           28,
           29,
           30,
           31,
           32,
           33,
           34,
           35,
           36,
           37,
           38,
           39,
           40,
           41,
           42,
           43,
           44,
           45,
           46,
           47,
           48,
           49
          ],
          "colorbar": {
           "title": {
            "text": "Trial"
           },
           "x": 1,
           "xpad": 40
          },
          "colorscale": [
           [
            0,
            "rgb(247,251,255)"
           ],
           [
            0.125,
            "rgb(222,235,247)"
           ],
           [
            0.25,
            "rgb(198,219,239)"
           ],
           [
            0.375,
            "rgb(158,202,225)"
           ],
           [
            0.5,
            "rgb(107,174,214)"
           ],
           [
            0.625,
            "rgb(66,146,198)"
           ],
           [
            0.75,
            "rgb(33,113,181)"
           ],
           [
            0.875,
            "rgb(8,81,156)"
           ],
           [
            1,
            "rgb(8,48,107)"
           ]
          ],
          "line": {
           "color": "Grey",
           "width": 0.5
          },
          "showscale": true
         },
         "mode": "markers",
         "showlegend": false,
         "type": "scatter",
         "x": [
          0,
          0,
          0,
          9,
          7,
          7,
          0,
          9,
          1,
          4,
          3,
          3,
          2,
          2,
          5,
          2,
          2,
          6,
          4,
          3,
          2,
          2,
          1,
          1,
          1,
          1,
          4,
          1,
          1,
          5,
          0,
          3,
          2,
          0,
          0,
          0,
          0,
          0,
          1,
          10,
          0,
          1,
          1,
          0,
          1,
          1,
          8,
          1,
          3,
          2
         ],
         "xaxis": "x",
         "y": [
          0.9923029537346467,
          0.9988053810613917,
          0.9932698947487297,
          0.998155527060603,
          0.9986620193034625,
          0.9982434536959908,
          0.9990546667217882,
          0.9909108559296292,
          0.9986114058423318,
          0.9905658347802653,
          0.9434775321297844,
          0.9985085451543072,
          0.9990156457206576,
          0.9988337756218945,
          0.9987514602717493,
          0.999179863462819,
          0.9991499615140055,
          0.9989416472819077,
          0.99902236358074,
          0.9958888729898404,
          0.9992975725303611,
          0.9993325775775204,
          0.9993920302409829,
          0.9993455770537737,
          0.9990573444834964,
          0.9991947756889197,
          0.9988935788197124,
          0.9990108327984533,
          0.9991471494079265,
          0.9990637404553104,
          0.9983374061567547,
          0.9991955859996527,
          0.9993211764594706,
          0.9993774617528803,
          0.9991888396942477,
          0.9993570002901964,
          0.9993026688763912,
          0.9988698669514445,
          0.9990341070845666,
          0.9986928001637937,
          0.9992282534825063,
          0.9994703904974275,
          0.9994774732702181,
          0.9995074052621403,
          0.9994542555076488,
          0.9994357479096488,
          0.9988920082055968,
          0.9982458737092055,
          0.9992318217164906,
          0.9992680569254061
         ],
         "yaxis": "y"
        },
        {
         "marker": {
          "color": [
           0,
           1,
           2,
           3,
           4,
           5,
           6,
           7,
           8,
           9,
           10,
           11,
           12,
           13,
           14,
           15,
           16,
           17,
           18,
           19,
           20,
           21,
           22,
           23,
           24,
           25,
           26,
           27,
           28,
           29,
           30,
           31,
           32,
           33,
           34,
           35,
           36,
           37,
           38,
           39,
           40,
           41,
           42,
           43,
           44,
           45,
           46,
           47,
           48,
           49
          ],
          "colorbar": {
           "title": {
            "text": "Trial"
           },
           "x": 1,
           "xpad": 40
          },
          "colorscale": [
           [
            0,
            "rgb(247,251,255)"
           ],
           [
            0.125,
            "rgb(222,235,247)"
           ],
           [
            0.25,
            "rgb(198,219,239)"
           ],
           [
            0.375,
            "rgb(158,202,225)"
           ],
           [
            0.5,
            "rgb(107,174,214)"
           ],
           [
            0.625,
            "rgb(66,146,198)"
           ],
           [
            0.75,
            "rgb(33,113,181)"
           ],
           [
            0.875,
            "rgb(8,81,156)"
           ],
           [
            1,
            "rgb(8,48,107)"
           ]
          ],
          "line": {
           "color": "Grey",
           "width": 0.5
          },
          "showscale": false
         },
         "mode": "markers",
         "showlegend": false,
         "type": "scatter",
         "x": [
          0.08528788029198071,
          0.04157707758050052,
          0.06536953337289583,
          0.08586451695873268,
          0.08370823689849337,
          0.035698579321556685,
          0.062066574676601524,
          0.06431083019811752,
          0.08735148875254725,
          0.025131444846775104,
          0.013610275294819361,
          0.04556008977342938,
          0.04969647007305203,
          0.05756260722549715,
          0.07234773995309779,
          0.04858228963578276,
          0.05672452329372574,
          0.09985972598349013,
          0.054057585788686725,
          0.03654843938446769,
          0.05216516281502121,
          0.051093562679094436,
          0.04981591458491246,
          0.04260917876417788,
          0.03928539825219167,
          0.02978635032108848,
          0.045216041996702545,
          0.044267672594581926,
          0.03114111946775913,
          0.05075665984217251,
          0.043283098388090135,
          0.054115209034347155,
          0.051115596267897176,
          0.039918125269288715,
          0.04365868316469531,
          0.040029939667506835,
          0.03727371329760481,
          0.040597905659401634,
          0.03139605191192074,
          0.06143986228719801,
          0.04008616358103621,
          0.04753287589264325,
          0.0475430836253006,
          0.04600547885721323,
          0.04708880197447535,
          0.047066080017492455,
          0.046808379945027026,
          0.05821732202232799,
          0.047041944205573755,
          0.06003318554588299
         ],
         "xaxis": "x2",
         "y": [
          0.9923029537346467,
          0.9988053810613917,
          0.9932698947487297,
          0.998155527060603,
          0.9986620193034625,
          0.9982434536959908,
          0.9990546667217882,
          0.9909108559296292,
          0.9986114058423318,
          0.9905658347802653,
          0.9434775321297844,
          0.9985085451543072,
          0.9990156457206576,
          0.9988337756218945,
          0.9987514602717493,
          0.999179863462819,
          0.9991499615140055,
          0.9989416472819077,
          0.99902236358074,
          0.9958888729898404,
          0.9992975725303611,
          0.9993325775775204,
          0.9993920302409829,
          0.9993455770537737,
          0.9990573444834964,
          0.9991947756889197,
          0.9988935788197124,
          0.9990108327984533,
          0.9991471494079265,
          0.9990637404553104,
          0.9983374061567547,
          0.9991955859996527,
          0.9993211764594706,
          0.9993774617528803,
          0.9991888396942477,
          0.9993570002901964,
          0.9993026688763912,
          0.9988698669514445,
          0.9990341070845666,
          0.9986928001637937,
          0.9992282534825063,
          0.9994703904974275,
          0.9994774732702181,
          0.9995074052621403,
          0.9994542555076488,
          0.9994357479096488,
          0.9988920082055968,
          0.9982458737092055,
          0.9992318217164906,
          0.9992680569254061
         ],
         "yaxis": "y2"
        },
        {
         "marker": {
          "color": [
           0,
           1,
           2,
           3,
           4,
           5,
           6,
           7,
           8,
           9,
           10,
           11,
           12,
           13,
           14,
           15,
           16,
           17,
           18,
           19,
           20,
           21,
           22,
           23,
           24,
           25,
           26,
           27,
           28,
           29,
           30,
           31,
           32,
           33,
           34,
           35,
           36,
           37,
           38,
           39,
           40,
           41,
           42,
           43,
           44,
           45,
           46,
           47,
           48,
           49
          ],
          "colorbar": {
           "title": {
            "text": "Trial"
           },
           "x": 1,
           "xpad": 40
          },
          "colorscale": [
           [
            0,
            "rgb(247,251,255)"
           ],
           [
            0.125,
            "rgb(222,235,247)"
           ],
           [
            0.25,
            "rgb(198,219,239)"
           ],
           [
            0.375,
            "rgb(158,202,225)"
           ],
           [
            0.5,
            "rgb(107,174,214)"
           ],
           [
            0.625,
            "rgb(66,146,198)"
           ],
           [
            0.75,
            "rgb(33,113,181)"
           ],
           [
            0.875,
            "rgb(8,81,156)"
           ],
           [
            1,
            "rgb(8,48,107)"
           ]
          ],
          "line": {
           "color": "Grey",
           "width": 0.5
          },
          "showscale": false
         },
         "mode": "markers",
         "showlegend": false,
         "type": "scatter",
         "x": [
          3,
          6,
          9,
          10,
          6,
          8,
          9,
          3,
          8,
          5,
          10,
          6,
          7,
          8,
          7,
          9,
          9,
          9,
          10,
          4,
          9,
          9,
          8,
          8,
          7,
          8,
          8,
          7,
          8,
          10,
          5,
          9,
          9,
          8,
          7,
          8,
          8,
          6,
          7,
          8,
          8,
          10,
          10,
          10,
          10,
          10,
          10,
          10,
          10,
          10
         ],
         "xaxis": "x3",
         "y": [
          0.9923029537346467,
          0.9988053810613917,
          0.9932698947487297,
          0.998155527060603,
          0.9986620193034625,
          0.9982434536959908,
          0.9990546667217882,
          0.9909108559296292,
          0.9986114058423318,
          0.9905658347802653,
          0.9434775321297844,
          0.9985085451543072,
          0.9990156457206576,
          0.9988337756218945,
          0.9987514602717493,
          0.999179863462819,
          0.9991499615140055,
          0.9989416472819077,
          0.99902236358074,
          0.9958888729898404,
          0.9992975725303611,
          0.9993325775775204,
          0.9993920302409829,
          0.9993455770537737,
          0.9990573444834964,
          0.9991947756889197,
          0.9988935788197124,
          0.9990108327984533,
          0.9991471494079265,
          0.9990637404553104,
          0.9983374061567547,
          0.9991955859996527,
          0.9993211764594706,
          0.9993774617528803,
          0.9991888396942477,
          0.9993570002901964,
          0.9993026688763912,
          0.9988698669514445,
          0.9990341070845666,
          0.9986928001637937,
          0.9992282534825063,
          0.9994703904974275,
          0.9994774732702181,
          0.9995074052621403,
          0.9994542555076488,
          0.9994357479096488,
          0.9988920082055968,
          0.9982458737092055,
          0.9992318217164906,
          0.9992680569254061
         ],
         "yaxis": "y3"
        },
        {
         "marker": {
          "color": [
           0,
           1,
           2,
           3,
           4,
           5,
           6,
           7,
           8,
           9,
           10,
           11,
           12,
           13,
           14,
           15,
           16,
           17,
           18,
           19,
           20,
           21,
           22,
           23,
           24,
           25,
           26,
           27,
           28,
           29,
           30,
           31,
           32,
           33,
           34,
           35,
           36,
           37,
           38,
           39,
           40,
           41,
           42,
           43,
           44,
           45,
           46,
           47,
           48,
           49
          ],
          "colorbar": {
           "title": {
            "text": "Trial"
           },
           "x": 1,
           "xpad": 40
          },
          "colorscale": [
           [
            0,
            "rgb(247,251,255)"
           ],
           [
            0.125,
            "rgb(222,235,247)"
           ],
           [
            0.25,
            "rgb(198,219,239)"
           ],
           [
            0.375,
            "rgb(158,202,225)"
           ],
           [
            0.5,
            "rgb(107,174,214)"
           ],
           [
            0.625,
            "rgb(66,146,198)"
           ],
           [
            0.75,
            "rgb(33,113,181)"
           ],
           [
            0.875,
            "rgb(8,81,156)"
           ],
           [
            1,
            "rgb(8,48,107)"
           ]
          ],
          "line": {
           "color": "Grey",
           "width": 0.5
          },
          "showscale": false
         },
         "mode": "markers",
         "showlegend": false,
         "type": "scatter",
         "x": [
          5,
          8,
          4,
          10,
          4,
          5,
          10,
          8,
          3,
          6,
          1,
          10,
          8,
          8,
          9,
          7,
          7,
          6,
          7,
          7,
          2,
          1,
          1,
          1,
          1,
          2,
          2,
          1,
          3,
          3,
          1,
          2,
          2,
          1,
          1,
          3,
          4,
          3,
          2,
          5,
          4,
          1,
          1,
          2,
          2,
          2,
          2,
          3,
          2,
          4
         ],
         "xaxis": "x4",
         "y": [
          0.9923029537346467,
          0.9988053810613917,
          0.9932698947487297,
          0.998155527060603,
          0.9986620193034625,
          0.9982434536959908,
          0.9990546667217882,
          0.9909108559296292,
          0.9986114058423318,
          0.9905658347802653,
          0.9434775321297844,
          0.9985085451543072,
          0.9990156457206576,
          0.9988337756218945,
          0.9987514602717493,
          0.999179863462819,
          0.9991499615140055,
          0.9989416472819077,
          0.99902236358074,
          0.9958888729898404,
          0.9992975725303611,
          0.9993325775775204,
          0.9993920302409829,
          0.9993455770537737,
          0.9990573444834964,
          0.9991947756889197,
          0.9988935788197124,
          0.9990108327984533,
          0.9991471494079265,
          0.9990637404553104,
          0.9983374061567547,
          0.9991955859996527,
          0.9993211764594706,
          0.9993774617528803,
          0.9991888396942477,
          0.9993570002901964,
          0.9993026688763912,
          0.9988698669514445,
          0.9990341070845666,
          0.9986928001637937,
          0.9992282534825063,
          0.9994703904974275,
          0.9994774732702181,
          0.9995074052621403,
          0.9994542555076488,
          0.9994357479096488,
          0.9988920082055968,
          0.9982458737092055,
          0.9992318217164906,
          0.9992680569254061
         ],
         "yaxis": "y4"
        },
        {
         "marker": {
          "color": [
           0,
           1,
           2,
           3,
           4,
           5,
           6,
           7,
           8,
           9,
           10,
           11,
           12,
           13,
           14,
           15,
           16,
           17,
           18,
           19,
           20,
           21,
           22,
           23,
           24,
           25,
           26,
           27,
           28,
           29,
           30,
           31,
           32,
           33,
           34,
           35,
           36,
           37,
           38,
           39,
           40,
           41,
           42,
           43,
           44,
           45,
           46,
           47,
           48,
           49
          ],
          "colorbar": {
           "title": {
            "text": "Trial"
           },
           "x": 1,
           "xpad": 40
          },
          "colorscale": [
           [
            0,
            "rgb(247,251,255)"
           ],
           [
            0.125,
            "rgb(222,235,247)"
           ],
           [
            0.25,
            "rgb(198,219,239)"
           ],
           [
            0.375,
            "rgb(158,202,225)"
           ],
           [
            0.5,
            "rgb(107,174,214)"
           ],
           [
            0.625,
            "rgb(66,146,198)"
           ],
           [
            0.75,
            "rgb(33,113,181)"
           ],
           [
            0.875,
            "rgb(8,81,156)"
           ],
           [
            1,
            "rgb(8,48,107)"
           ]
          ],
          "line": {
           "color": "Grey",
           "width": 0.5
          },
          "showscale": false
         },
         "mode": "markers",
         "showlegend": false,
         "type": "scatter",
         "x": [
          417,
          956,
          280,
          243,
          756,
          865,
          372,
          165,
          179,
          831,
          585,
          598,
          962,
          409,
          433,
          705,
          704,
          714,
          665,
          507,
          796,
          815,
          827,
          839,
          893,
          914,
          796,
          638,
          997,
          533,
          828,
          782,
          920,
          925,
          861,
          998,
          994,
          935,
          958,
          872,
          751,
          870,
          888,
          915,
          888,
          747,
          759,
          102,
          883,
          738
         ],
         "xaxis": "x5",
         "y": [
          0.9923029537346467,
          0.9988053810613917,
          0.9932698947487297,
          0.998155527060603,
          0.9986620193034625,
          0.9982434536959908,
          0.9990546667217882,
          0.9909108559296292,
          0.9986114058423318,
          0.9905658347802653,
          0.9434775321297844,
          0.9985085451543072,
          0.9990156457206576,
          0.9988337756218945,
          0.9987514602717493,
          0.999179863462819,
          0.9991499615140055,
          0.9989416472819077,
          0.99902236358074,
          0.9958888729898404,
          0.9992975725303611,
          0.9993325775775204,
          0.9993920302409829,
          0.9993455770537737,
          0.9990573444834964,
          0.9991947756889197,
          0.9988935788197124,
          0.9990108327984533,
          0.9991471494079265,
          0.9990637404553104,
          0.9983374061567547,
          0.9991955859996527,
          0.9993211764594706,
          0.9993774617528803,
          0.9991888396942477,
          0.9993570002901964,
          0.9993026688763912,
          0.9988698669514445,
          0.9990341070845666,
          0.9986928001637937,
          0.9992282534825063,
          0.9994703904974275,
          0.9994774732702181,
          0.9995074052621403,
          0.9994542555076488,
          0.9994357479096488,
          0.9988920082055968,
          0.9982458737092055,
          0.9992318217164906,
          0.9992680569254061
         ],
         "yaxis": "y5"
        },
        {
         "marker": {
          "color": [
           0,
           1,
           2,
           3,
           4,
           5,
           6,
           7,
           8,
           9,
           10,
           11,
           12,
           13,
           14,
           15,
           16,
           17,
           18,
           19,
           20,
           21,
           22,
           23,
           24,
           25,
           26,
           27,
           28,
           29,
           30,
           31,
           32,
           33,
           34,
           35,
           36,
           37,
           38,
           39,
           40,
           41,
           42,
           43,
           44,
           45,
           46,
           47,
           48,
           49
          ],
          "colorbar": {
           "title": {
            "text": "Trial"
           },
           "x": 1,
           "xpad": 40
          },
          "colorscale": [
           [
            0,
            "rgb(247,251,255)"
           ],
           [
            0.125,
            "rgb(222,235,247)"
           ],
           [
            0.25,
            "rgb(198,219,239)"
           ],
           [
            0.375,
            "rgb(158,202,225)"
           ],
           [
            0.5,
            "rgb(107,174,214)"
           ],
           [
            0.625,
            "rgb(66,146,198)"
           ],
           [
            0.75,
            "rgb(33,113,181)"
           ],
           [
            0.875,
            "rgb(8,81,156)"
           ],
           [
            1,
            "rgb(8,48,107)"
           ]
          ],
          "line": {
           "color": "Grey",
           "width": 0.5
          },
          "showscale": false
         },
         "mode": "markers",
         "showlegend": false,
         "type": "scatter",
         "x": [
          0.453327782732144,
          0.7942636086296049,
          0.3396048981705787,
          0.47700414364330174,
          0.7566442710246599,
          0.4783041423174604,
          0.823622524136759,
          0.9631891123483729,
          0.6265299668285133,
          0.314311822803662,
          0.09875589138531027,
          0.8787103988294575,
          0.7666479893340357,
          0.6993918166695525,
          0.9881111065782551,
          0.8551046374933611,
          0.8999427399149792,
          0.9163405496005136,
          0.6447251997833122,
          0.9928121339995173,
          0.8772590559508975,
          0.8674819714921058,
          0.8527457749745724,
          0.8481917597496275,
          0.6961757989390467,
          0.8158854004227087,
          0.5755254346894441,
          0.9392486876638999,
          0.7392361271480274,
          0.9148580288830024,
          0.8381732758235063,
          0.888437162765283,
          0.813924691147127,
          0.7961847383773524,
          0.766483571544893,
          0.9537994148483118,
          0.9501780033756815,
          0.7998447167756864,
          0.9772530125765779,
          0.7256959390925444,
          0.999196375707509,
          0.8480553337191116,
          0.787286234843188,
          0.7942276322625667,
          0.7825167949373716,
          0.7883088242051571,
          0.6686147406920881,
          0.7673750549822957,
          0.7277335020756712,
          0.6791093583158127
         ],
         "xaxis": "x6",
         "y": [
          0.9923029537346467,
          0.9988053810613917,
          0.9932698947487297,
          0.998155527060603,
          0.9986620193034625,
          0.9982434536959908,
          0.9990546667217882,
          0.9909108559296292,
          0.9986114058423318,
          0.9905658347802653,
          0.9434775321297844,
          0.9985085451543072,
          0.9990156457206576,
          0.9988337756218945,
          0.9987514602717493,
          0.999179863462819,
          0.9991499615140055,
          0.9989416472819077,
          0.99902236358074,
          0.9958888729898404,
          0.9992975725303611,
          0.9993325775775204,
          0.9993920302409829,
          0.9993455770537737,
          0.9990573444834964,
          0.9991947756889197,
          0.9988935788197124,
          0.9990108327984533,
          0.9991471494079265,
          0.9990637404553104,
          0.9983374061567547,
          0.9991955859996527,
          0.9993211764594706,
          0.9993774617528803,
          0.9991888396942477,
          0.9993570002901964,
          0.9993026688763912,
          0.9988698669514445,
          0.9990341070845666,
          0.9986928001637937,
          0.9992282534825063,
          0.9994703904974275,
          0.9994774732702181,
          0.9995074052621403,
          0.9994542555076488,
          0.9994357479096488,
          0.9988920082055968,
          0.9982458737092055,
          0.9992318217164906,
          0.9992680569254061
         ],
         "yaxis": "y6"
        }
       ],
       "layout": {
        "template": {
         "data": {
          "bar": [
           {
            "error_x": {
             "color": "#2a3f5f"
            },
            "error_y": {
             "color": "#2a3f5f"
            },
            "marker": {
             "line": {
              "color": "#E5ECF6",
              "width": 0.5
             },
             "pattern": {
              "fillmode": "overlay",
              "size": 10,
              "solidity": 0.2
             }
            },
            "type": "bar"
           }
          ],
          "barpolar": [
           {
            "marker": {
             "line": {
              "color": "#E5ECF6",
              "width": 0.5
             },
             "pattern": {
              "fillmode": "overlay",
              "size": 10,
              "solidity": 0.2
             }
            },
            "type": "barpolar"
           }
          ],
          "carpet": [
           {
            "aaxis": {
             "endlinecolor": "#2a3f5f",
             "gridcolor": "white",
             "linecolor": "white",
             "minorgridcolor": "white",
             "startlinecolor": "#2a3f5f"
            },
            "baxis": {
             "endlinecolor": "#2a3f5f",
             "gridcolor": "white",
             "linecolor": "white",
             "minorgridcolor": "white",
             "startlinecolor": "#2a3f5f"
            },
            "type": "carpet"
           }
          ],
          "choropleth": [
           {
            "colorbar": {
             "outlinewidth": 0,
             "ticks": ""
            },
            "type": "choropleth"
           }
          ],
          "contour": [
           {
            "colorbar": {
             "outlinewidth": 0,
             "ticks": ""
            },
            "colorscale": [
             [
              0,
              "#0d0887"
             ],
             [
              0.1111111111111111,
              "#46039f"
             ],
             [
              0.2222222222222222,
              "#7201a8"
             ],
             [
              0.3333333333333333,
              "#9c179e"
             ],
             [
              0.4444444444444444,
              "#bd3786"
             ],
             [
              0.5555555555555556,
              "#d8576b"
             ],
             [
              0.6666666666666666,
              "#ed7953"
             ],
             [
              0.7777777777777778,
              "#fb9f3a"
             ],
             [
              0.8888888888888888,
              "#fdca26"
             ],
             [
              1,
              "#f0f921"
             ]
            ],
            "type": "contour"
           }
          ],
          "contourcarpet": [
           {
            "colorbar": {
             "outlinewidth": 0,
             "ticks": ""
            },
            "type": "contourcarpet"
           }
          ],
          "heatmap": [
           {
            "colorbar": {
             "outlinewidth": 0,
             "ticks": ""
            },
            "colorscale": [
             [
              0,
              "#0d0887"
             ],
             [
              0.1111111111111111,
              "#46039f"
             ],
             [
              0.2222222222222222,
              "#7201a8"
             ],
             [
              0.3333333333333333,
              "#9c179e"
             ],
             [
              0.4444444444444444,
              "#bd3786"
             ],
             [
              0.5555555555555556,
              "#d8576b"
             ],
             [
              0.6666666666666666,
              "#ed7953"
             ],
             [
              0.7777777777777778,
              "#fb9f3a"
             ],
             [
              0.8888888888888888,
              "#fdca26"
             ],
             [
              1,
              "#f0f921"
             ]
            ],
            "type": "heatmap"
           }
          ],
          "heatmapgl": [
           {
            "colorbar": {
             "outlinewidth": 0,
             "ticks": ""
            },
            "colorscale": [
             [
              0,
              "#0d0887"
             ],
             [
              0.1111111111111111,
              "#46039f"
             ],
             [
              0.2222222222222222,
              "#7201a8"
             ],
             [
              0.3333333333333333,
              "#9c179e"
             ],
             [
              0.4444444444444444,
              "#bd3786"
             ],
             [
              0.5555555555555556,
              "#d8576b"
             ],
             [
              0.6666666666666666,
              "#ed7953"
             ],
             [
              0.7777777777777778,
              "#fb9f3a"
             ],
             [
              0.8888888888888888,
              "#fdca26"
             ],
             [
              1,
              "#f0f921"
             ]
            ],
            "type": "heatmapgl"
           }
          ],
          "histogram": [
           {
            "marker": {
             "pattern": {
              "fillmode": "overlay",
              "size": 10,
              "solidity": 0.2
             }
            },
            "type": "histogram"
           }
          ],
          "histogram2d": [
           {
            "colorbar": {
             "outlinewidth": 0,
             "ticks": ""
            },
            "colorscale": [
             [
              0,
              "#0d0887"
             ],
             [
              0.1111111111111111,
              "#46039f"
             ],
             [
              0.2222222222222222,
              "#7201a8"
             ],
             [
              0.3333333333333333,
              "#9c179e"
             ],
             [
              0.4444444444444444,
              "#bd3786"
             ],
             [
              0.5555555555555556,
              "#d8576b"
             ],
             [
              0.6666666666666666,
              "#ed7953"
             ],
             [
              0.7777777777777778,
              "#fb9f3a"
             ],
             [
              0.8888888888888888,
              "#fdca26"
             ],
             [
              1,
              "#f0f921"
             ]
            ],
            "type": "histogram2d"
           }
          ],
          "histogram2dcontour": [
           {
            "colorbar": {
             "outlinewidth": 0,
             "ticks": ""
            },
            "colorscale": [
             [
              0,
              "#0d0887"
             ],
             [
              0.1111111111111111,
              "#46039f"
             ],
             [
              0.2222222222222222,
              "#7201a8"
             ],
             [
              0.3333333333333333,
              "#9c179e"
             ],
             [
              0.4444444444444444,
              "#bd3786"
             ],
             [
              0.5555555555555556,
              "#d8576b"
             ],
             [
              0.6666666666666666,
              "#ed7953"
             ],
             [
              0.7777777777777778,
              "#fb9f3a"
             ],
             [
              0.8888888888888888,
              "#fdca26"
             ],
             [
              1,
              "#f0f921"
             ]
            ],
            "type": "histogram2dcontour"
           }
          ],
          "mesh3d": [
           {
            "colorbar": {
             "outlinewidth": 0,
             "ticks": ""
            },
            "type": "mesh3d"
           }
          ],
          "parcoords": [
           {
            "line": {
             "colorbar": {
              "outlinewidth": 0,
              "ticks": ""
             }
            },
            "type": "parcoords"
           }
          ],
          "pie": [
           {
            "automargin": true,
            "type": "pie"
           }
          ],
          "scatter": [
           {
            "fillpattern": {
             "fillmode": "overlay",
             "size": 10,
             "solidity": 0.2
            },
            "type": "scatter"
           }
          ],
          "scatter3d": [
           {
            "line": {
             "colorbar": {
              "outlinewidth": 0,
              "ticks": ""
             }
            },
            "marker": {
             "colorbar": {
              "outlinewidth": 0,
              "ticks": ""
             }
            },
            "type": "scatter3d"
           }
          ],
          "scattercarpet": [
           {
            "marker": {
             "colorbar": {
              "outlinewidth": 0,
              "ticks": ""
             }
            },
            "type": "scattercarpet"
           }
          ],
          "scattergeo": [
           {
            "marker": {
             "colorbar": {
              "outlinewidth": 0,
              "ticks": ""
             }
            },
            "type": "scattergeo"
           }
          ],
          "scattergl": [
           {
            "marker": {
             "colorbar": {
              "outlinewidth": 0,
              "ticks": ""
             }
            },
            "type": "scattergl"
           }
          ],
          "scattermapbox": [
           {
            "marker": {
             "colorbar": {
              "outlinewidth": 0,
              "ticks": ""
             }
            },
            "type": "scattermapbox"
           }
          ],
          "scatterpolar": [
           {
            "marker": {
             "colorbar": {
              "outlinewidth": 0,
              "ticks": ""
             }
            },
            "type": "scatterpolar"
           }
          ],
          "scatterpolargl": [
           {
            "marker": {
             "colorbar": {
              "outlinewidth": 0,
              "ticks": ""
             }
            },
            "type": "scatterpolargl"
           }
          ],
          "scatterternary": [
           {
            "marker": {
             "colorbar": {
              "outlinewidth": 0,
              "ticks": ""
             }
            },
            "type": "scatterternary"
           }
          ],
          "surface": [
           {
            "colorbar": {
             "outlinewidth": 0,
             "ticks": ""
            },
            "colorscale": [
             [
              0,
              "#0d0887"
             ],
             [
              0.1111111111111111,
              "#46039f"
             ],
             [
              0.2222222222222222,
              "#7201a8"
             ],
             [
              0.3333333333333333,
              "#9c179e"
             ],
             [
              0.4444444444444444,
              "#bd3786"
             ],
             [
              0.5555555555555556,
              "#d8576b"
             ],
             [
              0.6666666666666666,
              "#ed7953"
             ],
             [
              0.7777777777777778,
              "#fb9f3a"
             ],
             [
              0.8888888888888888,
              "#fdca26"
             ],
             [
              1,
              "#f0f921"
             ]
            ],
            "type": "surface"
           }
          ],
          "table": [
           {
            "cells": {
             "fill": {
              "color": "#EBF0F8"
             },
             "line": {
              "color": "white"
             }
            },
            "header": {
             "fill": {
              "color": "#C8D4E3"
             },
             "line": {
              "color": "white"
             }
            },
            "type": "table"
           }
          ]
         },
         "layout": {
          "annotationdefaults": {
           "arrowcolor": "#2a3f5f",
           "arrowhead": 0,
           "arrowwidth": 1
          },
          "autotypenumbers": "strict",
          "coloraxis": {
           "colorbar": {
            "outlinewidth": 0,
            "ticks": ""
           }
          },
          "colorscale": {
           "diverging": [
            [
             0,
             "#8e0152"
            ],
            [
             0.1,
             "#c51b7d"
            ],
            [
             0.2,
             "#de77ae"
            ],
            [
             0.3,
             "#f1b6da"
            ],
            [
             0.4,
             "#fde0ef"
            ],
            [
             0.5,
             "#f7f7f7"
            ],
            [
             0.6,
             "#e6f5d0"
            ],
            [
             0.7,
             "#b8e186"
            ],
            [
             0.8,
             "#7fbc41"
            ],
            [
             0.9,
             "#4d9221"
            ],
            [
             1,
             "#276419"
            ]
           ],
           "sequential": [
            [
             0,
             "#0d0887"
            ],
            [
             0.1111111111111111,
             "#46039f"
            ],
            [
             0.2222222222222222,
             "#7201a8"
            ],
            [
             0.3333333333333333,
             "#9c179e"
            ],
            [
             0.4444444444444444,
             "#bd3786"
            ],
            [
             0.5555555555555556,
             "#d8576b"
            ],
            [
             0.6666666666666666,
             "#ed7953"
            ],
            [
             0.7777777777777778,
             "#fb9f3a"
            ],
            [
             0.8888888888888888,
             "#fdca26"
            ],
            [
             1,
             "#f0f921"
            ]
           ],
           "sequentialminus": [
            [
             0,
             "#0d0887"
            ],
            [
             0.1111111111111111,
             "#46039f"
            ],
            [
             0.2222222222222222,
             "#7201a8"
            ],
            [
             0.3333333333333333,
             "#9c179e"
            ],
            [
             0.4444444444444444,
             "#bd3786"
            ],
            [
             0.5555555555555556,
             "#d8576b"
            ],
            [
             0.6666666666666666,
             "#ed7953"
            ],
            [
             0.7777777777777778,
             "#fb9f3a"
            ],
            [
             0.8888888888888888,
             "#fdca26"
            ],
            [
             1,
             "#f0f921"
            ]
           ]
          },
          "colorway": [
           "#636efa",
           "#EF553B",
           "#00cc96",
           "#ab63fa",
           "#FFA15A",
           "#19d3f3",
           "#FF6692",
           "#B6E880",
           "#FF97FF",
           "#FECB52"
          ],
          "font": {
           "color": "#2a3f5f"
          },
          "geo": {
           "bgcolor": "white",
           "lakecolor": "white",
           "landcolor": "#E5ECF6",
           "showlakes": true,
           "showland": true,
           "subunitcolor": "white"
          },
          "hoverlabel": {
           "align": "left"
          },
          "hovermode": "closest",
          "mapbox": {
           "style": "light"
          },
          "paper_bgcolor": "white",
          "plot_bgcolor": "#E5ECF6",
          "polar": {
           "angularaxis": {
            "gridcolor": "white",
            "linecolor": "white",
            "ticks": ""
           },
           "bgcolor": "#E5ECF6",
           "radialaxis": {
            "gridcolor": "white",
            "linecolor": "white",
            "ticks": ""
           }
          },
          "scene": {
           "xaxis": {
            "backgroundcolor": "#E5ECF6",
            "gridcolor": "white",
            "gridwidth": 2,
            "linecolor": "white",
            "showbackground": true,
            "ticks": "",
            "zerolinecolor": "white"
           },
           "yaxis": {
            "backgroundcolor": "#E5ECF6",
            "gridcolor": "white",
            "gridwidth": 2,
            "linecolor": "white",
            "showbackground": true,
            "ticks": "",
            "zerolinecolor": "white"
           },
           "zaxis": {
            "backgroundcolor": "#E5ECF6",
            "gridcolor": "white",
            "gridwidth": 2,
            "linecolor": "white",
            "showbackground": true,
            "ticks": "",
            "zerolinecolor": "white"
           }
          },
          "shapedefaults": {
           "line": {
            "color": "#2a3f5f"
           }
          },
          "ternary": {
           "aaxis": {
            "gridcolor": "white",
            "linecolor": "white",
            "ticks": ""
           },
           "baxis": {
            "gridcolor": "white",
            "linecolor": "white",
            "ticks": ""
           },
           "bgcolor": "#E5ECF6",
           "caxis": {
            "gridcolor": "white",
            "linecolor": "white",
            "ticks": ""
           }
          },
          "title": {
           "x": 0.05
          },
          "xaxis": {
           "automargin": true,
           "gridcolor": "white",
           "linecolor": "white",
           "ticks": "",
           "title": {
            "standoff": 15
           },
           "zerolinecolor": "white",
           "zerolinewidth": 2
          },
          "yaxis": {
           "automargin": true,
           "gridcolor": "white",
           "linecolor": "white",
           "ticks": "",
           "title": {
            "standoff": 15
           },
           "zerolinecolor": "white",
           "zerolinewidth": 2
          }
         }
        },
        "title": {
         "text": "Slice Plot"
        },
        "width": 1800,
        "xaxis": {
         "anchor": "y",
         "domain": [
          0,
          0.1388888888888889
         ],
         "title": {
          "text": "gamma"
         }
        },
        "xaxis2": {
         "anchor": "y2",
         "domain": [
          0.17222222222222222,
          0.3111111111111111
         ],
         "title": {
          "text": "learning_rate"
         }
        },
        "xaxis3": {
         "anchor": "y3",
         "domain": [
          0.34444444444444444,
          0.48333333333333334
         ],
         "title": {
          "text": "max_depth"
         }
        },
        "xaxis4": {
         "anchor": "y4",
         "domain": [
          0.5166666666666667,
          0.6555555555555557
         ],
         "title": {
          "text": "min_child_weight"
         }
        },
        "xaxis5": {
         "anchor": "y5",
         "domain": [
          0.6888888888888889,
          0.8277777777777777
         ],
         "title": {
          "text": "n_estimators"
         }
        },
        "xaxis6": {
         "anchor": "y6",
         "domain": [
          0.861111111111111,
          1
         ],
         "title": {
          "text": "subsample"
         }
        },
        "yaxis": {
         "anchor": "x",
         "domain": [
          0,
          1
         ],
         "title": {
          "text": "Objective Value"
         }
        },
        "yaxis2": {
         "anchor": "x2",
         "domain": [
          0,
          1
         ],
         "matches": "y",
         "showticklabels": false
        },
        "yaxis3": {
         "anchor": "x3",
         "domain": [
          0,
          1
         ],
         "matches": "y",
         "showticklabels": false
        },
        "yaxis4": {
         "anchor": "x4",
         "domain": [
          0,
          1
         ],
         "matches": "y",
         "showticklabels": false
        },
        "yaxis5": {
         "anchor": "x5",
         "domain": [
          0,
          1
         ],
         "matches": "y",
         "showticklabels": false
        },
        "yaxis6": {
         "anchor": "x6",
         "domain": [
          0,
          1
         ],
         "matches": "y",
         "showticklabels": false
        }
       }
      }
     },
     "metadata": {},
     "output_type": "display_data"
    }
   ],
   "source": [
    "optuna.visualization.plot_slice(study)"
   ]
  },
  {
   "cell_type": "code",
   "execution_count": 20,
   "metadata": {},
   "outputs": [
    {
     "data": {
      "text/html": [
       "<style>#sk-container-id-2 {color: black;background-color: white;}#sk-container-id-2 pre{padding: 0;}#sk-container-id-2 div.sk-toggleable {background-color: white;}#sk-container-id-2 label.sk-toggleable__label {cursor: pointer;display: block;width: 100%;margin-bottom: 0;padding: 0.3em;box-sizing: border-box;text-align: center;}#sk-container-id-2 label.sk-toggleable__label-arrow:before {content: \"▸\";float: left;margin-right: 0.25em;color: #696969;}#sk-container-id-2 label.sk-toggleable__label-arrow:hover:before {color: black;}#sk-container-id-2 div.sk-estimator:hover label.sk-toggleable__label-arrow:before {color: black;}#sk-container-id-2 div.sk-toggleable__content {max-height: 0;max-width: 0;overflow: hidden;text-align: left;background-color: #f0f8ff;}#sk-container-id-2 div.sk-toggleable__content pre {margin: 0.2em;color: black;border-radius: 0.25em;background-color: #f0f8ff;}#sk-container-id-2 input.sk-toggleable__control:checked~div.sk-toggleable__content {max-height: 200px;max-width: 100%;overflow: auto;}#sk-container-id-2 input.sk-toggleable__control:checked~label.sk-toggleable__label-arrow:before {content: \"▾\";}#sk-container-id-2 div.sk-estimator input.sk-toggleable__control:checked~label.sk-toggleable__label {background-color: #d4ebff;}#sk-container-id-2 div.sk-label input.sk-toggleable__control:checked~label.sk-toggleable__label {background-color: #d4ebff;}#sk-container-id-2 input.sk-hidden--visually {border: 0;clip: rect(1px 1px 1px 1px);clip: rect(1px, 1px, 1px, 1px);height: 1px;margin: -1px;overflow: hidden;padding: 0;position: absolute;width: 1px;}#sk-container-id-2 div.sk-estimator {font-family: monospace;background-color: #f0f8ff;border: 1px dotted black;border-radius: 0.25em;box-sizing: border-box;margin-bottom: 0.5em;}#sk-container-id-2 div.sk-estimator:hover {background-color: #d4ebff;}#sk-container-id-2 div.sk-parallel-item::after {content: \"\";width: 100%;border-bottom: 1px solid gray;flex-grow: 1;}#sk-container-id-2 div.sk-label:hover label.sk-toggleable__label {background-color: #d4ebff;}#sk-container-id-2 div.sk-serial::before {content: \"\";position: absolute;border-left: 1px solid gray;box-sizing: border-box;top: 0;bottom: 0;left: 50%;z-index: 0;}#sk-container-id-2 div.sk-serial {display: flex;flex-direction: column;align-items: center;background-color: white;padding-right: 0.2em;padding-left: 0.2em;position: relative;}#sk-container-id-2 div.sk-item {position: relative;z-index: 1;}#sk-container-id-2 div.sk-parallel {display: flex;align-items: stretch;justify-content: center;background-color: white;position: relative;}#sk-container-id-2 div.sk-item::before, #sk-container-id-2 div.sk-parallel-item::before {content: \"\";position: absolute;border-left: 1px solid gray;box-sizing: border-box;top: 0;bottom: 0;left: 50%;z-index: -1;}#sk-container-id-2 div.sk-parallel-item {display: flex;flex-direction: column;z-index: 1;position: relative;background-color: white;}#sk-container-id-2 div.sk-parallel-item:first-child::after {align-self: flex-end;width: 50%;}#sk-container-id-2 div.sk-parallel-item:last-child::after {align-self: flex-start;width: 50%;}#sk-container-id-2 div.sk-parallel-item:only-child::after {width: 0;}#sk-container-id-2 div.sk-dashed-wrapped {border: 1px dashed gray;margin: 0 0.4em 0.5em 0.4em;box-sizing: border-box;padding-bottom: 0.4em;background-color: white;}#sk-container-id-2 div.sk-label label {font-family: monospace;font-weight: bold;display: inline-block;line-height: 1.2em;}#sk-container-id-2 div.sk-label-container {text-align: center;}#sk-container-id-2 div.sk-container {/* jupyter's `normalize.less` sets `[hidden] { display: none; }` but bootstrap.min.css set `[hidden] { display: none !important; }` so we also need the `!important` here to be able to override the default hidden behavior on the sphinx rendered scikit-learn.org. See: https://github.com/scikit-learn/scikit-learn/issues/21755 */display: inline-block !important;position: relative;}#sk-container-id-2 div.sk-text-repr-fallback {display: none;}</style><div id=\"sk-container-id-2\" class=\"sk-top-container\"><div class=\"sk-text-repr-fallback\"><pre>XGBClassifier(base_score=None, booster=None, callbacks=None,\n",
       "              colsample_bylevel=None, colsample_bynode=None,\n",
       "              colsample_bytree=None, early_stopping_rounds=None,\n",
       "              enable_categorical=False, eval_metric=None, feature_types=None,\n",
       "              gamma=0, gpu_id=None, grow_policy=None, importance_type=None,\n",
       "              interaction_constraints=None, learning_rate=0.04600547885721323,\n",
       "              max_bin=None, max_cat_threshold=None, max_cat_to_onehot=None,\n",
       "              max_delta_step=None, max_depth=10, max_leaves=None,\n",
       "              min_child_weight=2, missing=nan, monotone_constraints=None,\n",
       "              n_estimators=915, n_jobs=None, num_parallel_tree=None,\n",
       "              predictor=None, random_state=None, ...)</pre><b>In a Jupyter environment, please rerun this cell to show the HTML representation or trust the notebook. <br />On GitHub, the HTML representation is unable to render, please try loading this page with nbviewer.org.</b></div><div class=\"sk-container\" hidden><div class=\"sk-item\"><div class=\"sk-estimator sk-toggleable\"><input class=\"sk-toggleable__control sk-hidden--visually\" id=\"sk-estimator-id-2\" type=\"checkbox\" checked><label for=\"sk-estimator-id-2\" class=\"sk-toggleable__label sk-toggleable__label-arrow\">XGBClassifier</label><div class=\"sk-toggleable__content\"><pre>XGBClassifier(base_score=None, booster=None, callbacks=None,\n",
       "              colsample_bylevel=None, colsample_bynode=None,\n",
       "              colsample_bytree=None, early_stopping_rounds=None,\n",
       "              enable_categorical=False, eval_metric=None, feature_types=None,\n",
       "              gamma=0, gpu_id=None, grow_policy=None, importance_type=None,\n",
       "              interaction_constraints=None, learning_rate=0.04600547885721323,\n",
       "              max_bin=None, max_cat_threshold=None, max_cat_to_onehot=None,\n",
       "              max_delta_step=None, max_depth=10, max_leaves=None,\n",
       "              min_child_weight=2, missing=nan, monotone_constraints=None,\n",
       "              n_estimators=915, n_jobs=None, num_parallel_tree=None,\n",
       "              predictor=None, random_state=None, ...)</pre></div></div></div></div></div>"
      ],
      "text/plain": [
       "XGBClassifier(base_score=None, booster=None, callbacks=None,\n",
       "              colsample_bylevel=None, colsample_bynode=None,\n",
       "              colsample_bytree=None, early_stopping_rounds=None,\n",
       "              enable_categorical=False, eval_metric=None, feature_types=None,\n",
       "              gamma=0, gpu_id=None, grow_policy=None, importance_type=None,\n",
       "              interaction_constraints=None, learning_rate=0.04600547885721323,\n",
       "              max_bin=None, max_cat_threshold=None, max_cat_to_onehot=None,\n",
       "              max_delta_step=None, max_depth=10, max_leaves=None,\n",
       "              min_child_weight=2, missing=nan, monotone_constraints=None,\n",
       "              n_estimators=915, n_jobs=None, num_parallel_tree=None,\n",
       "              predictor=None, random_state=None, ...)"
      ]
     },
     "execution_count": 20,
     "metadata": {},
     "output_type": "execute_result"
    }
   ],
   "source": [
    "model_best_params = XGBClassifier(**study.best_params)\n",
    "model_best_params.fit(X_train, y_train)"
   ]
  },
  {
   "cell_type": "code",
   "execution_count": 29,
   "metadata": {},
   "outputs": [],
   "source": [
    "# save best model to json\n",
    "model_best_params.save_model('./best_model.json')"
   ]
  },
  {
   "cell_type": "code",
   "execution_count": 8,
   "metadata": {},
   "outputs": [
    {
     "name": "stdout",
     "output_type": "stream",
     "text": [
      "{'n_estimators': 955, 'max_depth': 6, 'learning_rate': 0.025918490843308425, 'subsample': 0.9489427258507968, 'gamma': 0, 'min_child_weight': 2}\n"
     ]
    }
   ],
   "source": [
    "study.best_params"
   ]
  },
  {
   "cell_type": "code",
   "execution_count": 21,
   "metadata": {},
   "outputs": [
    {
     "name": "stdout",
     "output_type": "stream",
     "text": [
      "Results with best params on test data:\n",
      "Precision:  0.9994665101343403\n",
      "Recall:  0.9999567015730713\n",
      "F1:  0.9997115457644647\n",
      "ROC AUC:  0.9997103392659933\n"
     ]
    }
   ],
   "source": [
    "print('Results with best params on test data:')\n",
    "y_pred2 = model_best_params.predict(X_test)\n",
    "print('Precision: ', precision_score(y_test, y_pred2))\n",
    "print('Recall: ', recall_score(y_test, y_pred2))\n",
    "print('F1: ', f1_score(y_test, y_pred2))\n",
    "print('ROC AUC: ', roc_auc_score(y_test, y_pred2))"
   ]
  },
  {
   "cell_type": "code",
   "execution_count": 22,
   "metadata": {},
   "outputs": [
    {
     "name": "stdout",
     "output_type": "stream",
     "text": [
      "[[1264193     678]\n",
      " [     55 1270199]]\n"
     ]
    },
    {
     "data": {
      "image/png": "[encoded data removed]",
      "text/plain": [
       "<Figure size 640x480 with 2 Axes>"
      ]
     },
     "metadata": {},
     "output_type": "display_data"
    }
   ],
   "source": [
    "# Confusion Matrix on validation data\n",
    "sns.heatmap(confusion_matrix(y_test, y_pred2, normalize='true'), annot=True)\n",
    "print(confusion_matrix(y_test, y_pred2))"
   ]
  },
  {
   "cell_type": "code",
   "execution_count": 23,
   "metadata": {},
   "outputs": [],
   "source": [
    "y_pred = model_best_params.predict(X_val)"
   ]
  },
  {
   "cell_type": "code",
   "execution_count": 24,
   "metadata": {},
   "outputs": [
    {
     "name": "stdout",
     "output_type": "stream",
     "text": [
      "Results with best params on validation data:\n",
      "Precision:  0.9994748014954378\n",
      "Recall:  0.9999629739336493\n",
      "F1:  0.9997188281197084\n",
      "ROC AUC:  0.9997180066085546\n"
     ]
    }
   ],
   "source": [
    "print('Results with best params on validation data:')\n",
    "print('Precision: ', precision_score(y_val, y_pred))\n",
    "print('Recall: ', recall_score(y_val, y_pred))\n",
    "print('F1: ', f1_score(y_val, y_pred))\n",
    "print('ROC AUC: ', roc_auc_score(y_val, y_pred))"
   ]
  },
  {
   "cell_type": "code",
   "execution_count": 25,
   "metadata": {},
   "outputs": [
    {
     "name": "stdout",
     "output_type": "stream",
     "text": [
      "[[1265082     667]\n",
      " [     47 1269329]]\n"
     ]
    },
    {
     "data": {
      "image/png": "[encoded data removed]",
      "text/plain": [
       "<Figure size 640x480 with 2 Axes>"
      ]
     },
     "metadata": {},
     "output_type": "display_data"
    }
   ],
   "source": [
    "# Confusion Matrix on validation data\n",
    "sns.heatmap(confusion_matrix(y_val, y_pred, normalize='true'), annot=True)\n",
    "print(confusion_matrix(y_val, y_pred))"
   ]
  },
  {
   "cell_type": "markdown",
   "metadata": {},
   "source": [
    "## not sure about this"
   ]
  },
  {
   "cell_type": "code",
   "execution_count": 26,
   "metadata": {},
   "outputs": [],
   "source": [
    "# test predictions on full dataset\n",
    "\n",
    "df_full = pd.read_csv('./data/PS_20174392719_1491204439457_log.csv')\n",
    "\n",
    "#df_full = df_full.sample(n=100000)\n",
    "\n",
    "# copy first letter of nameDest and to new column\n",
    "df_full['nameOrig_first'] = df_full['nameOrig'].str[0]\n",
    "df_full['nameDest_first'] = df_full['nameDest'].str[0]\n",
    "\n",
    "# split data into train, test and validation sets\n",
    "X_full = df_full.drop(['step','nameOrig','nameDest','isFraud', 'isFlaggedFraud'], axis=1)\n",
    "y_full = df_full['isFraud']\n",
    "\n",
    "# encode categorical data\n",
    "le = LabelEncoder()\n",
    "columns_to_encode = ['type', 'nameDest_first', 'nameOrig_first']\n",
    "X_full[columns_to_encode] = X_full[columns_to_encode].apply(lambda col: le.fit_transform(col))"
   ]
  },
  {
   "cell_type": "code",
   "execution_count": 27,
   "metadata": {},
   "outputs": [
    {
     "name": "stdout",
     "output_type": "stream",
     "text": [
      "Results with best params on full data:\n",
      "Precision:  0.5379260524069088\n",
      "Recall:  0.9973213198587605\n",
      "F1:  0.6988907849829352\n",
      "ROC AUC:  0.9981070284103415\n"
     ]
    }
   ],
   "source": [
    "print('Results with best params on full data:')\n",
    "y_pred_full = model_best_params.predict(X_full)\n",
    "print('Precision: ', precision_score(y_full, y_pred_full))\n",
    "print('Recall: ', recall_score(y_full, y_pred_full))\n",
    "print('F1: ', f1_score(y_full, y_pred_full))\n",
    "print('ROC AUC: ', roc_auc_score(y_full, y_pred_full))"
   ]
  },
  {
   "cell_type": "code",
   "execution_count": 28,
   "metadata": {},
   "outputs": [
    {
     "name": "stdout",
     "output_type": "stream",
     "text": [
      "[[6347371    7036]\n",
      " [     22    8191]]\n"
     ]
    },
    {
     "data": {
      "image/png": "[encoded data removed]",
      "text/plain": [
       "<Figure size 640x480 with 2 Axes>"
      ]
     },
     "metadata": {},
     "output_type": "display_data"
    }
   ],
   "source": [
    "# Confusion Matrix on validation data\n",
    "sns.heatmap(confusion_matrix(y_full, y_pred_full, normalize='true'), annot=True)\n",
    "print(confusion_matrix(y_full, y_pred_full))"
   ]
  },
  {
   "cell_type": "code",
   "execution_count": null,
   "metadata": {},
   "outputs": [],
   "source": [
    "\"1,PAYMENT,9839.64,C1231006815,170136.0,160296.36,M1979787155,0.0,0.0,0,0\""
   ]
  },
  {
   "cell_type": "code",
   "execution_count": 38,
   "metadata": {},
   "outputs": [
    {
     "name": "stdout",
     "output_type": "stream",
     "text": [
      "The model predicts that the transaction is fraudulent.\n"
     ]
    }
   ],
   "source": [
    "# create fictional transaction to test the model: type, amount, oldbalanceOrg, newbalanceOrig, oldbalanceDest, newbalanceDest, nameOrig_first, nameDest_first\n",
    "to_test = {\n",
    "    'type': 5,\n",
    "    'amount': 254,\n",
    "    'oldbalanceOrg': 254,\n",
    "    'newbalanceOrig': 0,\n",
    "    'oldbalanceDest': 0,\n",
    "    'newbalanceDest': 0,\n",
    "    'nameOrig_first': 0,\n",
    "    'nameDest_first': 0\n",
    "}\n",
    "to_test = pd.DataFrame([to_test])\n",
    "\n",
    "skuska = model_best_params.predict(to_test)\n",
    "\n",
    "# Interpret the prediction\n",
    "if skuska[0] == 1:\n",
    "    print(\"The model predicts that the transaction is fraudulent.\")\n",
    "else:\n",
    "    print(\"The model predicts that the transaction is not fraudulent.\")"
   ]
  },
  {
   "cell_type": "code",
   "execution_count": null,
   "metadata": {},
   "outputs": [],
   "source": [
    "import mlflow\n",
    "import mlflow.pyfunc\n",
    "import mlflow.sklearn\n",
    "import numpy as np\n",
    "import sklearn\n",
    "from sklearn.ensemble import RandomForestClassifier\n",
    "from sklearn.metrics import roc_auc_score\n",
    "from mlflow.models.signature import infer_signature\n",
    "from mlflow.utils.environment import _mlflow_conda_env\n",
    "import cloudpickle\n",
    "import time\n",
    " \n",
    "# The predict method of sklearn's RandomForestClassifier returns a binary classification (0 or 1). \n",
    "# The following code creates a wrapper function, SklearnModelWrapper, that uses \n",
    "# the predict_proba method to return the probability that the observation belongs to each class. \n",
    " \n",
    "class SklearnModelWrapper(mlflow.pyfunc.PythonModel):\n",
    "  def __init__(self, model):\n",
    "    self.model = model\n",
    "    \n",
    "  def predict(self, context, model_input):\n",
    "    return self.model.predict_proba(model_input)[:,1]\n",
    " \n",
    "# mlflow.start_run creates a new MLflow run to track the performance of this model. \n",
    "# Within the context, you call mlflow.log_param to keep track of the parameters used, and\n",
    "# mlflow.log_metric to record metrics like accuracy.\n",
    "with mlflow.start_run(run_name='untuned_random_forest'):\n",
    "  n_estimators = 10\n",
    "  model = RandomForestClassifier(n_estimators=n_estimators, random_state=np.random.RandomState(123))\n",
    "  model.fit(X_train, y_train)\n",
    " \n",
    "  # predict_proba returns [prob_negative, prob_positive], so slice the output with [:, 1]\n",
    "  predictions_test = model.predict_proba(X_test)[:,1]\n",
    "  auc_score = roc_auc_score(y_test, predictions_test)\n",
    "  mlflow.log_param('n_estimators', n_estimators)\n",
    "  # Use the area under the ROC curve as a metric.\n",
    "  mlflow.log_metric('auc', auc_score)\n",
    "  wrappedModel = SklearnModelWrapper(model)\n",
    "  # Log the model with a signature that defines the schema of the model's inputs and outputs. \n",
    "  # When the model is deployed, this signature will be used to validate inputs.\n",
    "  signature = infer_signature(X_train, wrappedModel.predict(None, X_train))\n",
    "  \n",
    "  # MLflow contains utilities to create a conda environment used to serve models.\n",
    "  # The necessary dependencies are added to a conda.yaml file which is logged along with the model.\n",
    "  conda_env =  _mlflow_conda_env(\n",
    "        additional_conda_deps=None,\n",
    "        additional_pip_deps=[\"cloudpickle=={}\".format(cloudpickle.__version__), \"scikit-learn=={}\".format(sklearn.__version__)],\n",
    "        additional_conda_channels=None,\n",
    "    )\n",
    "  mlflow.pyfunc.log_model(\"random_forest_model\", python_model=wrappedModel, conda_env=conda_env, signature=signature)\n",
    "/databricks/python/lib/python3.10/site-packages/mlflow/models/signature.py:144: UserWarning: Hint: Inferred schema contains integer column(s). Integer columns in Python cannot represent missing values. If your input data contains missing values at inference time, it will be encoded as floats and will cause a schema enforcement error. The best way to avoid this problem is to infer the model schema based on a realistic data sample (training dataset) that includes missing values. Alternatively, you can declare integer columns as doubles (float64) whenever these columns may have missing values. See `Handling Integers With Missing Values <https://www.mlflow.org/docs/latest/models.html#handling-integers-with-missing-values>`_ for more details.\n",
    "  inputs = _infer_schema(model_input)"
   ]
  }
 ],
 "metadata": {
  "kernelspec": {
   "display_name": "SDAkurz",
   "language": "python",
   "name": "python3"
  },
  "language_info": {
   "codemirror_mode": {
    "name": "ipython",
    "version": 3
   },
   "file_extension": ".py",
   "mimetype": "text/x-python",
   "name": "python",
   "nbconvert_exporter": "python",
   "pygments_lexer": "ipython3",
   "version": "3.10.12"
  }
 },
 "nbformat": 4,
 "nbformat_minor": 2
}
