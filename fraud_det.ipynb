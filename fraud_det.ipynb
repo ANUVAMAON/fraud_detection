{
 "cells": [
  {
   "cell_type": "code",
   "execution_count": 1,
   "metadata": {},
   "outputs": [],
   "source": [
    "import pandas as pd\n",
    "import seaborn as sns"
   ]
  },
  {
   "cell_type": "code",
   "execution_count": 2,
   "metadata": {},
   "outputs": [],
   "source": [
    "df = pd.read_csv('./data/PS_20174392719_1491204439457_log.csv')"
   ]
  },
  {
   "cell_type": "code",
   "execution_count": 3,
   "metadata": {},
   "outputs": [
    {
     "data": {
      "text/plain": [
       "['PAYMENT', 'TRANSFER', 'CASH_OUT', 'DEBIT', 'CASH_IN']"
      ]
     },
     "execution_count": 3,
     "metadata": {},
     "output_type": "execute_result"
    }
   ],
   "source": [
    "df['type'].unique().tolist()"
   ]
  },
  {
   "cell_type": "code",
   "execution_count": 4,
   "metadata": {},
   "outputs": [
    {
     "data": {
      "text/plain": [
       "0.129248881917699"
      ]
     },
     "execution_count": 4,
     "metadata": {},
     "output_type": "execute_result"
    }
   ],
   "source": [
    "# Only 0,13% of the transactions are fraudulent\n",
    "(df['isFraud'].value_counts()[1]/df['isFraud'].value_counts()[0])*100"
   ]
  },
  {
   "cell_type": "code",
   "execution_count": 5,
   "metadata": {},
   "outputs": [
    {
     "data": {
      "text/plain": [
       "['TRANSFER', 'CASH_OUT']"
      ]
     },
     "execution_count": 5,
     "metadata": {},
     "output_type": "execute_result"
    }
   ],
   "source": [
    "# Data is highly imbalanced with only 0.129% of the transactions being fraudulent, so we need to balance the data\n",
    "# We can see that the fraudulent transactions are only of type 'TRANSFER' and 'CASH_OUT'\n",
    "\n",
    "df[df['isFraud']==1]['type'].unique().tolist()"
   ]
  },
  {
   "cell_type": "code",
   "execution_count": 6,
   "metadata": {},
   "outputs": [],
   "source": [
    "# remove lines with 'CASH_IN', 'DEBIT' and 'PAYMENT' as they are not fraudulent\n",
    "#df = df[~df['type'].isin(['CASH_IN', 'DEBIT', 'PAYMENT'])]\n",
    "\n",
    "# after removing the above lines, we can see that the fraudulent transactions dataset is still imbalanced\n",
    "#df['isFraud'].value_counts()[1]/df['isFraud'].value_counts()[0]"
   ]
  },
  {
   "cell_type": "code",
   "execution_count": 7,
   "metadata": {},
   "outputs": [
    {
     "data": {
      "text/plain": [
       "<Axes: xlabel='isFraud', ylabel='count'>"
      ]
     },
     "execution_count": 7,
     "metadata": {},
     "output_type": "execute_result"
    },
    {
     "data": {
      "image/png": "[encoded data removed]",
      "text/plain": [
       "<Figure size 640x480 with 1 Axes>"
      ]
     },
     "metadata": {},
     "output_type": "display_data"
    }
   ],
   "source": [
    "sns.countplot(x='isFraud', data=df)"
   ]
  },
  {
   "cell_type": "code",
   "execution_count": 8,
   "metadata": {},
   "outputs": [],
   "source": [
    "# create a new dataframe with only the fraudulent and non-fraudulent transactions\n",
    "\n",
    "df_fraud = df[df['isFraud'] == 1]\n",
    "df_not_fraud = df[df['isFraud'] == 0]"
   ]
  },
  {
   "cell_type": "code",
   "execution_count": 9,
   "metadata": {},
   "outputs": [
    {
     "name": "stdout",
     "output_type": "stream",
     "text": [
      "6354407\n",
      "8213\n"
     ]
    }
   ],
   "source": [
    "print(len(df_not_fraud))\n",
    "print(len(df_fraud))"
   ]
  },
  {
   "cell_type": "code",
   "execution_count": 11,
   "metadata": {},
   "outputs": [],
   "source": [
    "# use pandas sample to balance the dataset\n",
    "df_not_fraud = df_not_fraud.sample(n=len(df_fraud)*50)"
   ]
  },
  {
   "cell_type": "code",
   "execution_count": 12,
   "metadata": {},
   "outputs": [],
   "source": [
    "balanced_df = pd.concat([df_not_fraud, df_fraud])"
   ]
  },
  {
   "cell_type": "code",
   "execution_count": 14,
   "metadata": {},
   "outputs": [],
   "source": [
    "df = balanced_df"
   ]
  },
  {
   "cell_type": "code",
   "execution_count": 15,
   "metadata": {},
   "outputs": [
    {
     "data": {
      "text/plain": [
       "<Axes: xlabel='isFraud', ylabel='count'>"
      ]
     },
     "execution_count": 15,
     "metadata": {},
     "output_type": "execute_result"
    },
    {
     "data": {
      "image/png": "[encoded data removed]",
      "text/plain": [
       "<Figure size 640x480 with 1 Axes>"
      ]
     },
     "metadata": {},
     "output_type": "display_data"
    }
   ],
   "source": [
    "sns.countplot(x='isFraud', data=df)"
   ]
  },
  {
   "cell_type": "code",
   "execution_count": 16,
   "metadata": {},
   "outputs": [],
   "source": [
    "# copy first letter of nameDest and to new column\n",
    "df['nameOrig_first'] = df['nameOrig'].str[0]\n",
    "df['nameDest_first'] = df['nameDest'].str[0]"
   ]
  },
  {
   "cell_type": "code",
   "execution_count": 17,
   "metadata": {},
   "outputs": [],
   "source": [
    "# drop columns that are not needed\n",
    "new_df = df.drop(['step','nameOrig','nameDest'], axis=1)"
   ]
  },
  {
   "cell_type": "code",
   "execution_count": 18,
   "metadata": {},
   "outputs": [],
   "source": [
    "from sklearn.preprocessing import LabelEncoder\n",
    "from lazypredict.Supervised import LazyClassifier\n",
    "from sklearn.model_selection import train_test_split"
   ]
  },
  {
   "cell_type": "code",
   "execution_count": 19,
   "metadata": {},
   "outputs": [
    {
     "name": "stdout",
     "output_type": "stream",
     "text": [
      "(251317, 8) (251317,)\n",
      "(83773, 8) (83773,)\n",
      "(83773, 8) (83773,)\n"
     ]
    }
   ],
   "source": [
    "# split data into train, test and validation sets\n",
    "X = new_df.drop(['isFraud', 'isFlaggedFraud'], axis=1)\n",
    "y = new_df['isFraud']\n",
    "\n",
    "# encode categorical data\n",
    "le = LabelEncoder()\n",
    "columns_to_encode = ['type', 'nameDest_first', 'nameOrig_first']\n",
    "X[columns_to_encode] = X[columns_to_encode].apply(lambda col: le.fit_transform(col))\n",
    "\n",
    "X_train, X_test, y_train, y_test = train_test_split(X, y, test_size=0.2, random_state=42)\n",
    "X_train, X_val, y_train, y_val = train_test_split(X_train, y_train, test_size=0.25, random_state=1)\n",
    "\n",
    "print(X_train.shape, y_train.shape)\n",
    "print(X_test.shape, y_test.shape)\n",
    "print(X_val.shape, y_val.shape)"
   ]
  },
  {
   "cell_type": "code",
   "execution_count": 21,
   "metadata": {},
   "outputs": [
    {
     "name": "stderr",
     "output_type": "stream",
     "text": [
      " 97%|█████████▋| 28/29 [03:53<00:26, 26.98s/it]"
     ]
    },
    {
     "name": "stdout",
     "output_type": "stream",
     "text": [
      "[LightGBM] [Info] Number of positive: 4906, number of negative: 246411\n",
      "[LightGBM] [Warning] Auto-choosing row-wise multi-threading, the overhead of testing was 0.002014 seconds.\n",
      "You can set `force_row_wise=true` to remove the overhead.\n",
      "And if memory is not enough, you can set `force_col_wise=true`.\n",
      "[LightGBM] [Info] Total Bins 1284\n",
      "[LightGBM] [Info] Number of data points in the train set: 251317, number of used features: 7\n",
      "[LightGBM] [Info] [binary:BoostFromScore]: pavg=0.019521 -> initscore=-3.916542\n",
      "[LightGBM] [Info] Start training from score -3.916542\n"
     ]
    },
    {
     "name": "stderr",
     "output_type": "stream",
     "text": [
      "100%|██████████| 29/29 [03:54<00:00,  8.07s/it]\n"
     ]
    }
   ],
   "source": [
    "lazy_clf = LazyClassifier(verbose=0, ignore_warnings=True, custom_metric=None)\n",
    "models, predictions = lazy_clf.fit(X_train, X_val, y_train, y_val)\n",
    "\n",
    "# output of LazyClassifier is in models.html"
   ]
  },
  {
   "cell_type": "code",
   "execution_count": null,
   "metadata": {},
   "outputs": [],
   "source": [
    "print(models)\n",
    "models.to_html('./models_balanced_data50.html')"
   ]
  },
  {
   "cell_type": "code",
   "execution_count": 20,
   "metadata": {},
   "outputs": [
    {
     "data": {
      "text/html": [
       "<style>#sk-container-id-1 {color: black;}#sk-container-id-1 pre{padding: 0;}#sk-container-id-1 div.sk-toggleable {background-color: white;}#sk-container-id-1 label.sk-toggleable__label {cursor: pointer;display: block;width: 100%;margin-bottom: 0;padding: 0.3em;box-sizing: border-box;text-align: center;}#sk-container-id-1 label.sk-toggleable__label-arrow:before {content: \"▸\";float: left;margin-right: 0.25em;color: #696969;}#sk-container-id-1 label.sk-toggleable__label-arrow:hover:before {color: black;}#sk-container-id-1 div.sk-estimator:hover label.sk-toggleable__label-arrow:before {color: black;}#sk-container-id-1 div.sk-toggleable__content {max-height: 0;max-width: 0;overflow: hidden;text-align: left;background-color: #f0f8ff;}#sk-container-id-1 div.sk-toggleable__content pre {margin: 0.2em;color: black;border-radius: 0.25em;background-color: #f0f8ff;}#sk-container-id-1 input.sk-toggleable__control:checked~div.sk-toggleable__content {max-height: 200px;max-width: 100%;overflow: auto;}#sk-container-id-1 input.sk-toggleable__control:checked~label.sk-toggleable__label-arrow:before {content: \"▾\";}#sk-container-id-1 div.sk-estimator input.sk-toggleable__control:checked~label.sk-toggleable__label {background-color: #d4ebff;}#sk-container-id-1 div.sk-label input.sk-toggleable__control:checked~label.sk-toggleable__label {background-color: #d4ebff;}#sk-container-id-1 input.sk-hidden--visually {border: 0;clip: rect(1px 1px 1px 1px);clip: rect(1px, 1px, 1px, 1px);height: 1px;margin: -1px;overflow: hidden;padding: 0;position: absolute;width: 1px;}#sk-container-id-1 div.sk-estimator {font-family: monospace;background-color: #f0f8ff;border: 1px dotted black;border-radius: 0.25em;box-sizing: border-box;margin-bottom: 0.5em;}#sk-container-id-1 div.sk-estimator:hover {background-color: #d4ebff;}#sk-container-id-1 div.sk-parallel-item::after {content: \"\";width: 100%;border-bottom: 1px solid gray;flex-grow: 1;}#sk-container-id-1 div.sk-label:hover label.sk-toggleable__label {background-color: #d4ebff;}#sk-container-id-1 div.sk-serial::before {content: \"\";position: absolute;border-left: 1px solid gray;box-sizing: border-box;top: 0;bottom: 0;left: 50%;z-index: 0;}#sk-container-id-1 div.sk-serial {display: flex;flex-direction: column;align-items: center;background-color: white;padding-right: 0.2em;padding-left: 0.2em;position: relative;}#sk-container-id-1 div.sk-item {position: relative;z-index: 1;}#sk-container-id-1 div.sk-parallel {display: flex;align-items: stretch;justify-content: center;background-color: white;position: relative;}#sk-container-id-1 div.sk-item::before, #sk-container-id-1 div.sk-parallel-item::before {content: \"\";position: absolute;border-left: 1px solid gray;box-sizing: border-box;top: 0;bottom: 0;left: 50%;z-index: -1;}#sk-container-id-1 div.sk-parallel-item {display: flex;flex-direction: column;z-index: 1;position: relative;background-color: white;}#sk-container-id-1 div.sk-parallel-item:first-child::after {align-self: flex-end;width: 50%;}#sk-container-id-1 div.sk-parallel-item:last-child::after {align-self: flex-start;width: 50%;}#sk-container-id-1 div.sk-parallel-item:only-child::after {width: 0;}#sk-container-id-1 div.sk-dashed-wrapped {border: 1px dashed gray;margin: 0 0.4em 0.5em 0.4em;box-sizing: border-box;padding-bottom: 0.4em;background-color: white;}#sk-container-id-1 div.sk-label label {font-family: monospace;font-weight: bold;display: inline-block;line-height: 1.2em;}#sk-container-id-1 div.sk-label-container {text-align: center;}#sk-container-id-1 div.sk-container {/* jupyter's `normalize.less` sets `[hidden] { display: none; }` but bootstrap.min.css set `[hidden] { display: none !important; }` so we also need the `!important` here to be able to override the default hidden behavior on the sphinx rendered scikit-learn.org. See: https://github.com/scikit-learn/scikit-learn/issues/21755 */display: inline-block !important;position: relative;}#sk-container-id-1 div.sk-text-repr-fallback {display: none;}</style><div id=\"sk-container-id-1\" class=\"sk-top-container\"><div class=\"sk-text-repr-fallback\"><pre>XGBClassifier(base_score=None, booster=None, callbacks=None,\n",
       "              colsample_bylevel=None, colsample_bynode=None,\n",
       "              colsample_bytree=None, early_stopping_rounds=None,\n",
       "              enable_categorical=False, eval_metric=None, feature_types=None,\n",
       "              gamma=None, gpu_id=None, grow_policy=None, importance_type=None,\n",
       "              interaction_constraints=None, learning_rate=None, max_bin=None,\n",
       "              max_cat_threshold=None, max_cat_to_onehot=None,\n",
       "              max_delta_step=None, max_depth=None, max_leaves=None,\n",
       "              min_child_weight=None, missing=nan, monotone_constraints=None,\n",
       "              n_estimators=100, n_jobs=None, num_parallel_tree=None,\n",
       "              predictor=None, random_state=None, ...)</pre><b>In a Jupyter environment, please rerun this cell to show the HTML representation or trust the notebook. <br />On GitHub, the HTML representation is unable to render, please try loading this page with nbviewer.org.</b></div><div class=\"sk-container\" hidden><div class=\"sk-item\"><div class=\"sk-estimator sk-toggleable\"><input class=\"sk-toggleable__control sk-hidden--visually\" id=\"sk-estimator-id-1\" type=\"checkbox\" checked><label for=\"sk-estimator-id-1\" class=\"sk-toggleable__label sk-toggleable__label-arrow\">XGBClassifier</label><div class=\"sk-toggleable__content\"><pre>XGBClassifier(base_score=None, booster=None, callbacks=None,\n",
       "              colsample_bylevel=None, colsample_bynode=None,\n",
       "              colsample_bytree=None, early_stopping_rounds=None,\n",
       "              enable_categorical=False, eval_metric=None, feature_types=None,\n",
       "              gamma=None, gpu_id=None, grow_policy=None, importance_type=None,\n",
       "              interaction_constraints=None, learning_rate=None, max_bin=None,\n",
       "              max_cat_threshold=None, max_cat_to_onehot=None,\n",
       "              max_delta_step=None, max_depth=None, max_leaves=None,\n",
       "              min_child_weight=None, missing=nan, monotone_constraints=None,\n",
       "              n_estimators=100, n_jobs=None, num_parallel_tree=None,\n",
       "              predictor=None, random_state=None, ...)</pre></div></div></div></div></div>"
      ],
      "text/plain": [
       "XGBClassifier(base_score=None, booster=None, callbacks=None,\n",
       "              colsample_bylevel=None, colsample_bynode=None,\n",
       "              colsample_bytree=None, early_stopping_rounds=None,\n",
       "              enable_categorical=False, eval_metric=None, feature_types=None,\n",
       "              gamma=None, gpu_id=None, grow_policy=None, importance_type=None,\n",
       "              interaction_constraints=None, learning_rate=None, max_bin=None,\n",
       "              max_cat_threshold=None, max_cat_to_onehot=None,\n",
       "              max_delta_step=None, max_depth=None, max_leaves=None,\n",
       "              min_child_weight=None, missing=nan, monotone_constraints=None,\n",
       "              n_estimators=100, n_jobs=None, num_parallel_tree=None,\n",
       "              predictor=None, random_state=None, ...)"
      ]
     },
     "execution_count": 20,
     "metadata": {},
     "output_type": "execute_result"
    }
   ],
   "source": [
    "#based on the output of LazyClassifier, we can see that the best performing model is XGBClassifier\n",
    "from xgboost import XGBClassifier\n",
    "xgb_clf = XGBClassifier()\n",
    "xgb_clf.fit(X_train, y_train)"
   ]
  },
  {
   "cell_type": "code",
   "execution_count": 18,
   "metadata": {},
   "outputs": [
    {
     "name": "stdout",
     "output_type": "stream",
     "text": [
      "Accuracy:  0.9988301720124623\n",
      "MSE:  0.0011698279875377508\n",
      "Precision:  0.9640330188679245\n",
      "Recall:  0.9778708133971292\n",
      "F1:  0.9709026128266034\n",
      "Log Loss:  0.04216487450769937\n",
      "ROC AUC:  0.988563913050497\n"
     ]
    }
   ],
   "source": [
    "# On test data\n",
    "from sklearn.metrics import accuracy_score, mean_squared_error, precision_score, recall_score, f1_score, log_loss, roc_auc_score, confusion_matrix\n",
    "\n",
    "y_pred = xgb_clf.predict(X_test)\n",
    "print('Accuracy: ', accuracy_score(y_test, y_pred))\n",
    "print('MSE: ', mean_squared_error(y_test, y_pred))\n",
    "print('Precision: ', precision_score(y_test, y_pred))\n",
    "print('Recall: ', recall_score(y_test, y_pred))\n",
    "print('F1: ', f1_score(y_test, y_pred))\n",
    "print('Log Loss: ', log_loss(y_test, y_pred))\n",
    "print('ROC AUC: ', roc_auc_score(y_test, y_pred))"
   ]
  },
  {
   "cell_type": "code",
   "execution_count": 19,
   "metadata": {},
   "outputs": [
    {
     "name": "stdout",
     "output_type": "stream",
     "text": [
      "Accuracy:  0.9987824239313383\n",
      "MSE:  0.0012175760686617407\n",
      "Precision:  0.963141993957704\n",
      "Recall:  0.9749235474006116\n",
      "F1:  0.9689969604863223\n",
      "Log Loss:  0.04388588979372791\n",
      "ROC AUC:  0.9870904473957938\n"
     ]
    }
   ],
   "source": [
    "# On validation data\n",
    "from sklearn.metrics import accuracy_score, mean_squared_error, precision_score, recall_score, f1_score, log_loss, roc_auc_score, confusion_matrix\n",
    "\n",
    "y_predval = xgb_clf.predict(X_val)\n",
    "print('Accuracy: ', accuracy_score(y_val, y_predval))\n",
    "print('MSE: ', mean_squared_error(y_val, y_predval))\n",
    "print('Precision: ', precision_score(y_val, y_predval))\n",
    "print('Recall: ', recall_score(y_val, y_predval))\n",
    "print('F1: ', f1_score(y_val, y_predval))\n",
    "print('Log Loss: ', log_loss(y_val, y_predval))\n",
    "print('ROC AUC: ', roc_auc_score(y_val, y_predval))"
   ]
  },
  {
   "cell_type": "code",
   "execution_count": 20,
   "metadata": {},
   "outputs": [
    {
     "name": "stdout",
     "output_type": "stream",
     "text": [
      "[[82077    61]\n",
      " [   41  1594]]\n"
     ]
    },
    {
     "data": {
      "image/png": "[encoded data removed]",
      "text/plain": [
       "<Figure size 640x480 with 2 Axes>"
      ]
     },
     "metadata": {},
     "output_type": "display_data"
    }
   ],
   "source": [
    "# Confusion Matrix\n",
    "sns.heatmap(confusion_matrix(y_val, y_predval, normalize='true'), annot=True)\n",
    "print(confusion_matrix(y_val, y_predval))"
   ]
  },
  {
   "cell_type": "code",
   "execution_count": 21,
   "metadata": {},
   "outputs": [],
   "source": [
    "# let's try to improve the model by tuning the hyperparameters\n",
    "# import optuna\n",
    "import optuna\n",
    "from xgboost import XGBClassifier\n",
    "from sklearn.metrics import accuracy_score, mean_squared_error, precision_score, recall_score, f1_score, log_loss, roc_auc_score, confusion_matrix\n",
    "\n",
    "# define objective function with hyperparameters for XGBoost\n",
    "\n",
    "def objective(trial, X_train, y_train, X_test, y_test):\n",
    "    X = X_train\n",
    "    y = y_train\n",
    "\n",
    "    params = {\n",
    "        'n_estimators': trial.suggest_int('n_estimators', 100, 1000),\n",
    "        'max_depth': trial.suggest_int('max_depth', 3, 10),\n",
    "        'learning_rate': trial.suggest_loguniform('learning_rate', 0.01, 0.1),\n",
    "        'subsample': trial.suggest_discrete_uniform('subsample', 0.6, 0.95, 0.05),\n",
    "        'colsample_bytree': trial.suggest_discrete_uniform('colsample_bytree', 0.6, 0.95, 0.05),\n",
    "        'gamma': trial.suggest_int('gamma', 0, 10),\n",
    "        'min_child_weight': trial.suggest_int('min_child_weight', 1, 10),\n",
    "        'tree_method': 'gpu_hist',\n",
    "    }\n",
    "\n",
    "    XGB_clf = XGBClassifier(**params)\n",
    "    XGB_clf.fit(X, y)\n",
    "    y_prediction = XGB_clf.predict(X_test)\n",
    "    score = f1_score(y_test, y_prediction)\n",
    "    return score"
   ]
  },
  {
   "cell_type": "code",
   "execution_count": 22,
   "metadata": {},
   "outputs": [
    {
     "name": "stderr",
     "output_type": "stream",
     "text": [
      "[I 2023-10-11 17:31:45,254] A new study created in memory with name: no-name-5cc517ea-9adf-4c6b-9cb5-4a3b3ab18d41\n"
     ]
    },
    {
     "data": {
      "application/vnd.jupyter.widget-view+json": {
       "model_id": "1d7824c08bd44198ba9094a0d5755542",
       "version_major": 2,
       "version_minor": 0
      },
      "text/plain": [
       "  0%|          | 0/50 [00:00<?, ?it/s]"
      ]
     },
     "metadata": {},
     "output_type": "display_data"
    },
    {
     "name": "stdout",
     "output_type": "stream",
     "text": [
      "[I 2023-10-11 17:31:48,347] Trial 0 finished with value: 0.9309712889431888 and parameters: {'n_estimators': 876, 'max_depth': 9, 'learning_rate': 0.010281742466711114, 'subsample': 0.95, 'colsample_bytree': 0.85, 'gamma': 9, 'min_child_weight': 2}. Best is trial 0 with value: 0.9309712889431888.\n",
      "[I 2023-10-11 17:31:49,594] Trial 1 finished with value: 0.9485645933014354 and parameters: {'n_estimators': 816, 'max_depth': 9, 'learning_rate': 0.05597332182864298, 'subsample': 0.8, 'colsample_bytree': 0.95, 'gamma': 3, 'min_child_weight': 7}. Best is trial 1 with value: 0.9485645933014354.\n",
      "[I 2023-10-11 17:31:51,047] Trial 2 finished with value: 0.9470198675496689 and parameters: {'n_estimators': 767, 'max_depth': 10, 'learning_rate': 0.03490759154993503, 'subsample': 0.7, 'colsample_bytree': 0.75, 'gamma': 4, 'min_child_weight': 6}. Best is trial 1 with value: 0.9485645933014354.\n",
      "[I 2023-10-11 17:31:52,325] Trial 3 finished with value: 0.8957928802588997 and parameters: {'n_estimators': 403, 'max_depth': 7, 'learning_rate': 0.016258948575148313, 'subsample': 0.6, 'colsample_bytree': 0.7, 'gamma': 4, 'min_child_weight': 1}. Best is trial 1 with value: 0.9485645933014354.\n",
      "[I 2023-10-11 17:31:53,434] Trial 4 finished with value: 0.8740936058009228 and parameters: {'n_estimators': 593, 'max_depth': 3, 'learning_rate': 0.019634503589424698, 'subsample': 0.6, 'colsample_bytree': 0.7, 'gamma': 10, 'min_child_weight': 2}. Best is trial 1 with value: 0.9485645933014354.\n",
      "[I 2023-10-11 17:31:54,114] Trial 5 finished with value: 0.8767303889255108 and parameters: {'n_estimators': 322, 'max_depth': 3, 'learning_rate': 0.03352537193657743, 'subsample': 0.7, 'colsample_bytree': 0.8, 'gamma': 7, 'min_child_weight': 7}. Best is trial 1 with value: 0.9485645933014354.\n",
      "[I 2023-10-11 17:31:55,090] Trial 6 finished with value: 0.9452466907340553 and parameters: {'n_estimators': 293, 'max_depth': 6, 'learning_rate': 0.08227099650515764, 'subsample': 0.75, 'colsample_bytree': 0.65, 'gamma': 0, 'min_child_weight': 5}. Best is trial 1 with value: 0.9485645933014354.\n",
      "[I 2023-10-11 17:31:56,379] Trial 7 finished with value: 0.9272503082614058 and parameters: {'n_estimators': 822, 'max_depth': 10, 'learning_rate': 0.04644250119112254, 'subsample': 0.6, 'colsample_bytree': 0.75, 'gamma': 9, 'min_child_weight': 10}. Best is trial 1 with value: 0.9485645933014354.\n",
      "[I 2023-10-11 17:31:57,551] Trial 8 finished with value: 0.8777120315581853 and parameters: {'n_estimators': 515, 'max_depth': 4, 'learning_rate': 0.0157121121417279, 'subsample': 0.7, 'colsample_bytree': 0.95, 'gamma': 1, 'min_child_weight': 9}. Best is trial 1 with value: 0.9485645933014354.\n",
      "[I 2023-10-11 17:31:58,660] Trial 9 finished with value: 0.911448450347881 and parameters: {'n_estimators': 539, 'max_depth': 4, 'learning_rate': 0.03824227311743379, 'subsample': 0.6, 'colsample_bytree': 0.7, 'gamma': 4, 'min_child_weight': 8}. Best is trial 1 with value: 0.9485645933014354.\n",
      "[I 2023-10-11 17:31:59,211] Trial 10 finished with value: 0.9518684603886398 and parameters: {'n_estimators': 120, 'max_depth': 8, 'learning_rate': 0.09693792073206736, 'subsample': 0.9, 'colsample_bytree': 0.95, 'gamma': 2, 'min_child_weight': 4}. Best is trial 10 with value: 0.9518684603886398.\n",
      "[I 2023-10-11 17:31:59,789] Trial 11 finished with value: 0.950731561660197 and parameters: {'n_estimators': 163, 'max_depth': 8, 'learning_rate': 0.09048118782470942, 'subsample': 0.9, 'colsample_bytree': 0.95, 'gamma': 2, 'min_child_weight': 4}. Best is trial 10 with value: 0.9518684603886398.\n",
      "[I 2023-10-11 17:32:00,278] Trial 12 finished with value: 0.9429175475687104 and parameters: {'n_estimators': 107, 'max_depth': 7, 'learning_rate': 0.08767043760954679, 'subsample': 0.95, 'colsample_bytree': 0.9, 'gamma': 2, 'min_child_weight': 4}. Best is trial 10 with value: 0.9518684603886398.\n",
      "[I 2023-10-11 17:32:00,719] Trial 13 finished with value: 0.9303178484107579 and parameters: {'n_estimators': 107, 'max_depth': 8, 'learning_rate': 0.09855614180513542, 'subsample': 0.85, 'colsample_bytree': 0.85, 'gamma': 6, 'min_child_weight': 4}. Best is trial 10 with value: 0.9518684603886398.\n",
      "[I 2023-10-11 17:32:01,429] Trial 14 finished with value: 0.942883046237534 and parameters: {'n_estimators': 197, 'max_depth': 6, 'learning_rate': 0.06461201832337463, 'subsample': 0.9, 'colsample_bytree': 0.9, 'gamma': 0, 'min_child_weight': 4}. Best is trial 10 with value: 0.9518684603886398.\n",
      "[I 2023-10-11 17:32:02,157] Trial 15 finished with value: 0.95221027479092 and parameters: {'n_estimators': 217, 'max_depth': 8, 'learning_rate': 0.06925643507398863, 'subsample': 0.85, 'colsample_bytree': 0.95, 'gamma': 2, 'min_child_weight': 3}. Best is trial 15 with value: 0.95221027479092.\n",
      "[I 2023-10-11 17:32:03,042] Trial 16 finished with value: 0.9424242424242424 and parameters: {'n_estimators': 244, 'max_depth': 8, 'learning_rate': 0.06789250698518556, 'subsample': 0.85, 'colsample_bytree': 0.6, 'gamma': 2, 'min_child_weight': 2}. Best is trial 15 with value: 0.95221027479092.\n",
      "[I 2023-10-11 17:32:03,884] Trial 17 finished with value: 0.9205359925210346 and parameters: {'n_estimators': 419, 'max_depth': 5, 'learning_rate': 0.05109872288776158, 'subsample': 0.85, 'colsample_bytree': 0.9, 'gamma': 6, 'min_child_weight': 3}. Best is trial 15 with value: 0.95221027479092.\n",
      "[I 2023-10-11 17:32:05,370] Trial 18 finished with value: 0.9544778339779827 and parameters: {'n_estimators': 638, 'max_depth': 9, 'learning_rate': 0.07158535578588596, 'subsample': 0.8, 'colsample_bytree': 0.85, 'gamma': 1, 'min_child_weight': 6}. Best is trial 18 with value: 0.9544778339779827.\n",
      "[I 2023-10-11 17:32:09,486] Trial 19 finished with value: 0.9519259480441922 and parameters: {'n_estimators': 994, 'max_depth': 9, 'learning_rate': 0.06804498138046146, 'subsample': 0.8, 'colsample_bytree': 0.85, 'gamma': 0, 'min_child_weight': 6}. Best is trial 18 with value: 0.9544778339779827.\n",
      "[I 2023-10-11 17:32:11,343] Trial 20 finished with value: 0.9559041136430897 and parameters: {'n_estimators': 633, 'max_depth': 10, 'learning_rate': 0.04508305876450816, 'subsample': 0.75, 'colsample_bytree': 0.8, 'gamma': 1, 'min_child_weight': 5}. Best is trial 20 with value: 0.9559041136430897.\n",
      "[I 2023-10-11 17:32:13,253] Trial 21 finished with value: 0.9559041136430897 and parameters: {'n_estimators': 690, 'max_depth': 10, 'learning_rate': 0.04835929391565053, 'subsample': 0.75, 'colsample_bytree': 0.8, 'gamma': 1, 'min_child_weight': 5}. Best is trial 20 with value: 0.9559041136430897.\n",
      "[I 2023-10-11 17:32:15,172] Trial 22 finished with value: 0.9561870929544108 and parameters: {'n_estimators': 654, 'max_depth': 10, 'learning_rate': 0.04297894664072478, 'subsample': 0.75, 'colsample_bytree': 0.8, 'gamma': 1, 'min_child_weight': 5}. Best is trial 22 with value: 0.9561870929544108.\n",
      "[I 2023-10-11 17:32:17,168] Trial 23 finished with value: 0.956547443097842 and parameters: {'n_estimators': 693, 'max_depth': 10, 'learning_rate': 0.04253046548582944, 'subsample': 0.75, 'colsample_bytree': 0.8, 'gamma': 1, 'min_child_weight': 5}. Best is trial 23 with value: 0.956547443097842.\n",
      "[I 2023-10-11 17:32:18,655] Trial 24 finished with value: 0.9496100779844031 and parameters: {'n_estimators': 702, 'max_depth': 10, 'learning_rate': 0.0396496361590348, 'subsample': 0.65, 'colsample_bytree': 0.8, 'gamma': 3, 'min_child_weight': 7}. Best is trial 23 with value: 0.956547443097842.\n",
      "[I 2023-10-11 17:32:20,639] Trial 25 finished with value: 0.9565992865636148 and parameters: {'n_estimators': 497, 'max_depth': 10, 'learning_rate': 0.0262502346470996, 'subsample': 0.75, 'colsample_bytree': 0.75, 'gamma': 1, 'min_child_weight': 5}. Best is trial 25 with value: 0.9565992865636148.\n",
      "[I 2023-10-11 17:32:22,064] Trial 26 finished with value: 0.9444444444444445 and parameters: {'n_estimators': 445, 'max_depth': 9, 'learning_rate': 0.02782548030721004, 'subsample': 0.65, 'colsample_bytree': 0.75, 'gamma': 3, 'min_child_weight': 8}. Best is trial 25 with value: 0.9565992865636148.\n",
      "[I 2023-10-11 17:32:24,417] Trial 27 finished with value: 0.9551529551529552 and parameters: {'n_estimators': 500, 'max_depth': 10, 'learning_rate': 0.027894921968224226, 'subsample': 0.75, 'colsample_bytree': 0.75, 'gamma': 0, 'min_child_weight': 5}. Best is trial 25 with value: 0.9565992865636148.\n",
      "[I 2023-10-11 17:32:26,040] Trial 28 finished with value: 0.9386018237082068 and parameters: {'n_estimators': 723, 'max_depth': 9, 'learning_rate': 0.03009407057540696, 'subsample': 0.7, 'colsample_bytree': 0.7, 'gamma': 5, 'min_child_weight': 3}. Best is trial 25 with value: 0.9565992865636148.\n",
      "[I 2023-10-11 17:32:29,162] Trial 29 finished with value: 0.9546539379474941 and parameters: {'n_estimators': 925, 'max_depth': 10, 'learning_rate': 0.02527739834555218, 'subsample': 0.65, 'colsample_bytree': 0.65, 'gamma': 1, 'min_child_weight': 6}. Best is trial 25 with value: 0.9565992865636148.\n",
      "[I 2023-10-11 17:32:30,451] Trial 30 finished with value: 0.9429520072441896 and parameters: {'n_estimators': 585, 'max_depth': 7, 'learning_rate': 0.04033645023637079, 'subsample': 0.8, 'colsample_bytree': 0.85, 'gamma': 3, 'min_child_weight': 7}. Best is trial 25 with value: 0.9565992865636148.\n",
      "[I 2023-10-11 17:32:32,397] Trial 31 finished with value: 0.9565217391304348 and parameters: {'n_estimators': 648, 'max_depth': 10, 'learning_rate': 0.041617521194681394, 'subsample': 0.75, 'colsample_bytree': 0.8, 'gamma': 1, 'min_child_weight': 5}. Best is trial 25 with value: 0.9565992865636148.\n",
      "[I 2023-10-11 17:32:35,801] Trial 32 finished with value: 0.9535437760571768 and parameters: {'n_estimators': 785, 'max_depth': 9, 'learning_rate': 0.05675850338736955, 'subsample': 0.75, 'colsample_bytree': 0.8, 'gamma': 0, 'min_child_weight': 5}. Best is trial 25 with value: 0.9565992865636148.\n",
      "[I 2023-10-11 17:32:37,967] Trial 33 finished with value: 0.9575037147102525 and parameters: {'n_estimators': 651, 'max_depth': 10, 'learning_rate': 0.03431268772110236, 'subsample': 0.7, 'colsample_bytree': 0.75, 'gamma': 1, 'min_child_weight': 6}. Best is trial 33 with value: 0.9575037147102525.\n",
      "[I 2023-10-11 17:32:39,717] Trial 34 finished with value: 0.9480012022843403 and parameters: {'n_estimators': 842, 'max_depth': 9, 'learning_rate': 0.03298152129578287, 'subsample': 0.7, 'colsample_bytree': 0.75, 'gamma': 3, 'min_child_weight': 6}. Best is trial 33 with value: 0.9575037147102525.\n",
      "[I 2023-10-11 17:32:41,516] Trial 35 finished with value: 0.9483173076923077 and parameters: {'n_estimators': 746, 'max_depth': 9, 'learning_rate': 0.03502805888667028, 'subsample': 0.8, 'colsample_bytree': 0.7, 'gamma': 2, 'min_child_weight': 7}. Best is trial 33 with value: 0.9575037147102525.\n",
      "[I 2023-10-11 17:32:43,141] Trial 36 finished with value: 0.9434874584466606 and parameters: {'n_estimators': 475, 'max_depth': 10, 'learning_rate': 0.022549720025673545, 'subsample': 0.7, 'colsample_bytree': 0.75, 'gamma': 4, 'min_child_weight': 8}. Best is trial 33 with value: 0.9575037147102525.\n",
      "[I 2023-10-11 17:32:44,184] Trial 37 finished with value: 0.9263028060437867 and parameters: {'n_estimators': 366, 'max_depth': 10, 'learning_rate': 0.03697089439856691, 'subsample': 0.65, 'colsample_bytree': 0.65, 'gamma': 8, 'min_child_weight': 6}. Best is trial 33 with value: 0.9575037147102525.\n",
      "[I 2023-10-11 17:32:47,058] Trial 38 finished with value: 0.9543297746144721 and parameters: {'n_estimators': 582, 'max_depth': 10, 'learning_rate': 0.03169690888203028, 'subsample': 0.7, 'colsample_bytree': 0.75, 'gamma': 0, 'min_child_weight': 3}. Best is trial 33 with value: 0.9575037147102525.\n",
      "[I 2023-10-11 17:32:48,533] Trial 39 finished with value: 0.9444779722389861 and parameters: {'n_estimators': 888, 'max_depth': 9, 'learning_rate': 0.05327075910755015, 'subsample': 0.75, 'colsample_bytree': 0.8, 'gamma': 4, 'min_child_weight': 7}. Best is trial 33 with value: 0.9575037147102525.\n",
      "[I 2023-10-11 17:32:50,251] Trial 40 finished with value: 0.9544235924932976 and parameters: {'n_estimators': 560, 'max_depth': 9, 'learning_rate': 0.04323544557270237, 'subsample': 0.8, 'colsample_bytree': 0.7, 'gamma': 1, 'min_child_weight': 6}. Best is trial 33 with value: 0.9575037147102525.\n",
      "[I 2023-10-11 17:32:52,221] Trial 41 finished with value: 0.9576797869192069 and parameters: {'n_estimators': 656, 'max_depth': 10, 'learning_rate': 0.041862692807856414, 'subsample': 0.75, 'colsample_bytree': 0.8, 'gamma': 1, 'min_child_weight': 5}. Best is trial 41 with value: 0.9576797869192069.\n",
      "[I 2023-10-11 17:32:54,379] Trial 42 finished with value: 0.9562389118864577 and parameters: {'n_estimators': 674, 'max_depth': 10, 'learning_rate': 0.036972159930032285, 'subsample': 0.7, 'colsample_bytree': 0.85, 'gamma': 1, 'min_child_weight': 5}. Best is trial 41 with value: 0.9576797869192069.\n",
      "[I 2023-10-11 17:32:56,192] Trial 43 finished with value: 0.9571683521713267 and parameters: {'n_estimators': 781, 'max_depth': 10, 'learning_rate': 0.03475160753531671, 'subsample': 0.75, 'colsample_bytree': 0.75, 'gamma': 2, 'min_child_weight': 4}. Best is trial 41 with value: 0.9576797869192069.\n",
      "[I 2023-10-11 17:32:58,049] Trial 44 finished with value: 0.9559523809523811 and parameters: {'n_estimators': 792, 'max_depth': 10, 'learning_rate': 0.03474523072091104, 'subsample': 0.7, 'colsample_bytree': 0.75, 'gamma': 2, 'min_child_weight': 4}. Best is trial 41 with value: 0.9576797869192069.\n",
      "[I 2023-10-11 17:33:01,653] Trial 45 finished with value: 0.9534883720930233 and parameters: {'n_estimators': 744, 'max_depth': 9, 'learning_rate': 0.030326236295026926, 'subsample': 0.75, 'colsample_bytree': 0.7, 'gamma': 0, 'min_child_weight': 1}. Best is trial 41 with value: 0.9576797869192069.\n",
      "[I 2023-10-11 17:33:02,890] Trial 46 finished with value: 0.922552664188352 and parameters: {'n_estimators': 624, 'max_depth': 8, 'learning_rate': 0.03704379403084523, 'subsample': 0.8, 'colsample_bytree': 0.75, 'gamma': 10, 'min_child_weight': 4}. Best is trial 41 with value: 0.9576797869192069.\n",
      "[I 2023-10-11 17:33:04,096] Trial 47 finished with value: 0.9474954737477369 and parameters: {'n_estimators': 525, 'max_depth': 5, 'learning_rate': 0.04932399102886631, 'subsample': 0.75, 'colsample_bytree': 0.75, 'gamma': 2, 'min_child_weight': 2}. Best is trial 41 with value: 0.9576797869192069.\n",
      "[I 2023-10-11 17:33:06,207] Trial 48 finished with value: 0.9476849067949489 and parameters: {'n_estimators': 841, 'max_depth': 9, 'learning_rate': 0.024346829601779488, 'subsample': 0.7, 'colsample_bytree': 0.7, 'gamma': 3, 'min_child_weight': 4}. Best is trial 41 with value: 0.9576797869192069.\n",
      "[I 2023-10-11 17:33:07,908] Trial 49 finished with value: 0.9569093610698366 and parameters: {'n_estimators': 606, 'max_depth': 10, 'learning_rate': 0.03318446354164891, 'subsample': 0.65, 'colsample_bytree': 0.8, 'gamma': 2, 'min_child_weight': 3}. Best is trial 41 with value: 0.9576797869192069.\n"
     ]
    }
   ],
   "source": [
    "study = optuna.create_study(direction='maximize')\n",
    "study.optimize(lambda trial: objective(trial, X_train, y_train, X_test, y_test), n_trials=50, show_progress_bar=True)"
   ]
  },
  {
   "cell_type": "code",
   "execution_count": 23,
   "metadata": {},
   "outputs": [
    {
     "data": {
      "application/vnd.plotly.v1+json": {
       "config": {
        "plotlyServerURL": "https://plot.ly"
       },
       "data": [
        {
         "mode": "markers",
         "name": "Objective Value",
         "type": "scatter",
         "x": [
          0,
          1,
          2,
          3,
          4,
          5,
          6,
          7,
          8,
          9,
          10,
          11,
          12,
          13,
          14,
          15,
          16,
          17,
          18,
          19,
          20,
          21,
          22,
          23,
          24,
          25,
          26,
          27,
          28,
          29,
          30,
          31,
          32,
          33,
          34,
          35,
          36,
          37,
          38,
          39,
          40,
          41,
          42,
          43,
          44,
          45,
          46,
          47,
          48,
          49
         ],
         "y": [
          0.9309712889431888,
          0.9485645933014354,
          0.9470198675496689,
          0.8957928802588997,
          0.8740936058009228,
          0.8767303889255108,
          0.9452466907340553,
          0.9272503082614058,
          0.8777120315581853,
          0.911448450347881,
          0.9518684603886398,
          0.950731561660197,
          0.9429175475687104,
          0.9303178484107579,
          0.942883046237534,
          0.95221027479092,
          0.9424242424242424,
          0.9205359925210346,
          0.9544778339779827,
          0.9519259480441922,
          0.9559041136430897,
          0.9559041136430897,
          0.9561870929544108,
          0.956547443097842,
          0.9496100779844031,
          0.9565992865636148,
          0.9444444444444445,
          0.9551529551529552,
          0.9386018237082068,
          0.9546539379474941,
          0.9429520072441896,
          0.9565217391304348,
          0.9535437760571768,
          0.9575037147102525,
          0.9480012022843403,
          0.9483173076923077,
          0.9434874584466606,
          0.9263028060437867,
          0.9543297746144721,
          0.9444779722389861,
          0.9544235924932976,
          0.9576797869192069,
          0.9562389118864577,
          0.9571683521713267,
          0.9559523809523811,
          0.9534883720930233,
          0.922552664188352,
          0.9474954737477369,
          0.9476849067949489,
          0.9569093610698366
         ]
        },
        {
         "name": "Best Value",
         "type": "scatter",
         "x": [
          0,
          1,
          2,
          3,
          4,
          5,
          6,
          7,
          8,
          9,
          10,
          11,
          12,
          13,
          14,
          15,
          16,
          17,
          18,
          19,
          20,
          21,
          22,
          23,
          24,
          25,
          26,
          27,
          28,
          29,
          30,
          31,
          32,
          33,
          34,
          35,
          36,
          37,
          38,
          39,
          40,
          41,
          42,
          43,
          44,
          45,
          46,
          47,
          48,
          49
         ],
         "y": [
          0.9309712889431888,
          0.9485645933014354,
          0.9485645933014354,
          0.9485645933014354,
          0.9485645933014354,
          0.9485645933014354,
          0.9485645933014354,
          0.9485645933014354,
          0.9485645933014354,
          0.9485645933014354,
          0.9518684603886398,
          0.9518684603886398,
          0.9518684603886398,
          0.9518684603886398,
          0.9518684603886398,
          0.95221027479092,
          0.95221027479092,
          0.95221027479092,
          0.9544778339779827,
          0.9544778339779827,
          0.9559041136430897,
          0.9559041136430897,
          0.9561870929544108,
          0.956547443097842,
          0.956547443097842,
          0.9565992865636148,
          0.9565992865636148,
          0.9565992865636148,
          0.9565992865636148,
          0.9565992865636148,
          0.9565992865636148,
          0.9565992865636148,
          0.9565992865636148,
          0.9575037147102525,
          0.9575037147102525,
          0.9575037147102525,
          0.9575037147102525,
          0.9575037147102525,
          0.9575037147102525,
          0.9575037147102525,
          0.9575037147102525,
          0.9576797869192069,
          0.9576797869192069,
          0.9576797869192069,
          0.9576797869192069,
          0.9576797869192069,
          0.9576797869192069,
          0.9576797869192069,
          0.9576797869192069,
          0.9576797869192069
         ]
        }
       ],
       "layout": {
        "template": {
         "data": {
          "bar": [
           {
            "error_x": {
             "color": "#2a3f5f"
            },
            "error_y": {
             "color": "#2a3f5f"
            },
            "marker": {
             "line": {
              "color": "#E5ECF6",
              "width": 0.5
             },
             "pattern": {
              "fillmode": "overlay",
              "size": 10,
              "solidity": 0.2
             }
            },
            "type": "bar"
           }
          ],
          "barpolar": [
           {
            "marker": {
             "line": {
              "color": "#E5ECF6",
              "width": 0.5
             },
             "pattern": {
              "fillmode": "overlay",
              "size": 10,
              "solidity": 0.2
             }
            },
            "type": "barpolar"
           }
          ],
          "carpet": [
           {
            "aaxis": {
             "endlinecolor": "#2a3f5f",
             "gridcolor": "white",
             "linecolor": "white",
             "minorgridcolor": "white",
             "startlinecolor": "#2a3f5f"
            },
            "baxis": {
             "endlinecolor": "#2a3f5f",
             "gridcolor": "white",
             "linecolor": "white",
             "minorgridcolor": "white",
             "startlinecolor": "#2a3f5f"
            },
            "type": "carpet"
           }
          ],
          "choropleth": [
           {
            "colorbar": {
             "outlinewidth": 0,
             "ticks": ""
            },
            "type": "choropleth"
           }
          ],
          "contour": [
           {
            "colorbar": {
             "outlinewidth": 0,
             "ticks": ""
            },
            "colorscale": [
             [
              0,
              "#0d0887"
             ],
             [
              0.1111111111111111,
              "#46039f"
             ],
             [
              0.2222222222222222,
              "#7201a8"
             ],
             [
              0.3333333333333333,
              "#9c179e"
             ],
             [
              0.4444444444444444,
              "#bd3786"
             ],
             [
              0.5555555555555556,
              "#d8576b"
             ],
             [
              0.6666666666666666,
              "#ed7953"
             ],
             [
              0.7777777777777778,
              "#fb9f3a"
             ],
             [
              0.8888888888888888,
              "#fdca26"
             ],
             [
              1,
              "#f0f921"
             ]
            ],
            "type": "contour"
           }
          ],
          "contourcarpet": [
           {
            "colorbar": {
             "outlinewidth": 0,
             "ticks": ""
            },
            "type": "contourcarpet"
           }
          ],
          "heatmap": [
           {
            "colorbar": {
             "outlinewidth": 0,
             "ticks": ""
            },
            "colorscale": [
             [
              0,
              "#0d0887"
             ],
             [
              0.1111111111111111,
              "#46039f"
             ],
             [
              0.2222222222222222,
              "#7201a8"
             ],
             [
              0.3333333333333333,
              "#9c179e"
             ],
             [
              0.4444444444444444,
              "#bd3786"
             ],
             [
              0.5555555555555556,
              "#d8576b"
             ],
             [
              0.6666666666666666,
              "#ed7953"
             ],
             [
              0.7777777777777778,
              "#fb9f3a"
             ],
             [
              0.8888888888888888,
              "#fdca26"
             ],
             [
              1,
              "#f0f921"
             ]
            ],
            "type": "heatmap"
           }
          ],
          "heatmapgl": [
           {
            "colorbar": {
             "outlinewidth": 0,
             "ticks": ""
            },
            "colorscale": [
             [
              0,
              "#0d0887"
             ],
             [
              0.1111111111111111,
              "#46039f"
             ],
             [
              0.2222222222222222,
              "#7201a8"
             ],
             [
              0.3333333333333333,
              "#9c179e"
             ],
             [
              0.4444444444444444,
              "#bd3786"
             ],
             [
              0.5555555555555556,
              "#d8576b"
             ],
             [
              0.6666666666666666,
              "#ed7953"
             ],
             [
              0.7777777777777778,
              "#fb9f3a"
             ],
             [
              0.8888888888888888,
              "#fdca26"
             ],
             [
              1,
              "#f0f921"
             ]
            ],
            "type": "heatmapgl"
           }
          ],
          "histogram": [
           {
            "marker": {
             "pattern": {
              "fillmode": "overlay",
              "size": 10,
              "solidity": 0.2
             }
            },
            "type": "histogram"
           }
          ],
          "histogram2d": [
           {
            "colorbar": {
             "outlinewidth": 0,
             "ticks": ""
            },
            "colorscale": [
             [
              0,
              "#0d0887"
             ],
             [
              0.1111111111111111,
              "#46039f"
             ],
             [
              0.2222222222222222,
              "#7201a8"
             ],
             [
              0.3333333333333333,
              "#9c179e"
             ],
             [
              0.4444444444444444,
              "#bd3786"
             ],
             [
              0.5555555555555556,
              "#d8576b"
             ],
             [
              0.6666666666666666,
              "#ed7953"
             ],
             [
              0.7777777777777778,
              "#fb9f3a"
             ],
             [
              0.8888888888888888,
              "#fdca26"
             ],
             [
              1,
              "#f0f921"
             ]
            ],
            "type": "histogram2d"
           }
          ],
          "histogram2dcontour": [
           {
            "colorbar": {
             "outlinewidth": 0,
             "ticks": ""
            },
            "colorscale": [
             [
              0,
              "#0d0887"
             ],
             [
              0.1111111111111111,
              "#46039f"
             ],
             [
              0.2222222222222222,
              "#7201a8"
             ],
             [
              0.3333333333333333,
              "#9c179e"
             ],
             [
              0.4444444444444444,
              "#bd3786"
             ],
             [
              0.5555555555555556,
              "#d8576b"
             ],
             [
              0.6666666666666666,
              "#ed7953"
             ],
             [
              0.7777777777777778,
              "#fb9f3a"
             ],
             [
              0.8888888888888888,
              "#fdca26"
             ],
             [
              1,
              "#f0f921"
             ]
            ],
            "type": "histogram2dcontour"
           }
          ],
          "mesh3d": [
           {
            "colorbar": {
             "outlinewidth": 0,
             "ticks": ""
            },
            "type": "mesh3d"
           }
          ],
          "parcoords": [
           {
            "line": {
             "colorbar": {
              "outlinewidth": 0,
              "ticks": ""
             }
            },
            "type": "parcoords"
           }
          ],
          "pie": [
           {
            "automargin": true,
            "type": "pie"
           }
          ],
          "scatter": [
           {
            "fillpattern": {
             "fillmode": "overlay",
             "size": 10,
             "solidity": 0.2
            },
            "type": "scatter"
           }
          ],
          "scatter3d": [
           {
            "line": {
             "colorbar": {
              "outlinewidth": 0,
              "ticks": ""
             }
            },
            "marker": {
             "colorbar": {
              "outlinewidth": 0,
              "ticks": ""
             }
            },
            "type": "scatter3d"
           }
          ],
          "scattercarpet": [
           {
            "marker": {
             "colorbar": {
              "outlinewidth": 0,
              "ticks": ""
             }
            },
            "type": "scattercarpet"
           }
          ],
          "scattergeo": [
           {
            "marker": {
             "colorbar": {
              "outlinewidth": 0,
              "ticks": ""
             }
            },
            "type": "scattergeo"
           }
          ],
          "scattergl": [
           {
            "marker": {
             "colorbar": {
              "outlinewidth": 0,
              "ticks": ""
             }
            },
            "type": "scattergl"
           }
          ],
          "scattermapbox": [
           {
            "marker": {
             "colorbar": {
              "outlinewidth": 0,
              "ticks": ""
             }
            },
            "type": "scattermapbox"
           }
          ],
          "scatterpolar": [
           {
            "marker": {
             "colorbar": {
              "outlinewidth": 0,
              "ticks": ""
             }
            },
            "type": "scatterpolar"
           }
          ],
          "scatterpolargl": [
           {
            "marker": {
             "colorbar": {
              "outlinewidth": 0,
              "ticks": ""
             }
            },
            "type": "scatterpolargl"
           }
          ],
          "scatterternary": [
           {
            "marker": {
             "colorbar": {
              "outlinewidth": 0,
              "ticks": ""
             }
            },
            "type": "scatterternary"
           }
          ],
          "surface": [
           {
            "colorbar": {
             "outlinewidth": 0,
             "ticks": ""
            },
            "colorscale": [
             [
              0,
              "#0d0887"
             ],
             [
              0.1111111111111111,
              "#46039f"
             ],
             [
              0.2222222222222222,
              "#7201a8"
             ],
             [
              0.3333333333333333,
              "#9c179e"
             ],
             [
              0.4444444444444444,
              "#bd3786"
             ],
             [
              0.5555555555555556,
              "#d8576b"
             ],
             [
              0.6666666666666666,
              "#ed7953"
             ],
             [
              0.7777777777777778,
              "#fb9f3a"
             ],
             [
              0.8888888888888888,
              "#fdca26"
             ],
             [
              1,
              "#f0f921"
             ]
            ],
            "type": "surface"
           }
          ],
          "table": [
           {
            "cells": {
             "fill": {
              "color": "#EBF0F8"
             },
             "line": {
              "color": "white"
             }
            },
            "header": {
             "fill": {
              "color": "#C8D4E3"
             },
             "line": {
              "color": "white"
             }
            },
            "type": "table"
           }
          ]
         },
         "layout": {
          "annotationdefaults": {
           "arrowcolor": "#2a3f5f",
           "arrowhead": 0,
           "arrowwidth": 1
          },
          "autotypenumbers": "strict",
          "coloraxis": {
           "colorbar": {
            "outlinewidth": 0,
            "ticks": ""
           }
          },
          "colorscale": {
           "diverging": [
            [
             0,
             "#8e0152"
            ],
            [
             0.1,
             "#c51b7d"
            ],
            [
             0.2,
             "#de77ae"
            ],
            [
             0.3,
             "#f1b6da"
            ],
            [
             0.4,
             "#fde0ef"
            ],
            [
             0.5,
             "#f7f7f7"
            ],
            [
             0.6,
             "#e6f5d0"
            ],
            [
             0.7,
             "#b8e186"
            ],
            [
             0.8,
             "#7fbc41"
            ],
            [
             0.9,
             "#4d9221"
            ],
            [
             1,
             "#276419"
            ]
           ],
           "sequential": [
            [
             0,
             "#0d0887"
            ],
            [
             0.1111111111111111,
             "#46039f"
            ],
            [
             0.2222222222222222,
             "#7201a8"
            ],
            [
             0.3333333333333333,
             "#9c179e"
            ],
            [
             0.4444444444444444,
             "#bd3786"
            ],
            [
             0.5555555555555556,
             "#d8576b"
            ],
            [
             0.6666666666666666,
             "#ed7953"
            ],
            [
             0.7777777777777778,
             "#fb9f3a"
            ],
            [
             0.8888888888888888,
             "#fdca26"
            ],
            [
             1,
             "#f0f921"
            ]
           ],
           "sequentialminus": [
            [
             0,
             "#0d0887"
            ],
            [
             0.1111111111111111,
             "#46039f"
            ],
            [
             0.2222222222222222,
             "#7201a8"
            ],
            [
             0.3333333333333333,
             "#9c179e"
            ],
            [
             0.4444444444444444,
             "#bd3786"
            ],
            [
             0.5555555555555556,
             "#d8576b"
            ],
            [
             0.6666666666666666,
             "#ed7953"
            ],
            [
             0.7777777777777778,
             "#fb9f3a"
            ],
            [
             0.8888888888888888,
             "#fdca26"
            ],
            [
             1,
             "#f0f921"
            ]
           ]
          },
          "colorway": [
           "#636efa",
           "#EF553B",
           "#00cc96",
           "#ab63fa",
           "#FFA15A",
           "#19d3f3",
           "#FF6692",
           "#B6E880",
           "#FF97FF",
           "#FECB52"
          ],
          "font": {
           "color": "#2a3f5f"
          },
          "geo": {
           "bgcolor": "white",
           "lakecolor": "white",
           "landcolor": "#E5ECF6",
           "showlakes": true,
           "showland": true,
           "subunitcolor": "white"
          },
          "hoverlabel": {
           "align": "left"
          },
          "hovermode": "closest",
          "mapbox": {
           "style": "light"
          },
          "paper_bgcolor": "white",
          "plot_bgcolor": "#E5ECF6",
          "polar": {
           "angularaxis": {
            "gridcolor": "white",
            "linecolor": "white",
            "ticks": ""
           },
           "bgcolor": "#E5ECF6",
           "radialaxis": {
            "gridcolor": "white",
            "linecolor": "white",
            "ticks": ""
           }
          },
          "scene": {
           "xaxis": {
            "backgroundcolor": "#E5ECF6",
            "gridcolor": "white",
            "gridwidth": 2,
            "linecolor": "white",
            "showbackground": true,
            "ticks": "",
            "zerolinecolor": "white"
           },
           "yaxis": {
            "backgroundcolor": "#E5ECF6",
            "gridcolor": "white",
            "gridwidth": 2,
            "linecolor": "white",
            "showbackground": true,
            "ticks": "",
            "zerolinecolor": "white"
           },
           "zaxis": {
            "backgroundcolor": "#E5ECF6",
            "gridcolor": "white",
            "gridwidth": 2,
            "linecolor": "white",
            "showbackground": true,
            "ticks": "",
            "zerolinecolor": "white"
           }
          },
          "shapedefaults": {
           "line": {
            "color": "#2a3f5f"
           }
          },
          "ternary": {
           "aaxis": {
            "gridcolor": "white",
            "linecolor": "white",
            "ticks": ""
           },
           "baxis": {
            "gridcolor": "white",
            "linecolor": "white",
            "ticks": ""
           },
           "bgcolor": "#E5ECF6",
           "caxis": {
            "gridcolor": "white",
            "linecolor": "white",
            "ticks": ""
           }
          },
          "title": {
           "x": 0.05
          },
          "xaxis": {
           "automargin": true,
           "gridcolor": "white",
           "linecolor": "white",
           "ticks": "",
           "title": {
            "standoff": 15
           },
           "zerolinecolor": "white",
           "zerolinewidth": 2
          },
          "yaxis": {
           "automargin": true,
           "gridcolor": "white",
           "linecolor": "white",
           "ticks": "",
           "title": {
            "standoff": 15
           },
           "zerolinecolor": "white",
           "zerolinewidth": 2
          }
         }
        },
        "title": {
         "text": "Optimization History Plot"
        },
        "xaxis": {
         "title": {
          "text": "Trial"
         }
        },
        "yaxis": {
         "title": {
          "text": "Objective Value"
         }
        }
       }
      }
     },
     "metadata": {},
     "output_type": "display_data"
    }
   ],
   "source": [
    "optuna.visualization.plot_optimization_history(study)"
   ]
  },
  {
   "cell_type": "code",
   "execution_count": 24,
   "metadata": {},
   "outputs": [
    {
     "data": {
      "application/vnd.plotly.v1+json": {
       "config": {
        "plotlyServerURL": "https://plot.ly"
       },
       "data": [
        {
         "marker": {
          "color": [
           0,
           1,
           2,
           3,
           4,
           5,
           6,
           7,
           8,
           9,
           10,
           11,
           12,
           13,
           14,
           15,
           16,
           17,
           18,
           19,
           20,
           21,
           22,
           23,
           24,
           25,
           26,
           27,
           28,
           29,
           30,
           31,
           32,
           33,
           34,
           35,
           36,
           37,
           38,
           39,
           40,
           41,
           42,
           43,
           44,
           45,
           46,
           47,
           48,
           49
          ],
          "colorbar": {
           "title": {
            "text": "Trial"
           },
           "x": 1,
           "xpad": 40
          },
          "colorscale": [
           [
            0,
            "rgb(247,251,255)"
           ],
           [
            0.125,
            "rgb(222,235,247)"
           ],
           [
            0.25,
            "rgb(198,219,239)"
           ],
           [
            0.375,
            "rgb(158,202,225)"
           ],
           [
            0.5,
            "rgb(107,174,214)"
           ],
           [
            0.625,
            "rgb(66,146,198)"
           ],
           [
            0.75,
            "rgb(33,113,181)"
           ],
           [
            0.875,
            "rgb(8,81,156)"
           ],
           [
            1,
            "rgb(8,48,107)"
           ]
          ],
          "line": {
           "color": "Grey",
           "width": 0.5
          },
          "showscale": true
         },
         "mode": "markers",
         "showlegend": false,
         "type": "scatter",
         "x": [
          0.85,
          0.95,
          0.75,
          0.7,
          0.7,
          0.8,
          0.65,
          0.75,
          0.95,
          0.7,
          0.95,
          0.95,
          0.9,
          0.85,
          0.9,
          0.95,
          0.6,
          0.9,
          0.85,
          0.85,
          0.8,
          0.8,
          0.8,
          0.8,
          0.8,
          0.75,
          0.75,
          0.75,
          0.7,
          0.65,
          0.85,
          0.8,
          0.8,
          0.75,
          0.75,
          0.7,
          0.75,
          0.65,
          0.75,
          0.8,
          0.7,
          0.8,
          0.85,
          0.75,
          0.75,
          0.7,
          0.75,
          0.75,
          0.7,
          0.8
         ],
         "xaxis": "x",
         "y": [
          0.9309712889431888,
          0.9485645933014354,
          0.9470198675496689,
          0.8957928802588997,
          0.8740936058009228,
          0.8767303889255108,
          0.9452466907340553,
          0.9272503082614058,
          0.8777120315581853,
          0.911448450347881,
          0.9518684603886398,
          0.950731561660197,
          0.9429175475687104,
          0.9303178484107579,
          0.942883046237534,
          0.95221027479092,
          0.9424242424242424,
          0.9205359925210346,
          0.9544778339779827,
          0.9519259480441922,
          0.9559041136430897,
          0.9559041136430897,
          0.9561870929544108,
          0.956547443097842,
          0.9496100779844031,
          0.9565992865636148,
          0.9444444444444445,
          0.9551529551529552,
          0.9386018237082068,
          0.9546539379474941,
          0.9429520072441896,
          0.9565217391304348,
          0.9535437760571768,
          0.9575037147102525,
          0.9480012022843403,
          0.9483173076923077,
          0.9434874584466606,
          0.9263028060437867,
          0.9543297746144721,
          0.9444779722389861,
          0.9544235924932976,
          0.9576797869192069,
          0.9562389118864577,
          0.9571683521713267,
          0.9559523809523811,
          0.9534883720930233,
          0.922552664188352,
          0.9474954737477369,
          0.9476849067949489,
          0.9569093610698366
         ],
         "yaxis": "y"
        },
        {
         "marker": {
          "color": [
           0,
           1,
           2,
           3,
           4,
           5,
           6,
           7,
           8,
           9,
           10,
           11,
           12,
           13,
           14,
           15,
           16,
           17,
           18,
           19,
           20,
           21,
           22,
           23,
           24,
           25,
           26,
           27,
           28,
           29,
           30,
           31,
           32,
           33,
           34,
           35,
           36,
           37,
           38,
           39,
           40,
           41,
           42,
           43,
           44,
           45,
           46,
           47,
           48,
           49
          ],
          "colorbar": {
           "title": {
            "text": "Trial"
           },
           "x": 1,
           "xpad": 40
          },
          "colorscale": [
           [
            0,
            "rgb(247,251,255)"
           ],
           [
            0.125,
            "rgb(222,235,247)"
           ],
           [
            0.25,
            "rgb(198,219,239)"
           ],
           [
            0.375,
            "rgb(158,202,225)"
           ],
           [
            0.5,
            "rgb(107,174,214)"
           ],
           [
            0.625,
            "rgb(66,146,198)"
           ],
           [
            0.75,
            "rgb(33,113,181)"
           ],
           [
            0.875,
            "rgb(8,81,156)"
           ],
           [
            1,
            "rgb(8,48,107)"
           ]
          ],
          "line": {
           "color": "Grey",
           "width": 0.5
          },
          "showscale": false
         },
         "mode": "markers",
         "showlegend": false,
         "type": "scatter",
         "x": [
          9,
          3,
          4,
          4,
          10,
          7,
          0,
          9,
          1,
          4,
          2,
          2,
          2,
          6,
          0,
          2,
          2,
          6,
          1,
          0,
          1,
          1,
          1,
          1,
          3,
          1,
          3,
          0,
          5,
          1,
          3,
          1,
          0,
          1,
          3,
          2,
          4,
          8,
          0,
          4,
          1,
          1,
          1,
          2,
          2,
          0,
          10,
          2,
          3,
          2
         ],
         "xaxis": "x2",
         "y": [
          0.9309712889431888,
          0.9485645933014354,
          0.9470198675496689,
          0.8957928802588997,
          0.8740936058009228,
          0.8767303889255108,
          0.9452466907340553,
          0.9272503082614058,
          0.8777120315581853,
          0.911448450347881,
          0.9518684603886398,
          0.950731561660197,
          0.9429175475687104,
          0.9303178484107579,
          0.942883046237534,
          0.95221027479092,
          0.9424242424242424,
          0.9205359925210346,
          0.9544778339779827,
          0.9519259480441922,
          0.9559041136430897,
          0.9559041136430897,
          0.9561870929544108,
          0.956547443097842,
          0.9496100779844031,
          0.9565992865636148,
          0.9444444444444445,
          0.9551529551529552,
          0.9386018237082068,
          0.9546539379474941,
          0.9429520072441896,
          0.9565217391304348,
          0.9535437760571768,
          0.9575037147102525,
          0.9480012022843403,
          0.9483173076923077,
          0.9434874584466606,
          0.9263028060437867,
          0.9543297746144721,
          0.9444779722389861,
          0.9544235924932976,
          0.9576797869192069,
          0.9562389118864577,
          0.9571683521713267,
          0.9559523809523811,
          0.9534883720930233,
          0.922552664188352,
          0.9474954737477369,
          0.9476849067949489,
          0.9569093610698366
         ],
         "yaxis": "y2"
        },
        {
         "marker": {
          "color": [
           0,
           1,
           2,
           3,
           4,
           5,
           6,
           7,
           8,
           9,
           10,
           11,
           12,
           13,
           14,
           15,
           16,
           17,
           18,
           19,
           20,
           21,
           22,
           23,
           24,
           25,
           26,
           27,
           28,
           29,
           30,
           31,
           32,
           33,
           34,
           35,
           36,
           37,
           38,
           39,
           40,
           41,
           42,
           43,
           44,
           45,
           46,
           47,
           48,
           49
          ],
          "colorbar": {
           "title": {
            "text": "Trial"
           },
           "x": 1,
           "xpad": 40
          },
          "colorscale": [
           [
            0,
            "rgb(247,251,255)"
           ],
           [
            0.125,
            "rgb(222,235,247)"
           ],
           [
            0.25,
            "rgb(198,219,239)"
           ],
           [
            0.375,
            "rgb(158,202,225)"
           ],
           [
            0.5,
            "rgb(107,174,214)"
           ],
           [
            0.625,
            "rgb(66,146,198)"
           ],
           [
            0.75,
            "rgb(33,113,181)"
           ],
           [
            0.875,
            "rgb(8,81,156)"
           ],
           [
            1,
            "rgb(8,48,107)"
           ]
          ],
          "line": {
           "color": "Grey",
           "width": 0.5
          },
          "showscale": false
         },
         "mode": "markers",
         "showlegend": false,
         "type": "scatter",
         "x": [
          0.010281742466711114,
          0.05597332182864298,
          0.03490759154993503,
          0.016258948575148313,
          0.019634503589424698,
          0.03352537193657743,
          0.08227099650515764,
          0.04644250119112254,
          0.0157121121417279,
          0.03824227311743379,
          0.09693792073206736,
          0.09048118782470942,
          0.08767043760954679,
          0.09855614180513542,
          0.06461201832337463,
          0.06925643507398863,
          0.06789250698518556,
          0.05109872288776158,
          0.07158535578588596,
          0.06804498138046146,
          0.04508305876450816,
          0.04835929391565053,
          0.04297894664072478,
          0.04253046548582944,
          0.0396496361590348,
          0.0262502346470996,
          0.02782548030721004,
          0.027894921968224226,
          0.03009407057540696,
          0.02527739834555218,
          0.04033645023637079,
          0.041617521194681394,
          0.05675850338736955,
          0.03431268772110236,
          0.03298152129578287,
          0.03502805888667028,
          0.022549720025673545,
          0.03697089439856691,
          0.03169690888203028,
          0.05327075910755015,
          0.04323544557270237,
          0.041862692807856414,
          0.036972159930032285,
          0.03475160753531671,
          0.03474523072091104,
          0.030326236295026926,
          0.03704379403084523,
          0.04932399102886631,
          0.024346829601779488,
          0.03318446354164891
         ],
         "xaxis": "x3",
         "y": [
          0.9309712889431888,
          0.9485645933014354,
          0.9470198675496689,
          0.8957928802588997,
          0.8740936058009228,
          0.8767303889255108,
          0.9452466907340553,
          0.9272503082614058,
          0.8777120315581853,
          0.911448450347881,
          0.9518684603886398,
          0.950731561660197,
          0.9429175475687104,
          0.9303178484107579,
          0.942883046237534,
          0.95221027479092,
          0.9424242424242424,
          0.9205359925210346,
          0.9544778339779827,
          0.9519259480441922,
          0.9559041136430897,
          0.9559041136430897,
          0.9561870929544108,
          0.956547443097842,
          0.9496100779844031,
          0.9565992865636148,
          0.9444444444444445,
          0.9551529551529552,
          0.9386018237082068,
          0.9546539379474941,
          0.9429520072441896,
          0.9565217391304348,
          0.9535437760571768,
          0.9575037147102525,
          0.9480012022843403,
          0.9483173076923077,
          0.9434874584466606,
          0.9263028060437867,
          0.9543297746144721,
          0.9444779722389861,
          0.9544235924932976,
          0.9576797869192069,
          0.9562389118864577,
          0.9571683521713267,
          0.9559523809523811,
          0.9534883720930233,
          0.922552664188352,
          0.9474954737477369,
          0.9476849067949489,
          0.9569093610698366
         ],
         "yaxis": "y3"
        },
        {
         "marker": {
          "color": [
           0,
           1,
           2,
           3,
           4,
           5,
           6,
           7,
           8,
           9,
           10,
           11,
           12,
           13,
           14,
           15,
           16,
           17,
           18,
           19,
           20,
           21,
           22,
           23,
           24,
           25,
           26,
           27,
           28,
           29,
           30,
           31,
           32,
           33,
           34,
           35,
           36,
           37,
           38,
           39,
           40,
           41,
           42,
           43,
           44,
           45,
           46,
           47,
           48,
           49
          ],
          "colorbar": {
           "title": {
            "text": "Trial"
           },
           "x": 1,
           "xpad": 40
          },
          "colorscale": [
           [
            0,
            "rgb(247,251,255)"
           ],
           [
            0.125,
            "rgb(222,235,247)"
           ],
           [
            0.25,
            "rgb(198,219,239)"
           ],
           [
            0.375,
            "rgb(158,202,225)"
           ],
           [
            0.5,
            "rgb(107,174,214)"
           ],
           [
            0.625,
            "rgb(66,146,198)"
           ],
           [
            0.75,
            "rgb(33,113,181)"
           ],
           [
            0.875,
            "rgb(8,81,156)"
           ],
           [
            1,
            "rgb(8,48,107)"
           ]
          ],
          "line": {
           "color": "Grey",
           "width": 0.5
          },
          "showscale": false
         },
         "mode": "markers",
         "showlegend": false,
         "type": "scatter",
         "x": [
          9,
          9,
          10,
          7,
          3,
          3,
          6,
          10,
          4,
          4,
          8,
          8,
          7,
          8,
          6,
          8,
          8,
          5,
          9,
          9,
          10,
          10,
          10,
          10,
          10,
          10,
          9,
          10,
          9,
          10,
          7,
          10,
          9,
          10,
          9,
          9,
          10,
          10,
          10,
          9,
          9,
          10,
          10,
          10,
          10,
          9,
          8,
          5,
          9,
          10
         ],
         "xaxis": "x4",
         "y": [
          0.9309712889431888,
          0.9485645933014354,
          0.9470198675496689,
          0.8957928802588997,
          0.8740936058009228,
          0.8767303889255108,
          0.9452466907340553,
          0.9272503082614058,
          0.8777120315581853,
          0.911448450347881,
          0.9518684603886398,
          0.950731561660197,
          0.9429175475687104,
          0.9303178484107579,
          0.942883046237534,
          0.95221027479092,
          0.9424242424242424,
          0.9205359925210346,
          0.9544778339779827,
          0.9519259480441922,
          0.9559041136430897,
          0.9559041136430897,
          0.9561870929544108,
          0.956547443097842,
          0.9496100779844031,
          0.9565992865636148,
          0.9444444444444445,
          0.9551529551529552,
          0.9386018237082068,
          0.9546539379474941,
          0.9429520072441896,
          0.9565217391304348,
          0.9535437760571768,
          0.9575037147102525,
          0.9480012022843403,
          0.9483173076923077,
          0.9434874584466606,
          0.9263028060437867,
          0.9543297746144721,
          0.9444779722389861,
          0.9544235924932976,
          0.9576797869192069,
          0.9562389118864577,
          0.9571683521713267,
          0.9559523809523811,
          0.9534883720930233,
          0.922552664188352,
          0.9474954737477369,
          0.9476849067949489,
          0.9569093610698366
         ],
         "yaxis": "y4"
        },
        {
         "marker": {
          "color": [
           0,
           1,
           2,
           3,
           4,
           5,
           6,
           7,
           8,
           9,
           10,
           11,
           12,
           13,
           14,
           15,
           16,
           17,
           18,
           19,
           20,
           21,
           22,
           23,
           24,
           25,
           26,
           27,
           28,
           29,
           30,
           31,
           32,
           33,
           34,
           35,
           36,
           37,
           38,
           39,
           40,
           41,
           42,
           43,
           44,
           45,
           46,
           47,
           48,
           49
          ],
          "colorbar": {
           "title": {
            "text": "Trial"
           },
           "x": 1,
           "xpad": 40
          },
          "colorscale": [
           [
            0,
            "rgb(247,251,255)"
           ],
           [
            0.125,
            "rgb(222,235,247)"
           ],
           [
            0.25,
            "rgb(198,219,239)"
           ],
           [
            0.375,
            "rgb(158,202,225)"
           ],
           [
            0.5,
            "rgb(107,174,214)"
           ],
           [
            0.625,
            "rgb(66,146,198)"
           ],
           [
            0.75,
            "rgb(33,113,181)"
           ],
           [
            0.875,
            "rgb(8,81,156)"
           ],
           [
            1,
            "rgb(8,48,107)"
           ]
          ],
          "line": {
           "color": "Grey",
           "width": 0.5
          },
          "showscale": false
         },
         "mode": "markers",
         "showlegend": false,
         "type": "scatter",
         "x": [
          2,
          7,
          6,
          1,
          2,
          7,
          5,
          10,
          9,
          8,
          4,
          4,
          4,
          4,
          4,
          3,
          2,
          3,
          6,
          6,
          5,
          5,
          5,
          5,
          7,
          5,
          8,
          5,
          3,
          6,
          7,
          5,
          5,
          6,
          6,
          7,
          8,
          6,
          3,
          7,
          6,
          5,
          5,
          4,
          4,
          1,
          4,
          2,
          4,
          3
         ],
         "xaxis": "x5",
         "y": [
          0.9309712889431888,
          0.9485645933014354,
          0.9470198675496689,
          0.8957928802588997,
          0.8740936058009228,
          0.8767303889255108,
          0.9452466907340553,
          0.9272503082614058,
          0.8777120315581853,
          0.911448450347881,
          0.9518684603886398,
          0.950731561660197,
          0.9429175475687104,
          0.9303178484107579,
          0.942883046237534,
          0.95221027479092,
          0.9424242424242424,
          0.9205359925210346,
          0.9544778339779827,
          0.9519259480441922,
          0.9559041136430897,
          0.9559041136430897,
          0.9561870929544108,
          0.956547443097842,
          0.9496100779844031,
          0.9565992865636148,
          0.9444444444444445,
          0.9551529551529552,
          0.9386018237082068,
          0.9546539379474941,
          0.9429520072441896,
          0.9565217391304348,
          0.9535437760571768,
          0.9575037147102525,
          0.9480012022843403,
          0.9483173076923077,
          0.9434874584466606,
          0.9263028060437867,
          0.9543297746144721,
          0.9444779722389861,
          0.9544235924932976,
          0.9576797869192069,
          0.9562389118864577,
          0.9571683521713267,
          0.9559523809523811,
          0.9534883720930233,
          0.922552664188352,
          0.9474954737477369,
          0.9476849067949489,
          0.9569093610698366
         ],
         "yaxis": "y5"
        },
        {
         "marker": {
          "color": [
           0,
           1,
           2,
           3,
           4,
           5,
           6,
           7,
           8,
           9,
           10,
           11,
           12,
           13,
           14,
           15,
           16,
           17,
           18,
           19,
           20,
           21,
           22,
           23,
           24,
           25,
           26,
           27,
           28,
           29,
           30,
           31,
           32,
           33,
           34,
           35,
           36,
           37,
           38,
           39,
           40,
           41,
           42,
           43,
           44,
           45,
           46,
           47,
           48,
           49
          ],
          "colorbar": {
           "title": {
            "text": "Trial"
           },
           "x": 1,
           "xpad": 40
          },
          "colorscale": [
           [
            0,
            "rgb(247,251,255)"
           ],
           [
            0.125,
            "rgb(222,235,247)"
           ],
           [
            0.25,
            "rgb(198,219,239)"
           ],
           [
            0.375,
            "rgb(158,202,225)"
           ],
           [
            0.5,
            "rgb(107,174,214)"
           ],
           [
            0.625,
            "rgb(66,146,198)"
           ],
           [
            0.75,
            "rgb(33,113,181)"
           ],
           [
            0.875,
            "rgb(8,81,156)"
           ],
           [
            1,
            "rgb(8,48,107)"
           ]
          ],
          "line": {
           "color": "Grey",
           "width": 0.5
          },
          "showscale": false
         },
         "mode": "markers",
         "showlegend": false,
         "type": "scatter",
         "x": [
          876,
          816,
          767,
          403,
          593,
          322,
          293,
          822,
          515,
          539,
          120,
          163,
          107,
          107,
          197,
          217,
          244,
          419,
          638,
          994,
          633,
          690,
          654,
          693,
          702,
          497,
          445,
          500,
          723,
          925,
          585,
          648,
          785,
          651,
          842,
          746,
          475,
          366,
          582,
          888,
          560,
          656,
          674,
          781,
          792,
          744,
          624,
          525,
          841,
          606
         ],
         "xaxis": "x6",
         "y": [
          0.9309712889431888,
          0.9485645933014354,
          0.9470198675496689,
          0.8957928802588997,
          0.8740936058009228,
          0.8767303889255108,
          0.9452466907340553,
          0.9272503082614058,
          0.8777120315581853,
          0.911448450347881,
          0.9518684603886398,
          0.950731561660197,
          0.9429175475687104,
          0.9303178484107579,
          0.942883046237534,
          0.95221027479092,
          0.9424242424242424,
          0.9205359925210346,
          0.9544778339779827,
          0.9519259480441922,
          0.9559041136430897,
          0.9559041136430897,
          0.9561870929544108,
          0.956547443097842,
          0.9496100779844031,
          0.9565992865636148,
          0.9444444444444445,
          0.9551529551529552,
          0.9386018237082068,
          0.9546539379474941,
          0.9429520072441896,
          0.9565217391304348,
          0.9535437760571768,
          0.9575037147102525,
          0.9480012022843403,
          0.9483173076923077,
          0.9434874584466606,
          0.9263028060437867,
          0.9543297746144721,
          0.9444779722389861,
          0.9544235924932976,
          0.9576797869192069,
          0.9562389118864577,
          0.9571683521713267,
          0.9559523809523811,
          0.9534883720930233,
          0.922552664188352,
          0.9474954737477369,
          0.9476849067949489,
          0.9569093610698366
         ],
         "yaxis": "y6"
        },
        {
         "marker": {
          "color": [
           0,
           1,
           2,
           3,
           4,
           5,
           6,
           7,
           8,
           9,
           10,
           11,
           12,
           13,
           14,
           15,
           16,
           17,
           18,
           19,
           20,
           21,
           22,
           23,
           24,
           25,
           26,
           27,
           28,
           29,
           30,
           31,
           32,
           33,
           34,
           35,
           36,
           37,
           38,
           39,
           40,
           41,
           42,
           43,
           44,
           45,
           46,
           47,
           48,
           49
          ],
          "colorbar": {
           "title": {
            "text": "Trial"
           },
           "x": 1,
           "xpad": 40
          },
          "colorscale": [
           [
            0,
            "rgb(247,251,255)"
           ],
           [
            0.125,
            "rgb(222,235,247)"
           ],
           [
            0.25,
            "rgb(198,219,239)"
           ],
           [
            0.375,
            "rgb(158,202,225)"
           ],
           [
            0.5,
            "rgb(107,174,214)"
           ],
           [
            0.625,
            "rgb(66,146,198)"
           ],
           [
            0.75,
            "rgb(33,113,181)"
           ],
           [
            0.875,
            "rgb(8,81,156)"
           ],
           [
            1,
            "rgb(8,48,107)"
           ]
          ],
          "line": {
           "color": "Grey",
           "width": 0.5
          },
          "showscale": false
         },
         "mode": "markers",
         "showlegend": false,
         "type": "scatter",
         "x": [
          0.95,
          0.8,
          0.7,
          0.6,
          0.6,
          0.7,
          0.75,
          0.6,
          0.7,
          0.6,
          0.9,
          0.9,
          0.95,
          0.85,
          0.9,
          0.85,
          0.85,
          0.85,
          0.8,
          0.8,
          0.75,
          0.75,
          0.75,
          0.75,
          0.65,
          0.75,
          0.65,
          0.75,
          0.7,
          0.65,
          0.8,
          0.75,
          0.75,
          0.7,
          0.7,
          0.8,
          0.7,
          0.65,
          0.7,
          0.75,
          0.8,
          0.75,
          0.7,
          0.75,
          0.7,
          0.75,
          0.8,
          0.75,
          0.7,
          0.65
         ],
         "xaxis": "x7",
         "y": [
          0.9309712889431888,
          0.9485645933014354,
          0.9470198675496689,
          0.8957928802588997,
          0.8740936058009228,
          0.8767303889255108,
          0.9452466907340553,
          0.9272503082614058,
          0.8777120315581853,
          0.911448450347881,
          0.9518684603886398,
          0.950731561660197,
          0.9429175475687104,
          0.9303178484107579,
          0.942883046237534,
          0.95221027479092,
          0.9424242424242424,
          0.9205359925210346,
          0.9544778339779827,
          0.9519259480441922,
          0.9559041136430897,
          0.9559041136430897,
          0.9561870929544108,
          0.956547443097842,
          0.9496100779844031,
          0.9565992865636148,
          0.9444444444444445,
          0.9551529551529552,
          0.9386018237082068,
          0.9546539379474941,
          0.9429520072441896,
          0.9565217391304348,
          0.9535437760571768,
          0.9575037147102525,
          0.9480012022843403,
          0.9483173076923077,
          0.9434874584466606,
          0.9263028060437867,
          0.9543297746144721,
          0.9444779722389861,
          0.9544235924932976,
          0.9576797869192069,
          0.9562389118864577,
          0.9571683521713267,
          0.9559523809523811,
          0.9534883720930233,
          0.922552664188352,
          0.9474954737477369,
          0.9476849067949489,
          0.9569093610698366
         ],
         "yaxis": "y7"
        }
       ],
       "layout": {
        "template": {
         "data": {
          "bar": [
           {
            "error_x": {
             "color": "#2a3f5f"
            },
            "error_y": {
             "color": "#2a3f5f"
            },
            "marker": {
             "line": {
              "color": "#E5ECF6",
              "width": 0.5
             },
             "pattern": {
              "fillmode": "overlay",
              "size": 10,
              "solidity": 0.2
             }
            },
            "type": "bar"
           }
          ],
          "barpolar": [
           {
            "marker": {
             "line": {
              "color": "#E5ECF6",
              "width": 0.5
             },
             "pattern": {
              "fillmode": "overlay",
              "size": 10,
              "solidity": 0.2
             }
            },
            "type": "barpolar"
           }
          ],
          "carpet": [
           {
            "aaxis": {
             "endlinecolor": "#2a3f5f",
             "gridcolor": "white",
             "linecolor": "white",
             "minorgridcolor": "white",
             "startlinecolor": "#2a3f5f"
            },
            "baxis": {
             "endlinecolor": "#2a3f5f",
             "gridcolor": "white",
             "linecolor": "white",
             "minorgridcolor": "white",
             "startlinecolor": "#2a3f5f"
            },
            "type": "carpet"
           }
          ],
          "choropleth": [
           {
            "colorbar": {
             "outlinewidth": 0,
             "ticks": ""
            },
            "type": "choropleth"
           }
          ],
          "contour": [
           {
            "colorbar": {
             "outlinewidth": 0,
             "ticks": ""
            },
            "colorscale": [
             [
              0,
              "#0d0887"
             ],
             [
              0.1111111111111111,
              "#46039f"
             ],
             [
              0.2222222222222222,
              "#7201a8"
             ],
             [
              0.3333333333333333,
              "#9c179e"
             ],
             [
              0.4444444444444444,
              "#bd3786"
             ],
             [
              0.5555555555555556,
              "#d8576b"
             ],
             [
              0.6666666666666666,
              "#ed7953"
             ],
             [
              0.7777777777777778,
              "#fb9f3a"
             ],
             [
              0.8888888888888888,
              "#fdca26"
             ],
             [
              1,
              "#f0f921"
             ]
            ],
            "type": "contour"
           }
          ],
          "contourcarpet": [
           {
            "colorbar": {
             "outlinewidth": 0,
             "ticks": ""
            },
            "type": "contourcarpet"
           }
          ],
          "heatmap": [
           {
            "colorbar": {
             "outlinewidth": 0,
             "ticks": ""
            },
            "colorscale": [
             [
              0,
              "#0d0887"
             ],
             [
              0.1111111111111111,
              "#46039f"
             ],
             [
              0.2222222222222222,
              "#7201a8"
             ],
             [
              0.3333333333333333,
              "#9c179e"
             ],
             [
              0.4444444444444444,
              "#bd3786"
             ],
             [
              0.5555555555555556,
              "#d8576b"
             ],
             [
              0.6666666666666666,
              "#ed7953"
             ],
             [
              0.7777777777777778,
              "#fb9f3a"
             ],
             [
              0.8888888888888888,
              "#fdca26"
             ],
             [
              1,
              "#f0f921"
             ]
            ],
            "type": "heatmap"
           }
          ],
          "heatmapgl": [
           {
            "colorbar": {
             "outlinewidth": 0,
             "ticks": ""
            },
            "colorscale": [
             [
              0,
              "#0d0887"
             ],
             [
              0.1111111111111111,
              "#46039f"
             ],
             [
              0.2222222222222222,
              "#7201a8"
             ],
             [
              0.3333333333333333,
              "#9c179e"
             ],
             [
              0.4444444444444444,
              "#bd3786"
             ],
             [
              0.5555555555555556,
              "#d8576b"
             ],
             [
              0.6666666666666666,
              "#ed7953"
             ],
             [
              0.7777777777777778,
              "#fb9f3a"
             ],
             [
              0.8888888888888888,
              "#fdca26"
             ],
             [
              1,
              "#f0f921"
             ]
            ],
            "type": "heatmapgl"
           }
          ],
          "histogram": [
           {
            "marker": {
             "pattern": {
              "fillmode": "overlay",
              "size": 10,
              "solidity": 0.2
             }
            },
            "type": "histogram"
           }
          ],
          "histogram2d": [
           {
            "colorbar": {
             "outlinewidth": 0,
             "ticks": ""
            },
            "colorscale": [
             [
              0,
              "#0d0887"
             ],
             [
              0.1111111111111111,
              "#46039f"
             ],
             [
              0.2222222222222222,
              "#7201a8"
             ],
             [
              0.3333333333333333,
              "#9c179e"
             ],
             [
              0.4444444444444444,
              "#bd3786"
             ],
             [
              0.5555555555555556,
              "#d8576b"
             ],
             [
              0.6666666666666666,
              "#ed7953"
             ],
             [
              0.7777777777777778,
              "#fb9f3a"
             ],
             [
              0.8888888888888888,
              "#fdca26"
             ],
             [
              1,
              "#f0f921"
             ]
            ],
            "type": "histogram2d"
           }
          ],
          "histogram2dcontour": [
           {
            "colorbar": {
             "outlinewidth": 0,
             "ticks": ""
            },
            "colorscale": [
             [
              0,
              "#0d0887"
             ],
             [
              0.1111111111111111,
              "#46039f"
             ],
             [
              0.2222222222222222,
              "#7201a8"
             ],
             [
              0.3333333333333333,
              "#9c179e"
             ],
             [
              0.4444444444444444,
              "#bd3786"
             ],
             [
              0.5555555555555556,
              "#d8576b"
             ],
             [
              0.6666666666666666,
              "#ed7953"
             ],
             [
              0.7777777777777778,
              "#fb9f3a"
             ],
             [
              0.8888888888888888,
              "#fdca26"
             ],
             [
              1,
              "#f0f921"
             ]
            ],
            "type": "histogram2dcontour"
           }
          ],
          "mesh3d": [
           {
            "colorbar": {
             "outlinewidth": 0,
             "ticks": ""
            },
            "type": "mesh3d"
           }
          ],
          "parcoords": [
           {
            "line": {
             "colorbar": {
              "outlinewidth": 0,
              "ticks": ""
             }
            },
            "type": "parcoords"
           }
          ],
          "pie": [
           {
            "automargin": true,
            "type": "pie"
           }
          ],
          "scatter": [
           {
            "fillpattern": {
             "fillmode": "overlay",
             "size": 10,
             "solidity": 0.2
            },
            "type": "scatter"
           }
          ],
          "scatter3d": [
           {
            "line": {
             "colorbar": {
              "outlinewidth": 0,
              "ticks": ""
             }
            },
            "marker": {
             "colorbar": {
              "outlinewidth": 0,
              "ticks": ""
             }
            },
            "type": "scatter3d"
           }
          ],
          "scattercarpet": [
           {
            "marker": {
             "colorbar": {
              "outlinewidth": 0,
              "ticks": ""
             }
            },
            "type": "scattercarpet"
           }
          ],
          "scattergeo": [
           {
            "marker": {
             "colorbar": {
              "outlinewidth": 0,
              "ticks": ""
             }
            },
            "type": "scattergeo"
           }
          ],
          "scattergl": [
           {
            "marker": {
             "colorbar": {
              "outlinewidth": 0,
              "ticks": ""
             }
            },
            "type": "scattergl"
           }
          ],
          "scattermapbox": [
           {
            "marker": {
             "colorbar": {
              "outlinewidth": 0,
              "ticks": ""
             }
            },
            "type": "scattermapbox"
           }
          ],
          "scatterpolar": [
           {
            "marker": {
             "colorbar": {
              "outlinewidth": 0,
              "ticks": ""
             }
            },
            "type": "scatterpolar"
           }
          ],
          "scatterpolargl": [
           {
            "marker": {
             "colorbar": {
              "outlinewidth": 0,
              "ticks": ""
             }
            },
            "type": "scatterpolargl"
           }
          ],
          "scatterternary": [
           {
            "marker": {
             "colorbar": {
              "outlinewidth": 0,
              "ticks": ""
             }
            },
            "type": "scatterternary"
           }
          ],
          "surface": [
           {
            "colorbar": {
             "outlinewidth": 0,
             "ticks": ""
            },
            "colorscale": [
             [
              0,
              "#0d0887"
             ],
             [
              0.1111111111111111,
              "#46039f"
             ],
             [
              0.2222222222222222,
              "#7201a8"
             ],
             [
              0.3333333333333333,
              "#9c179e"
             ],
             [
              0.4444444444444444,
              "#bd3786"
             ],
             [
              0.5555555555555556,
              "#d8576b"
             ],
             [
              0.6666666666666666,
              "#ed7953"
             ],
             [
              0.7777777777777778,
              "#fb9f3a"
             ],
             [
              0.8888888888888888,
              "#fdca26"
             ],
             [
              1,
              "#f0f921"
             ]
            ],
            "type": "surface"
           }
          ],
          "table": [
           {
            "cells": {
             "fill": {
              "color": "#EBF0F8"
             },
             "line": {
              "color": "white"
             }
            },
            "header": {
             "fill": {
              "color": "#C8D4E3"
             },
             "line": {
              "color": "white"
             }
            },
            "type": "table"
           }
          ]
         },
         "layout": {
          "annotationdefaults": {
           "arrowcolor": "#2a3f5f",
           "arrowhead": 0,
           "arrowwidth": 1
          },
          "autotypenumbers": "strict",
          "coloraxis": {
           "colorbar": {
            "outlinewidth": 0,
            "ticks": ""
           }
          },
          "colorscale": {
           "diverging": [
            [
             0,
             "#8e0152"
            ],
            [
             0.1,
             "#c51b7d"
            ],
            [
             0.2,
             "#de77ae"
            ],
            [
             0.3,
             "#f1b6da"
            ],
            [
             0.4,
             "#fde0ef"
            ],
            [
             0.5,
             "#f7f7f7"
            ],
            [
             0.6,
             "#e6f5d0"
            ],
            [
             0.7,
             "#b8e186"
            ],
            [
             0.8,
             "#7fbc41"
            ],
            [
             0.9,
             "#4d9221"
            ],
            [
             1,
             "#276419"
            ]
           ],
           "sequential": [
            [
             0,
             "#0d0887"
            ],
            [
             0.1111111111111111,
             "#46039f"
            ],
            [
             0.2222222222222222,
             "#7201a8"
            ],
            [
             0.3333333333333333,
             "#9c179e"
            ],
            [
             0.4444444444444444,
             "#bd3786"
            ],
            [
             0.5555555555555556,
             "#d8576b"
            ],
            [
             0.6666666666666666,
             "#ed7953"
            ],
            [
             0.7777777777777778,
             "#fb9f3a"
            ],
            [
             0.8888888888888888,
             "#fdca26"
            ],
            [
             1,
             "#f0f921"
            ]
           ],
           "sequentialminus": [
            [
             0,
             "#0d0887"
            ],
            [
             0.1111111111111111,
             "#46039f"
            ],
            [
             0.2222222222222222,
             "#7201a8"
            ],
            [
             0.3333333333333333,
             "#9c179e"
            ],
            [
             0.4444444444444444,
             "#bd3786"
            ],
            [
             0.5555555555555556,
             "#d8576b"
            ],
            [
             0.6666666666666666,
             "#ed7953"
            ],
            [
             0.7777777777777778,
             "#fb9f3a"
            ],
            [
             0.8888888888888888,
             "#fdca26"
            ],
            [
             1,
             "#f0f921"
            ]
           ]
          },
          "colorway": [
           "#636efa",
           "#EF553B",
           "#00cc96",
           "#ab63fa",
           "#FFA15A",
           "#19d3f3",
           "#FF6692",
           "#B6E880",
           "#FF97FF",
           "#FECB52"
          ],
          "font": {
           "color": "#2a3f5f"
          },
          "geo": {
           "bgcolor": "white",
           "lakecolor": "white",
           "landcolor": "#E5ECF6",
           "showlakes": true,
           "showland": true,
           "subunitcolor": "white"
          },
          "hoverlabel": {
           "align": "left"
          },
          "hovermode": "closest",
          "mapbox": {
           "style": "light"
          },
          "paper_bgcolor": "white",
          "plot_bgcolor": "#E5ECF6",
          "polar": {
           "angularaxis": {
            "gridcolor": "white",
            "linecolor": "white",
            "ticks": ""
           },
           "bgcolor": "#E5ECF6",
           "radialaxis": {
            "gridcolor": "white",
            "linecolor": "white",
            "ticks": ""
           }
          },
          "scene": {
           "xaxis": {
            "backgroundcolor": "#E5ECF6",
            "gridcolor": "white",
            "gridwidth": 2,
            "linecolor": "white",
            "showbackground": true,
            "ticks": "",
            "zerolinecolor": "white"
           },
           "yaxis": {
            "backgroundcolor": "#E5ECF6",
            "gridcolor": "white",
            "gridwidth": 2,
            "linecolor": "white",
            "showbackground": true,
            "ticks": "",
            "zerolinecolor": "white"
           },
           "zaxis": {
            "backgroundcolor": "#E5ECF6",
            "gridcolor": "white",
            "gridwidth": 2,
            "linecolor": "white",
            "showbackground": true,
            "ticks": "",
            "zerolinecolor": "white"
           }
          },
          "shapedefaults": {
           "line": {
            "color": "#2a3f5f"
           }
          },
          "ternary": {
           "aaxis": {
            "gridcolor": "white",
            "linecolor": "white",
            "ticks": ""
           },
           "baxis": {
            "gridcolor": "white",
            "linecolor": "white",
            "ticks": ""
           },
           "bgcolor": "#E5ECF6",
           "caxis": {
            "gridcolor": "white",
            "linecolor": "white",
            "ticks": ""
           }
          },
          "title": {
           "x": 0.05
          },
          "xaxis": {
           "automargin": true,
           "gridcolor": "white",
           "linecolor": "white",
           "ticks": "",
           "title": {
            "standoff": 15
           },
           "zerolinecolor": "white",
           "zerolinewidth": 2
          },
          "yaxis": {
           "automargin": true,
           "gridcolor": "white",
           "linecolor": "white",
           "ticks": "",
           "title": {
            "standoff": 15
           },
           "zerolinecolor": "white",
           "zerolinewidth": 2
          }
         }
        },
        "title": {
         "text": "Slice Plot"
        },
        "width": 2100,
        "xaxis": {
         "anchor": "y",
         "domain": [
          0,
          0.1183673469387755
         ],
         "title": {
          "text": "colsample_bytree"
         }
        },
        "xaxis2": {
         "anchor": "y2",
         "domain": [
          0.14693877551020407,
          0.26530612244897955
         ],
         "title": {
          "text": "gamma"
         }
        },
        "xaxis3": {
         "anchor": "y3",
         "domain": [
          0.29387755102040813,
          0.4122448979591836
         ],
         "title": {
          "text": "learning_rate"
         },
         "type": "log"
        },
        "xaxis4": {
         "anchor": "y4",
         "domain": [
          0.4408163265306122,
          0.5591836734693877
         ],
         "title": {
          "text": "max_depth"
         }
        },
        "xaxis5": {
         "anchor": "y5",
         "domain": [
          0.5877551020408163,
          0.7061224489795918
         ],
         "title": {
          "text": "min_child_weight"
         }
        },
        "xaxis6": {
         "anchor": "y6",
         "domain": [
          0.7346938775510204,
          0.8530612244897959
         ],
         "title": {
          "text": "n_estimators"
         }
        },
        "xaxis7": {
         "anchor": "y7",
         "domain": [
          0.8816326530612244,
          0.9999999999999999
         ],
         "title": {
          "text": "subsample"
         }
        },
        "yaxis": {
         "anchor": "x",
         "domain": [
          0,
          1
         ],
         "title": {
          "text": "Objective Value"
         }
        },
        "yaxis2": {
         "anchor": "x2",
         "domain": [
          0,
          1
         ],
         "matches": "y",
         "showticklabels": false
        },
        "yaxis3": {
         "anchor": "x3",
         "domain": [
          0,
          1
         ],
         "matches": "y",
         "showticklabels": false
        },
        "yaxis4": {
         "anchor": "x4",
         "domain": [
          0,
          1
         ],
         "matches": "y",
         "showticklabels": false
        },
        "yaxis5": {
         "anchor": "x5",
         "domain": [
          0,
          1
         ],
         "matches": "y",
         "showticklabels": false
        },
        "yaxis6": {
         "anchor": "x6",
         "domain": [
          0,
          1
         ],
         "matches": "y",
         "showticklabels": false
        },
        "yaxis7": {
         "anchor": "x7",
         "domain": [
          0,
          1
         ],
         "matches": "y",
         "showticklabels": false
        }
       }
      }
     },
     "metadata": {},
     "output_type": "display_data"
    }
   ],
   "source": [
    "optuna.visualization.plot_slice(study)"
   ]
  },
  {
   "cell_type": "code",
   "execution_count": 25,
   "metadata": {},
   "outputs": [
    {
     "data": {
      "text/html": [
       "<style>#sk-container-id-2 {color: black;}#sk-container-id-2 pre{padding: 0;}#sk-container-id-2 div.sk-toggleable {background-color: white;}#sk-container-id-2 label.sk-toggleable__label {cursor: pointer;display: block;width: 100%;margin-bottom: 0;padding: 0.3em;box-sizing: border-box;text-align: center;}#sk-container-id-2 label.sk-toggleable__label-arrow:before {content: \"▸\";float: left;margin-right: 0.25em;color: #696969;}#sk-container-id-2 label.sk-toggleable__label-arrow:hover:before {color: black;}#sk-container-id-2 div.sk-estimator:hover label.sk-toggleable__label-arrow:before {color: black;}#sk-container-id-2 div.sk-toggleable__content {max-height: 0;max-width: 0;overflow: hidden;text-align: left;background-color: #f0f8ff;}#sk-container-id-2 div.sk-toggleable__content pre {margin: 0.2em;color: black;border-radius: 0.25em;background-color: #f0f8ff;}#sk-container-id-2 input.sk-toggleable__control:checked~div.sk-toggleable__content {max-height: 200px;max-width: 100%;overflow: auto;}#sk-container-id-2 input.sk-toggleable__control:checked~label.sk-toggleable__label-arrow:before {content: \"▾\";}#sk-container-id-2 div.sk-estimator input.sk-toggleable__control:checked~label.sk-toggleable__label {background-color: #d4ebff;}#sk-container-id-2 div.sk-label input.sk-toggleable__control:checked~label.sk-toggleable__label {background-color: #d4ebff;}#sk-container-id-2 input.sk-hidden--visually {border: 0;clip: rect(1px 1px 1px 1px);clip: rect(1px, 1px, 1px, 1px);height: 1px;margin: -1px;overflow: hidden;padding: 0;position: absolute;width: 1px;}#sk-container-id-2 div.sk-estimator {font-family: monospace;background-color: #f0f8ff;border: 1px dotted black;border-radius: 0.25em;box-sizing: border-box;margin-bottom: 0.5em;}#sk-container-id-2 div.sk-estimator:hover {background-color: #d4ebff;}#sk-container-id-2 div.sk-parallel-item::after {content: \"\";width: 100%;border-bottom: 1px solid gray;flex-grow: 1;}#sk-container-id-2 div.sk-label:hover label.sk-toggleable__label {background-color: #d4ebff;}#sk-container-id-2 div.sk-serial::before {content: \"\";position: absolute;border-left: 1px solid gray;box-sizing: border-box;top: 0;bottom: 0;left: 50%;z-index: 0;}#sk-container-id-2 div.sk-serial {display: flex;flex-direction: column;align-items: center;background-color: white;padding-right: 0.2em;padding-left: 0.2em;position: relative;}#sk-container-id-2 div.sk-item {position: relative;z-index: 1;}#sk-container-id-2 div.sk-parallel {display: flex;align-items: stretch;justify-content: center;background-color: white;position: relative;}#sk-container-id-2 div.sk-item::before, #sk-container-id-2 div.sk-parallel-item::before {content: \"\";position: absolute;border-left: 1px solid gray;box-sizing: border-box;top: 0;bottom: 0;left: 50%;z-index: -1;}#sk-container-id-2 div.sk-parallel-item {display: flex;flex-direction: column;z-index: 1;position: relative;background-color: white;}#sk-container-id-2 div.sk-parallel-item:first-child::after {align-self: flex-end;width: 50%;}#sk-container-id-2 div.sk-parallel-item:last-child::after {align-self: flex-start;width: 50%;}#sk-container-id-2 div.sk-parallel-item:only-child::after {width: 0;}#sk-container-id-2 div.sk-dashed-wrapped {border: 1px dashed gray;margin: 0 0.4em 0.5em 0.4em;box-sizing: border-box;padding-bottom: 0.4em;background-color: white;}#sk-container-id-2 div.sk-label label {font-family: monospace;font-weight: bold;display: inline-block;line-height: 1.2em;}#sk-container-id-2 div.sk-label-container {text-align: center;}#sk-container-id-2 div.sk-container {/* jupyter's `normalize.less` sets `[hidden] { display: none; }` but bootstrap.min.css set `[hidden] { display: none !important; }` so we also need the `!important` here to be able to override the default hidden behavior on the sphinx rendered scikit-learn.org. See: https://github.com/scikit-learn/scikit-learn/issues/21755 */display: inline-block !important;position: relative;}#sk-container-id-2 div.sk-text-repr-fallback {display: none;}</style><div id=\"sk-container-id-2\" class=\"sk-top-container\"><div class=\"sk-text-repr-fallback\"><pre>XGBClassifier(base_score=None, booster=None, callbacks=None,\n",
       "              colsample_bylevel=None, colsample_bynode=None,\n",
       "              colsample_bytree=0.8, early_stopping_rounds=None,\n",
       "              enable_categorical=False, eval_metric=None, feature_types=None,\n",
       "              gamma=1, gpu_id=None, grow_policy=None, importance_type=None,\n",
       "              interaction_constraints=None, learning_rate=0.041862692807856414,\n",
       "              max_bin=None, max_cat_threshold=None, max_cat_to_onehot=None,\n",
       "              max_delta_step=None, max_depth=10, max_leaves=None,\n",
       "              min_child_weight=5, missing=nan, monotone_constraints=None,\n",
       "              n_estimators=656, n_jobs=None, num_parallel_tree=None,\n",
       "              predictor=None, random_state=None, ...)</pre><b>In a Jupyter environment, please rerun this cell to show the HTML representation or trust the notebook. <br />On GitHub, the HTML representation is unable to render, please try loading this page with nbviewer.org.</b></div><div class=\"sk-container\" hidden><div class=\"sk-item\"><div class=\"sk-estimator sk-toggleable\"><input class=\"sk-toggleable__control sk-hidden--visually\" id=\"sk-estimator-id-2\" type=\"checkbox\" checked><label for=\"sk-estimator-id-2\" class=\"sk-toggleable__label sk-toggleable__label-arrow\">XGBClassifier</label><div class=\"sk-toggleable__content\"><pre>XGBClassifier(base_score=None, booster=None, callbacks=None,\n",
       "              colsample_bylevel=None, colsample_bynode=None,\n",
       "              colsample_bytree=0.8, early_stopping_rounds=None,\n",
       "              enable_categorical=False, eval_metric=None, feature_types=None,\n",
       "              gamma=1, gpu_id=None, grow_policy=None, importance_type=None,\n",
       "              interaction_constraints=None, learning_rate=0.041862692807856414,\n",
       "              max_bin=None, max_cat_threshold=None, max_cat_to_onehot=None,\n",
       "              max_delta_step=None, max_depth=10, max_leaves=None,\n",
       "              min_child_weight=5, missing=nan, monotone_constraints=None,\n",
       "              n_estimators=656, n_jobs=None, num_parallel_tree=None,\n",
       "              predictor=None, random_state=None, ...)</pre></div></div></div></div></div>"
      ],
      "text/plain": [
       "XGBClassifier(base_score=None, booster=None, callbacks=None,\n",
       "              colsample_bylevel=None, colsample_bynode=None,\n",
       "              colsample_bytree=0.8, early_stopping_rounds=None,\n",
       "              enable_categorical=False, eval_metric=None, feature_types=None,\n",
       "              gamma=1, gpu_id=None, grow_policy=None, importance_type=None,\n",
       "              interaction_constraints=None, learning_rate=0.041862692807856414,\n",
       "              max_bin=None, max_cat_threshold=None, max_cat_to_onehot=None,\n",
       "              max_delta_step=None, max_depth=10, max_leaves=None,\n",
       "              min_child_weight=5, missing=nan, monotone_constraints=None,\n",
       "              n_estimators=656, n_jobs=None, num_parallel_tree=None,\n",
       "              predictor=None, random_state=None, ...)"
      ]
     },
     "execution_count": 25,
     "metadata": {},
     "output_type": "execute_result"
    }
   ],
   "source": [
    "model_best_params = XGBClassifier(**study.best_params)\n",
    "model_best_params.fit(X_train, y_train)"
   ]
  },
  {
   "cell_type": "code",
   "execution_count": 26,
   "metadata": {},
   "outputs": [
    {
     "name": "stdout",
     "output_type": "stream",
     "text": [
      "Results with best params on test data:\n",
      "Accuracy:  0.9986391796879663\n",
      "MSE:  0.00136082031203371\n",
      "Precision:  0.9593160377358491\n",
      "Recall:  0.9730861244019139\n",
      "F1:  0.9661520190023754\n",
      "Log Loss:  0.049048935651813515\n",
      "ROC AUC:  0.9861228480744543\n"
     ]
    }
   ],
   "source": [
    "print('Results with best params on test data:')\n",
    "y_pred2 = model_best_params.predict(X_test)\n",
    "print('Accuracy: ', accuracy_score(y_test, y_pred2))\n",
    "print('MSE: ', mean_squared_error(y_test, y_pred2))\n",
    "print('Precision: ', precision_score(y_test, y_pred2))\n",
    "print('Recall: ', recall_score(y_test, y_pred2))\n",
    "print('F1: ', f1_score(y_test, y_pred2))\n",
    "print('Log Loss: ', log_loss(y_test, y_pred2))\n",
    "print('ROC AUC: ', roc_auc_score(y_test, y_pred2))"
   ]
  },
  {
   "cell_type": "code",
   "execution_count": 27,
   "metadata": {},
   "outputs": [],
   "source": [
    "y_pred = model_best_params.predict(X_val)"
   ]
  },
  {
   "cell_type": "code",
   "execution_count": 28,
   "metadata": {},
   "outputs": [
    {
     "name": "stdout",
     "output_type": "stream",
     "text": [
      "Results with best params on validation data:\n",
      "Accuracy:  0.9986033686271233\n",
      "MSE:  0.0013966313728767026\n",
      "Precision:  0.9583333333333334\n",
      "Recall:  0.9706422018348624\n",
      "F1:  0.9644484958979033\n",
      "Log Loss:  0.050339697116334924\n",
      "ROC AUC:  0.98490107608118\n"
     ]
    }
   ],
   "source": [
    "print('Results with best params on validation data:')\n",
    "print('Accuracy: ', accuracy_score(y_val, y_pred))\n",
    "print('MSE: ', mean_squared_error(y_val, y_pred))\n",
    "print('Precision: ', precision_score(y_val, y_pred))\n",
    "print('Recall: ', recall_score(y_val, y_pred))\n",
    "print('F1: ', f1_score(y_val, y_pred))\n",
    "print('Log Loss: ', log_loss(y_val, y_pred))\n",
    "print('ROC AUC: ', roc_auc_score(y_val, y_pred))"
   ]
  },
  {
   "cell_type": "code",
   "execution_count": 29,
   "metadata": {},
   "outputs": [
    {
     "name": "stdout",
     "output_type": "stream",
     "text": [
      "[[82069    69]\n",
      " [   48  1587]]\n"
     ]
    },
    {
     "data": {
      "image/png": "[encoded data removed]",
      "text/plain": [
       "<Figure size 640x480 with 2 Axes>"
      ]
     },
     "metadata": {},
     "output_type": "display_data"
    }
   ],
   "source": [
    "# Confusion Matrix on validation data\n",
    "sns.heatmap(confusion_matrix(y_val, y_pred, normalize='true'), annot=True)\n",
    "print(confusion_matrix(y_val, y_pred))"
   ]
  },
  {
   "cell_type": "markdown",
   "metadata": {},
   "source": [
    "## not sure about this"
   ]
  },
  {
   "cell_type": "code",
   "execution_count": 30,
   "metadata": {},
   "outputs": [],
   "source": [
    "# test predictions on full dataset\n",
    "\n",
    "df_full = pd.read_csv('./data/PS_20174392719_1491204439457_log.csv')\n",
    "\n",
    "#df_full = df_full.sample(n=100000)\n",
    "\n",
    "# copy first letter of nameDest and to new column\n",
    "df_full['nameOrig_first'] = df_full['nameOrig'].str[0]\n",
    "df_full['nameDest_first'] = df_full['nameDest'].str[0]\n",
    "\n",
    "# split data into train, test and validation sets\n",
    "X_full = df_full.drop(['step','nameOrig','nameDest','isFraud', 'isFlaggedFraud'], axis=1)\n",
    "y_full = df_full['isFraud']\n",
    "\n",
    "# encode categorical data\n",
    "le = LabelEncoder()\n",
    "columns_to_encode = ['type', 'nameDest_first', 'nameOrig_first']\n",
    "X_full[columns_to_encode] = X_full[columns_to_encode].apply(lambda col: le.fit_transform(col))"
   ]
  },
  {
   "cell_type": "code",
   "execution_count": 31,
   "metadata": {},
   "outputs": [
    {
     "name": "stdout",
     "output_type": "stream",
     "text": [
      "Results with best params on full data:\n",
      "Accuracy:  0.9991714105195658\n",
      "MSE:  0.0008285894804341608\n",
      "Precision:  0.6110397946084724\n",
      "Recall:  0.9852672592231828\n",
      "F1:  0.7542878448918718\n",
      "Log Loss:  0.029865392034637995\n",
      "ROC AUC:  0.9922283203514196\n"
     ]
    }
   ],
   "source": [
    "print('Results with best params on full data:')\n",
    "y_pred_full = model_best_params.predict(X_full)\n",
    "print('Accuracy: ', accuracy_score(y_full, y_pred_full))\n",
    "print('MSE: ', mean_squared_error(y_full, y_pred_full))\n",
    "print('Precision: ', precision_score(y_full, y_pred_full))\n",
    "print('Recall: ', recall_score(y_full, y_pred_full))\n",
    "print('F1: ', f1_score(y_full, y_pred_full))\n",
    "print('Log Loss: ', log_loss(y_full, y_pred_full))\n",
    "print('ROC AUC: ', roc_auc_score(y_full, y_pred_full))"
   ]
  },
  {
   "cell_type": "code",
   "execution_count": 32,
   "metadata": {},
   "outputs": [
    {
     "name": "stdout",
     "output_type": "stream",
     "text": [
      "[[6349256    5151]\n",
      " [    121    8092]]\n"
     ]
    },
    {
     "data": {
      "image/png": "[encoded data removed]",
      "text/plain": [
       "<Figure size 640x480 with 2 Axes>"
      ]
     },
     "metadata": {},
     "output_type": "display_data"
    }
   ],
   "source": [
    "# Confusion Matrix on validation data\n",
    "sns.heatmap(confusion_matrix(y_full, y_pred_full, normalize='true'), annot=True)\n",
    "print(confusion_matrix(y_full, y_pred_full))"
   ]
  },
  {
   "cell_type": "code",
   "execution_count": null,
   "metadata": {},
   "outputs": [],
   "source": [
    "\"1,PAYMENT,9839.64,C1231006815,170136.0,160296.36,M1979787155,0.0,0.0,0,0\""
   ]
  },
  {
   "cell_type": "code",
   "execution_count": 38,
   "metadata": {},
   "outputs": [
    {
     "name": "stdout",
     "output_type": "stream",
     "text": [
      "The model predicts that the transaction is fraudulent.\n"
     ]
    }
   ],
   "source": [
    "# create fictional transaction to test the model: type, amount, oldbalanceOrg, newbalanceOrig, oldbalanceDest, newbalanceDest, nameOrig_first, nameDest_first\n",
    "to_test = {\n",
    "    'type': 5,\n",
    "    'amount': 254,\n",
    "    'oldbalanceOrg': 254,\n",
    "    'newbalanceOrig': 0,\n",
    "    'oldbalanceDest': 0,\n",
    "    'newbalanceDest': 0,\n",
    "    'nameOrig_first': 0,\n",
    "    'nameDest_first': 0\n",
    "}\n",
    "to_test = pd.DataFrame([to_test])\n",
    "\n",
    "skuska = model_best_params.predict(to_test)\n",
    "\n",
    "# Interpret the prediction\n",
    "if skuska[0] == 1:\n",
    "    print(\"The model predicts that the transaction is fraudulent.\")\n",
    "else:\n",
    "    print(\"The model predicts that the transaction is not fraudulent.\")"
   ]
  }
 ],
 "metadata": {
  "kernelspec": {
   "display_name": "SDAkurz",
   "language": "python",
   "name": "python3"
  },
  "language_info": {
   "codemirror_mode": {
    "name": "ipython",
    "version": 3
   },
   "file_extension": ".py",
   "mimetype": "text/x-python",
   "name": "python",
   "nbconvert_exporter": "python",
   "pygments_lexer": "ipython3",
   "version": "3.10.12"
  }
 },
 "nbformat": 4,
 "nbformat_minor": 2
}
